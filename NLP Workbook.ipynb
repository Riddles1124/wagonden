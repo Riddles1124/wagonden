{
 "cells": [
  {
   "cell_type": "code",
   "execution_count": 1,
   "id": "e9232018",
   "metadata": {},
   "outputs": [],
   "source": [
    "import requests\n",
    "from bs4 import BeautifulSoup as bs\n",
    "import numpy as np\n",
    "import pandas as pd\n",
    "import time\n",
    "import spacy\n"
   ]
  },
  {
   "cell_type": "code",
   "execution_count": 2,
   "id": "65edb2eb",
   "metadata": {},
   "outputs": [],
   "source": [
    "nlp = spacy.load('en_core_web_sm')"
   ]
  },
  {
   "cell_type": "code",
   "execution_count": 120,
   "id": "b700f4ac",
   "metadata": {},
   "outputs": [],
   "source": [
    "genre_list = [\"Alternative\", \"Blues\",\"Childrens-Music\",\"Christian-Gospel\",\"Classical\",\"Country\",\"Dance\",\"Easy-Listening\",\"Electronic\",\"Folk\",\"Hip-Hop-Rap\",\"Jazz\",\"Opera\",\"Pop\",\"R-B-Soul\",\"Reggae\",\"Rock\",\"Singer-Songwriter\",\"Soundtrack\",\"World\"]"
   ]
  },
  {
   "cell_type": "code",
   "execution_count": 131,
   "id": "677d3356",
   "metadata": {},
   "outputs": [],
   "source": [
    "def genre_url_list_maker(genre_list, numpages):\n",
    "    url_list = []\n",
    "    for genre in genre_list:\n",
    "        for page in range(1,numpages+1):\n",
    "            url = f\"http://webcache.googleusercontent.com/search?q=cache:https://www.musixmatch.com/explore/genre/{genre}/{page}\"\n",
    "            url_list.append(url)\n",
    "    return url_list\n",
    "    "
   ]
  },
  {
   "cell_type": "code",
   "execution_count": 113,
   "id": "c0d65bb2",
   "metadata": {},
   "outputs": [
    {
     "name": "stdout",
     "output_type": "stream",
     "text": [
      "[1, 2]\n"
     ]
    }
   ],
   "source": [
    "print([val for val in range(1,3)])"
   ]
  },
  {
   "cell_type": "code",
   "execution_count": 122,
   "id": "d3e95eeb",
   "metadata": {},
   "outputs": [],
   "source": [
    "genre_url_list = genre_url_list_maker(genres,3)"
   ]
  },
  {
   "cell_type": "code",
   "execution_count": 175,
   "id": "89bf6727",
   "metadata": {},
   "outputs": [
    {
     "data": {
      "text/plain": [
       "'http://webcache.googleusercontent.com/search?q=cache:https://www.musixmatch.com/explore/genre/Alternative/1'"
      ]
     },
     "execution_count": 175,
     "metadata": {},
     "output_type": "execute_result"
    }
   ],
   "source": [
    "genre_url_list[0]"
   ]
  },
  {
   "cell_type": "code",
   "execution_count": 58,
   "id": "9ba6df96",
   "metadata": {},
   "outputs": [],
   "source": [
    "response = requests.get('http://webcache.googleusercontent.com/search?q=cache:https://www.musixmatch.com/explore/genre/Alternative')\n",
    "\n",
    "page_html = response.text"
   ]
  },
  {
   "cell_type": "code",
   "execution_count": 59,
   "id": "f3d35983",
   "metadata": {},
   "outputs": [],
   "source": [
    "soup = bs(page_html)"
   ]
  },
  {
   "cell_type": "code",
   "execution_count": 170,
   "id": "81063452",
   "metadata": {},
   "outputs": [
    {
     "data": {
      "text/plain": [
       "'/lyrics/Billie-Eilish-2/bad-guy'"
      ]
     },
     "execution_count": 170,
     "metadata": {},
     "output_type": "execute_result"
    }
   ],
   "source": [
    "soup.find_all('a')[20]['href']"
   ]
  },
  {
   "cell_type": "code",
   "execution_count": 174,
   "id": "64d6c490",
   "metadata": {},
   "outputs": [
    {
     "name": "stdout",
     "output_type": "stream",
     "text": [
      "['/lyrics/Imagine-Dragons/Believer', '/lyrics/Dove-Cameron/Boyfriend', '/lyrics/Five-Times-August/Sad-Little-Man', '/lyrics/Kevin-Morby/Beautiful-Strangers', '/lyrics/Coldplay/A-Sky-Full-of-Stars', '/lyrics/Tones-and-I/Dance-Monkey', '/lyrics/Billie-Eilish-2/bad-guy', '/lyrics/The-Cranberries/Zombie', '/lyrics/Billie-Eilish-1/everything-i-wanted', '/lyrics/Rag-n-Bone-Man-2/Human', '/lyrics/Tom-Odell/Another-Love', '/lyrics/The-Snuts/Somebody-Loves-You', '/lyrics/Blyth-Road/Blood-in-My-Alcohol', '/lyrics/Jaymes-Young/Infinity', '/lyrics/Coldplay/Paradise', '/lyrics/Imagine-Dragons/Demons', '/lyrics/Coldplay/Hymn-for-the-Weekend', '/lyrics/Taylor-Swift/Wildest-Dreams-2', '/lyrics/Coldplay/Magic', '/lyrics/Jaymes-Young-PRETTY-YOUNG/Infinity-PRETTY-YOUNG-Remix', '/lyrics/Hozier/Take-Me-to-Church-EP-Version', '/lyrics/Post-Malone/Circles', '/lyrics/Capital-Cities/Safe-and-Sound-Dzeko-and-Torres-Dreamin-Remix', '/lyrics/Imagine-Dragons/Radioactive', '/lyrics/Lana-Del-Rey/Summertime-Sadness', '/lyrics/Imagine-Dragons/Follow-You', '/lyrics/AURORA-66/Cure-For-Me', '/lyrics/Milky-Chance/Colorado', '/lyrics/The-Smashing-Pumpkins/Perfect-acoustic-demo-Adore-outtake', '/lyrics/The-Killers/Caution', '/lyrics/Keane/Is-It-Any-Wonder-live', '/lyrics/Coldplay/Viva-La-Vida-Live', '/lyrics/Gotye-feat-Kimbra/Somebody-That-I-Used-to-Know', '/lyrics/Natalia-LaFourcade/Hasta-la-Ra%C3%ADz', '/lyrics/Lorde/Royals', '/lyrics/Billie-Eilish/Therefore-I-Am', '/lyrics/Coldplay/Adventure-Of-A-Lifetime', '/lyrics/Lana-Del-Rey/Young-and-Beautiful', '/lyrics/Lil-Nas-X-feat-Billy-Ray-Cyrus/Old-Town-Road-Remix', '/lyrics/Mariana-Nolasco/Pra-todas-as-mulheres']\n"
     ]
    }
   ],
   "source": [
    "\n",
    "print([val['href'] for val in soup.find_all('a') if val['href'][0:2]=='/l'])\n"
   ]
  },
  {
   "cell_type": "code",
   "execution_count": 6,
   "id": "cd158ff0",
   "metadata": {},
   "outputs": [],
   "source": [
    "song_lyrics_page = requests.get('http://www.songlyrics.com/musicgenres.php')"
   ]
  },
  {
   "cell_type": "code",
   "execution_count": 7,
   "id": "82ec8fb1",
   "metadata": {},
   "outputs": [],
   "source": [
    "html = song_lyrics_page.text"
   ]
  },
  {
   "cell_type": "code",
   "execution_count": 8,
   "id": "20d3c0b3",
   "metadata": {},
   "outputs": [
    {
     "data": {
      "text/plain": [
       "['Acoustic',\n",
       " 'Alternative',\n",
       " 'Folk',\n",
       " 'Country',\n",
       " 'Rock',\n",
       " 'Christian',\n",
       " 'R&B',\n",
       " 'Hip Hop/Rap',\n",
       " 'Dance',\n",
       " 'Latin',\n",
       " 'Blues',\n",
       " 'Electronic',\n",
       " 'Funk',\n",
       " 'Jazz',\n",
       " 'Pop',\n",
       " 'Soul',\n",
       " 'Soundtrack',\n",
       " 'Adult Contemporary',\n",
       " 'Classical',\n",
       " 'Reggae',\n",
       " 'World',\n",
       " 'New Age',\n",
       " 'African',\n",
       " 'Ska',\n",
       " 'Avant-Garde',\n",
       " \"Children's Music\",\n",
       " 'Holiday',\n",
       " 'Comedy',\n",
       " 'Musical',\n",
       " 'Vocal',\n",
       " 'Instrumental',\n",
       " 'Oldies']"
      ]
     },
     "execution_count": 8,
     "metadata": {},
     "output_type": "execute_result"
    }
   ],
   "source": [
    "sp = bs(html)\n",
    "sp.find_all('a')[92:188:3]\n",
    "new_genre_list = [val.text for val in sp.find_all('a')[92:188:3]]\n",
    "new_genre_list"
   ]
  },
  {
   "cell_type": "code",
   "execution_count": 9,
   "id": "8303b877",
   "metadata": {},
   "outputs": [],
   "source": [
    "new_genre_url_list = [val['href'] for val in sp.find_all('a')[92:188:3]]\n"
   ]
  },
  {
   "cell_type": "code",
   "execution_count": 10,
   "id": "6cb7e82d",
   "metadata": {},
   "outputs": [
    {
     "data": {
      "text/plain": [
       "['http://www.songlyrics.com/news/top-songs/all-time/',\n",
       " 'http://www.songlyrics.com/news/top-songs/2011/',\n",
       " 'http://www.songlyrics.com/news/top-songs/2000/',\n",
       " 'http://www.songlyrics.com/news/top-songs/1990/',\n",
       " 'http://www.songlyrics.com/news/top-songs/1980/',\n",
       " 'http://www.songlyrics.com/news/top-songs/1970/',\n",
       " 'http://www.songlyrics.com/news/top-songs/1960/',\n",
       " 'http://www.songlyrics.com/news/top-songs/1950/',\n",
       " '/rock-lyrics.php',\n",
       " '/r-and-b-lyrics.php',\n",
       " '/country-music-lyrics.php',\n",
       " '/hip-hop-rap-lyrics.php',\n",
       " '/pop-lyrics.php',\n",
       " '/christian-lyrics.php']"
      ]
     },
     "execution_count": 10,
     "metadata": {},
     "output_type": "execute_result"
    }
   ],
   "source": [
    "new_genres_and_urls = [val['href'] for val in sp.find_all('a')[210:224]]\n",
    "new_genres_and_urls\n",
    "genre_names = [\"All Time\", \"Tens\", \"Aughts\",\"Nineties\",\"Eighties\",\"Seventies\",\"Sixties\",\"Fifties\",\"Rock\",\"R&B\",\"Country\",\"Hip Hop/Rap\",\"Pop\",\"Christian\"]\n",
    "new_genres_and_urls"
   ]
  },
  {
   "cell_type": "code",
   "execution_count": 11,
   "id": "13ca490b",
   "metadata": {},
   "outputs": [
    {
     "data": {
      "text/plain": [
       "['http://www.songlyrics.com/news/top-genres/rock/',\n",
       " 'http://www.songlyrics.com/news/top-genres/rhythm-blues/',\n",
       " 'http://www.songlyrics.com/news/top-genres/country-music/',\n",
       " 'http://www.songlyrics.com/news/top-genres/hip-hop-rap/',\n",
       " 'http://www.songlyrics.com/news/top-genres/pop/',\n",
       " 'http://www.songlyrics.com/news/top-genres/christian/']"
      ]
     },
     "execution_count": 11,
     "metadata": {},
     "output_type": "execute_result"
    }
   ],
   "source": [
    "ng = [val['href'] for val in sp.find_all('a')[191:207:3]]\n",
    "ng\n",
    "\n",
    "ng = [ng[5],ng[4],ng[1],ng[2],ng[3],ng[0]]\n",
    "ng"
   ]
  },
  {
   "cell_type": "code",
   "execution_count": 12,
   "id": "b828df86",
   "metadata": {},
   "outputs": [
    {
     "data": {
      "text/plain": [
       "['http://www.songlyrics.com/news/top-songs/all-time/',\n",
       " 'http://www.songlyrics.com/news/top-songs/2011/',\n",
       " 'http://www.songlyrics.com/news/top-songs/2000/',\n",
       " 'http://www.songlyrics.com/news/top-songs/1990/',\n",
       " 'http://www.songlyrics.com/news/top-songs/1980/',\n",
       " 'http://www.songlyrics.com/news/top-songs/1970/',\n",
       " 'http://www.songlyrics.com/news/top-songs/1960/',\n",
       " 'http://www.songlyrics.com/news/top-songs/1950/',\n",
       " 'http://www.songlyrics.com/news/top-genres/rock/',\n",
       " 'http://www.songlyrics.com/news/top-genres/rhythm-blues/',\n",
       " 'http://www.songlyrics.com/news/top-genres/country-music/',\n",
       " 'http://www.songlyrics.com/news/top-genres/hip-hop-rap/',\n",
       " 'http://www.songlyrics.com/news/top-genres/pop/',\n",
       " 'http://www.songlyrics.com/news/top-genres/christian/']"
      ]
     },
     "execution_count": 12,
     "metadata": {},
     "output_type": "execute_result"
    }
   ],
   "source": [
    "def point_mixer(ng, new_genres_and_urls):\n",
    "    mixed_points = []\n",
    "    offset = 0\n",
    "    for ind, val in enumerate(new_genres_and_urls):\n",
    "        if val[0]=='h':\n",
    "            mixed_points.append(val)\n",
    "            offset += 1    \n",
    "        else:\n",
    "            mixed_points.append(ng[ind-offset])\n",
    "    return mixed_points\n",
    "mixed_points = point_mixer(ng,new_genres_and_urls)\n",
    "mixed_points"
   ]
  },
  {
   "cell_type": "code",
   "execution_count": 13,
   "id": "049504f8",
   "metadata": {},
   "outputs": [],
   "source": [
    "def genre_tuples_maker(genre_names, genre_urls):\n",
    "    genre_tuple_list=[]\n",
    "    for ind,name in enumerate(genre_names):\n",
    "        genre_tuple_list.append((genre_names[ind],genre_urls[ind]))\n",
    "    return genre_tuple_list\n",
    "genre_tuple_list = genre_tuples_maker(genre_names, mixed_points)"
   ]
  },
  {
   "cell_type": "code",
   "execution_count": 14,
   "id": "f8bee6ec",
   "metadata": {},
   "outputs": [
    {
     "data": {
      "text/plain": [
       "[('All Time', 'http://www.songlyrics.com/news/top-songs/all-time/'),\n",
       " ('Tens', 'http://www.songlyrics.com/news/top-songs/2011/'),\n",
       " ('Aughts', 'http://www.songlyrics.com/news/top-songs/2000/'),\n",
       " ('Nineties', 'http://www.songlyrics.com/news/top-songs/1990/'),\n",
       " ('Eighties', 'http://www.songlyrics.com/news/top-songs/1980/'),\n",
       " ('Seventies', 'http://www.songlyrics.com/news/top-songs/1970/'),\n",
       " ('Sixties', 'http://www.songlyrics.com/news/top-songs/1960/'),\n",
       " ('Fifties', 'http://www.songlyrics.com/news/top-songs/1950/'),\n",
       " ('Rock', 'http://www.songlyrics.com/news/top-genres/rock/'),\n",
       " ('R&B', 'http://www.songlyrics.com/news/top-genres/rhythm-blues/'),\n",
       " ('Country', 'http://www.songlyrics.com/news/top-genres/country-music/'),\n",
       " ('Hip Hop/Rap', 'http://www.songlyrics.com/news/top-genres/hip-hop-rap/'),\n",
       " ('Pop', 'http://www.songlyrics.com/news/top-genres/pop/'),\n",
       " ('Christian', 'http://www.songlyrics.com/news/top-genres/christian/')]"
      ]
     },
     "execution_count": 14,
     "metadata": {},
     "output_type": "execute_result"
    }
   ],
   "source": [
    "genre_tuple_list"
   ]
  },
  {
   "cell_type": "code",
   "execution_count": 15,
   "id": "37c6ed0b",
   "metadata": {},
   "outputs": [
    {
     "data": {
      "text/plain": [
       "[('All Time', 'http://www.songlyrics.com/news/top-songs/all-time/'),\n",
       " ('Tens', 'http://www.songlyrics.com/news/top-songs/2011/'),\n",
       " ('Aughts', 'http://www.songlyrics.com/news/top-songs/2000/'),\n",
       " ('Nineties', 'http://www.songlyrics.com/news/top-songs/1990/'),\n",
       " ('Eighties', 'http://www.songlyrics.com/news/top-songs/1980/'),\n",
       " ('Seventies', 'http://www.songlyrics.com/news/top-songs/1970/'),\n",
       " ('Sixties', 'http://www.songlyrics.com/news/top-songs/1960/'),\n",
       " ('Fifties', 'http://www.songlyrics.com/news/top-songs/1950/'),\n",
       " ('Rock', 'http://www.songlyrics.com/news/top-genres/rock/'),\n",
       " ('R&B', 'http://www.songlyrics.com/news/top-genres/rhythm-blues/'),\n",
       " ('Country', 'http://www.songlyrics.com/news/top-genres/country-music/'),\n",
       " ('Hip Hop/Rap', 'http://www.songlyrics.com/news/top-genres/hip-hop-rap/'),\n",
       " ('Pop', 'http://www.songlyrics.com/news/top-genres/pop/'),\n",
       " ('Christian', 'http://www.songlyrics.com/news/top-genres/christian/')]"
      ]
     },
     "execution_count": 15,
     "metadata": {},
     "output_type": "execute_result"
    }
   ],
   "source": [
    "genre_tuple_list\n",
    "cleaned_list = []\n",
    "for val in genre_tuple_list:\n",
    "    if val[1][0]=='h':\n",
    "        cleaned_list.append(val)\n",
    "    else:\n",
    "        cleaned_list.append((val[0],'http://songlyrics.com/news/top-genres'+val[1]))\n",
    "cleaned_list"
   ]
  },
  {
   "cell_type": "code",
   "execution_count": 16,
   "id": "29407087",
   "metadata": {},
   "outputs": [
    {
     "data": {
      "text/plain": [
       "[('All Time', 'http://www.songlyrics.com/news/top-songs/all-time/'),\n",
       " ('Tens', 'http://www.songlyrics.com/news/top-songs/2011/'),\n",
       " ('Aughts', 'http://www.songlyrics.com/news/top-songs/2000/'),\n",
       " ('Nineties', 'http://www.songlyrics.com/news/top-songs/1990/'),\n",
       " ('Eighties', 'http://www.songlyrics.com/news/top-songs/1980/'),\n",
       " ('Seventies', 'http://www.songlyrics.com/news/top-songs/1970/'),\n",
       " ('Sixties', 'http://www.songlyrics.com/news/top-songs/1960/'),\n",
       " ('Fifties', 'http://www.songlyrics.com/news/top-songs/1950/'),\n",
       " ('Rock', 'http://www.songlyrics.com/news/top-genres/rock/'),\n",
       " ('R&B', 'http://www.songlyrics.com/news/top-genres/rhythm-blues/'),\n",
       " ('Country', 'http://www.songlyrics.com/news/top-genres/country-music/'),\n",
       " ('Hip Hop/Rap', 'http://www.songlyrics.com/news/top-genres/hip-hop-rap/'),\n",
       " ('Pop', 'http://www.songlyrics.com/news/top-genres/pop/'),\n",
       " ('Christian', 'http://www.songlyrics.com/news/top-genres/christian/')]"
      ]
     },
     "execution_count": 16,
     "metadata": {},
     "output_type": "execute_result"
    }
   ],
   "source": [
    "genre_tuple_list"
   ]
  },
  {
   "cell_type": "code",
   "execution_count": 17,
   "id": "0fae2931",
   "metadata": {},
   "outputs": [],
   "source": [
    "turl = 'http://www.songlyrics.com/news/top-genres/country-music/'\n",
    "response = requests.get(turl) \n",
    "tpage_html = response.text\n",
    "tsoup = bs(tpage_html)\n",
    "ttest = [val['href'] for val in tsoup.find_all('a')[92:292:2]]"
   ]
  },
  {
   "cell_type": "code",
   "execution_count": 18,
   "id": "781770f3",
   "metadata": {},
   "outputs": [
    {
     "data": {
      "text/plain": [
       "'http://www.songlyrics.com/hank-locklin/please-help-me-i-m-falling-lyrics/'"
      ]
     },
     "execution_count": 18,
     "metadata": {},
     "output_type": "execute_result"
    }
   ],
   "source": [
    "ttest[-1]"
   ]
  },
  {
   "cell_type": "code",
   "execution_count": 19,
   "id": "984c5f70",
   "metadata": {},
   "outputs": [],
   "source": [
    "# def song_name_scraper(new_genre_list, new_genre_url_list):\n",
    "#     '''takes an input of genres from songlyrics.com and returns a list of top songs from those genres'''\n",
    "#     url_list = new_genre_url_list\n",
    "#     song_page_dict = {}\n",
    "#     for ind, url in enumerate(url_list):\n",
    "#         song_page_dict[new_genre_list[ind]] = []\n",
    "#         response = requests.get('http://songlyrics.com/'+url) \n",
    "#         time.sleep(3)\n",
    "#         page_html = response.text\n",
    "#         soup = bs(page_html)\n",
    "#         for val in soup.find_all('a')[94:134:2]:\n",
    "#             song_page_dict[new_genre_list[ind]].append(val.get('href'))\n",
    "#     return song_page_dict        \n",
    "def song_name_scraper(genre_tuple_list):\n",
    "    '''takes an input of genres from songlyrics.com and returns a list of top songs from those genres'''\n",
    "    url_list = [val for _,val in genre_tuple_list]\n",
    "    song_page_dict = {}\n",
    "    for ind, url in enumerate(url_list):\n",
    "        song_page_dict[genre_tuple_list[ind][0]] = []\n",
    "        response = requests.get(url) \n",
    "        time.sleep(3)\n",
    "        page_html = response.text\n",
    "        soup = bs(page_html)\n",
    "        if ind <= 7:\n",
    "            for val in soup.find_all('a')[93:293:2]:\n",
    "                song_page_dict[genre_tuple_list[ind][0]].append(val.get('href'))\n",
    "        else:            \n",
    "            for val in soup.find_all('a')[92:292:2]:\n",
    "                song_page_dict[genre_tuple_list[ind][0]].append(val.get('href'))\n",
    "    return song_page_dict       "
   ]
  },
  {
   "cell_type": "code",
   "execution_count": 20,
   "id": "b264553b",
   "metadata": {},
   "outputs": [],
   "source": [
    "# page_dict = song_name_scraper(new_genre_list,new_genre_url_list)\n",
    "page_dict = song_name_scraper(genre_tuple_list)"
   ]
  },
  {
   "cell_type": "code",
   "execution_count": 21,
   "id": "226294cc",
   "metadata": {},
   "outputs": [
    {
     "data": {
      "text/plain": [
       "['http://www.songlyrics.com/adele/someone-like-you-lyrics/',\n",
       " 'http://www.songlyrics.com/lmfao/party-rock-anthem-lyrics/',\n",
       " 'http://www.songlyrics.com/foster-the-people/pumped-up-kicks-lyrics/',\n",
       " 'http://www.songlyrics.com/maroon-5/moves-like-jagger-lyrics/',\n",
       " 'http://www.songlyrics.com/gym-class-heroes/stereo-hearts-lyrics/',\n",
       " 'http://www.songlyrics.com/cobra-starship/you-make-me-feel-lyrics/',\n",
       " 'http://www.songlyrics.com/rihanna/cheers-drink-to-that-lyrics/',\n",
       " 'http://www.songlyrics.com/david-guetta/without-you-lyrics/',\n",
       " 'http://www.songlyrics.com/lady-gaga/you-and-i-lyrics/',\n",
       " 'http://www.songlyrics.com/lmfao/sexy-i-know-it-lyrics/',\n",
       " 'http://www.songlyrics.com/lil-wayne/how-to-love-lyrics/',\n",
       " 'http://www.songlyrics.com/bad-meets-evil/lighters-lyrics/',\n",
       " 'http://www.songlyrics.com/rihanna/we-found-love-lyrics/',\n",
       " 'http://www.songlyrics.com/pitbull/give-me-everything-lyrics/',\n",
       " 'http://www.songlyrics.com/katy-perry/last-friday-night-t-g-i-f-lyrics/',\n",
       " 'http://www.songlyrics.com/lady-antebellum/just-a-kiss-lyrics/',\n",
       " 'http://www.songlyrics.com/hot-chelle-rae/tonight-tonight-lyrics/',\n",
       " 'http://www.songlyrics.com/nicki-minaj/super-bass-lyrics/',\n",
       " 'http://www.songlyrics.com/onerepublic/good-life-lyrics/',\n",
       " 'http://www.songlyrics.com/dev/in-the-dark-lyrics/',\n",
       " 'http://www.songlyrics.com/drake/headlines-lyrics/',\n",
       " 'http://www.songlyrics.com/jason-derulo/it-girl-lyrics/',\n",
       " 'http://www.songlyrics.com/adele/rolling-in-the-deep-lyrics/',\n",
       " 'http://www.songlyrics.com/the-band-perry/if-i-die-young-lyrics/',\n",
       " 'http://www.songlyrics.com/blake-shelton/god-gave-me-you-lyrics/',\n",
       " 'http://www.songlyrics.com/lil-wayne/she-will-lyrics/',\n",
       " 'http://www.songlyrics.com/dj-khaled/i-m-on-one-lyrics/',\n",
       " 'http://www.songlyrics.com/rodney-atkins/take-a-back-road-lyrics/',\n",
       " 'http://www.songlyrics.com/lady-gaga/the-edge-of-glory-lyrics/',\n",
       " 'http://www.songlyrics.com/alexandra-stan/mr-saxobeat-lyrics/',\n",
       " 'http://www.songlyrics.com/coldplay/paradise-lyrics/',\n",
       " 'http://www.songlyrics.com/big-sean/marvin-gaye-chardonnay-lyrics/',\n",
       " 'http://www.songlyrics.com/jake-owen/barefoot-blue-jean-night-lyrics/',\n",
       " 'http://www.songlyrics.com/the-script/nothing-lyrics/',\n",
       " 'http://www.songlyrics.com/kelly-rowland/motivation-lyrics/',\n",
       " 'http://www.songlyrics.com/kelly-clarkson/mr-know-it-all-lyrics/',\n",
       " 'http://www.songlyrics.com/kenny-chesney/you-tequila-lyrics/',\n",
       " 'http://www.songlyrics.com/eli-young-band/crazy-girl-lyrics/',\n",
       " 'http://www.songlyrics.com/toby-keith/made-in-america-lyrics/',\n",
       " 'http://www.songlyrics.com/britney-spears/i-wanna-go-lyrics/',\n",
       " 'http://www.songlyrics.com/afrojack/take-over-control-lyrics/',\n",
       " 'http://www.songlyrics.com/brad-paisley/remind-me-lyrics/',\n",
       " 'http://www.songlyrics.com/beyonce-knowles/best-thing-i-never-had-lyrics/',\n",
       " 'http://www.songlyrics.com/new-boyz/better-with-the-lights-off-lyrics/',\n",
       " 'http://www.songlyrics.com/kanye-west-jay-z/niggas-in-paris-lyrics/',\n",
       " 'http://www.songlyrics.com/jason-aldean/dirt-road-anthem-lyrics/',\n",
       " 'http://www.songlyrics.com/gavin-degraw/not-over-you-lyrics/',\n",
       " 'http://www.songlyrics.com/drake/marvin-s-room-lyrics/',\n",
       " 'http://www.songlyrics.com/iyaz/pretty-girls-lyrics/',\n",
       " 'http://www.songlyrics.com/keith-urban/long-hot-summer-lyrics/',\n",
       " 'http://www.songlyrics.com/nicki-minaj/fly-lyrics/',\n",
       " 'http://www.songlyrics.com/george-strait/here-for-a-good-time-lyrics/',\n",
       " 'http://www.songlyrics.com/demi-lovato/skyscraper-lyrics/',\n",
       " 'http://www.songlyrics.com/selena-gomez-the-scene/love-you-like-a-love-song-lyrics/',\n",
       " 'http://www.songlyrics.com/rascal-flatts/easy-lyrics/',\n",
       " 'http://www.songlyrics.com/coldplay/every-teardrop-is-a-waterfall-lyrics/',\n",
       " 'http://www.songlyrics.com/taylor-swift/sparks-fly-lyrics/',\n",
       " 'http://www.songlyrics.com/kanye-west-jay-z/otis-lyrics/',\n",
       " 'http://www.songlyrics.com/lady-antebellum/we-owned-the-night-lyrics/',\n",
       " 'http://www.songlyrics.com/miranda-lambert/baggage-claim-lyrics/',\n",
       " 'http://www.songlyrics.com/zac-brown-band/knee-deep-lyrics/',\n",
       " 'http://www.songlyrics.com/andy-grammer/keep-your-head-up-ep-lyrics/',\n",
       " 'http://www.songlyrics.com/trace-adkins/just-fishin-lyrics/',\n",
       " 'http://www.songlyrics.com/glee-cast/it-s-not-unusual-lyrics/',\n",
       " 'http://www.songlyrics.com/red-hot-chili-peppers/the-adventures-of-rain-dance-maggie-lyrics/',\n",
       " 'http://www.songlyrics.com/brantley-gilbert/country-must-be-country-wide-lyrics/',\n",
       " 'http://www.songlyrics.com/birdman/y-u-mad-lyrics/',\n",
       " 'http://www.songlyrics.com/demi-lovato/fix-a-heart-lyrics/',\n",
       " 'http://www.songlyrics.com/pitbull/rain-over-me-lyrics/',\n",
       " 'http://www.songlyrics.com/glee-cast/you-can-t-stop-the-beat-lyrics/',\n",
       " 'http://www.songlyrics.com/wale/that-way-lyrics/',\n",
       " 'http://www.songlyrics.com/colbie-caillat/brighter-than-the-sun-lyrics/',\n",
       " 'http://www.songlyrics.com/j-cole/work-out-lyrics/',\n",
       " 'http://www.songlyrics.com/miguel/quickie-lyrics/',\n",
       " 'http://www.songlyrics.com/wiz-khalifa/no-sleep-lyrics/',\n",
       " 'http://www.songlyrics.com/chris-brown/wet-the-bed-lyrics/',\n",
       " 'http://www.songlyrics.com/mindless-behavior/mrs-right-lyrics/',\n",
       " 'http://www.songlyrics.com/jerrod-niemann/one-more-drinkin-song-lyrics/',\n",
       " 'http://www.songlyrics.com/awolnation/sail-lyrics/',\n",
       " 'http://www.songlyrics.com/the-band-perry/all-your-life-lyrics/',\n",
       " 'http://www.songlyrics.com/steve-holy/love-don-t-run-lyrics/',\n",
       " 'http://www.songlyrics.com/jason-aldean/tattoos-on-this-town-lyrics/',\n",
       " 'http://www.songlyrics.com/glee-cast/we-got-the-beat-lyrics/',\n",
       " 'http://www.songlyrics.com/darius-rucker/i-got-nothin-lyrics/',\n",
       " 'http://www.songlyrics.com/kreayshawn/gucci-gucci-lyrics/',\n",
       " 'http://www.songlyrics.com/ronnie-dunn/cost-of-livin-lyrics/',\n",
       " 'http://www.songlyrics.com/matt-nathanson/faster-lyrics/',\n",
       " 'http://www.songlyrics.com/craig-campbell/fish-lyrics/',\n",
       " 'http://www.songlyrics.com/billy-currington/love-done-gone-lyrics/',\n",
       " 'http://www.songlyrics.com/thompson-square/i-got-you-lyrics/',\n",
       " 'http://www.songlyrics.com/tyga/far-away-lyrics/',\n",
       " 'http://www.songlyrics.com/david-nail/let-it-rain-lyrics/',\n",
       " 'http://www.songlyrics.com/sean-paul/got-2-luv-u-lyrics/',\n",
       " 'http://www.songlyrics.com/foo-fighters/walk-lyrics/',\n",
       " 'http://www.songlyrics.com/adele/set-fire-to-the-rain-lyrics/',\n",
       " 'http://www.songlyrics.com/eric-church/drink-in-my-hand-lyrics/',\n",
       " 'http://www.songlyrics.com/lil-wayne/blunt-blowin-lyrics/',\n",
       " 'http://www.songlyrics.com/chris-brown/beautiful-people-lyrics/',\n",
       " 'http://www.songlyrics.com/ace-hood/body-2-body-lyrics/',\n",
       " 'http://www.songlyrics.com/demi-lovato/unbroken-lyrics/']"
      ]
     },
     "execution_count": 21,
     "metadata": {},
     "output_type": "execute_result"
    }
   ],
   "source": [
    "page_dict['Tens']"
   ]
  },
  {
   "cell_type": "code",
   "execution_count": 657,
   "id": "3528c25f",
   "metadata": {},
   "outputs": [
    {
     "data": {
      "text/plain": [
       "['http://www.songlyrics.com/adele/someone-like-you-lyrics/',\n",
       " 'http://www.songlyrics.com/lmfao/party-rock-anthem-lyrics/',\n",
       " 'http://www.songlyrics.com/foster-the-people/pumped-up-kicks-lyrics/',\n",
       " 'http://www.songlyrics.com/maroon-5/moves-like-jagger-lyrics/',\n",
       " 'http://www.songlyrics.com/gym-class-heroes/stereo-hearts-lyrics/',\n",
       " 'http://www.songlyrics.com/cobra-starship/you-make-me-feel-lyrics/',\n",
       " 'http://www.songlyrics.com/rihanna/cheers-drink-to-that-lyrics/',\n",
       " 'http://www.songlyrics.com/david-guetta/without-you-lyrics/',\n",
       " 'http://www.songlyrics.com/lady-gaga/you-and-i-lyrics/',\n",
       " 'http://www.songlyrics.com/lmfao/sexy-i-know-it-lyrics/',\n",
       " 'http://www.songlyrics.com/lil-wayne/how-to-love-lyrics/',\n",
       " 'http://www.songlyrics.com/bad-meets-evil/lighters-lyrics/',\n",
       " 'http://www.songlyrics.com/rihanna/we-found-love-lyrics/',\n",
       " 'http://www.songlyrics.com/pitbull/give-me-everything-lyrics/',\n",
       " 'http://www.songlyrics.com/katy-perry/last-friday-night-t-g-i-f-lyrics/',\n",
       " 'http://www.songlyrics.com/lady-antebellum/just-a-kiss-lyrics/',\n",
       " 'http://www.songlyrics.com/hot-chelle-rae/tonight-tonight-lyrics/',\n",
       " 'http://www.songlyrics.com/nicki-minaj/super-bass-lyrics/',\n",
       " 'http://www.songlyrics.com/onerepublic/good-life-lyrics/',\n",
       " 'http://www.songlyrics.com/dev/in-the-dark-lyrics/',\n",
       " 'http://www.songlyrics.com/drake/headlines-lyrics/',\n",
       " 'http://www.songlyrics.com/jason-derulo/it-girl-lyrics/',\n",
       " 'http://www.songlyrics.com/adele/rolling-in-the-deep-lyrics/',\n",
       " 'http://www.songlyrics.com/the-band-perry/if-i-die-young-lyrics/',\n",
       " 'http://www.songlyrics.com/blake-shelton/god-gave-me-you-lyrics/',\n",
       " 'http://www.songlyrics.com/lil-wayne/she-will-lyrics/',\n",
       " 'http://www.songlyrics.com/dj-khaled/i-m-on-one-lyrics/',\n",
       " 'http://www.songlyrics.com/rodney-atkins/take-a-back-road-lyrics/',\n",
       " 'http://www.songlyrics.com/lady-gaga/the-edge-of-glory-lyrics/',\n",
       " 'http://www.songlyrics.com/alexandra-stan/mr-saxobeat-lyrics/',\n",
       " 'http://www.songlyrics.com/coldplay/paradise-lyrics/',\n",
       " 'http://www.songlyrics.com/big-sean/marvin-gaye-chardonnay-lyrics/',\n",
       " 'http://www.songlyrics.com/jake-owen/barefoot-blue-jean-night-lyrics/',\n",
       " 'http://www.songlyrics.com/the-script/nothing-lyrics/',\n",
       " 'http://www.songlyrics.com/kelly-rowland/motivation-lyrics/',\n",
       " 'http://www.songlyrics.com/kelly-clarkson/mr-know-it-all-lyrics/',\n",
       " 'http://www.songlyrics.com/kenny-chesney/you-tequila-lyrics/',\n",
       " 'http://www.songlyrics.com/eli-young-band/crazy-girl-lyrics/',\n",
       " 'http://www.songlyrics.com/toby-keith/made-in-america-lyrics/',\n",
       " 'http://www.songlyrics.com/britney-spears/i-wanna-go-lyrics/',\n",
       " 'http://www.songlyrics.com/afrojack/take-over-control-lyrics/',\n",
       " 'http://www.songlyrics.com/brad-paisley/remind-me-lyrics/',\n",
       " 'http://www.songlyrics.com/beyonce-knowles/best-thing-i-never-had-lyrics/',\n",
       " 'http://www.songlyrics.com/new-boyz/better-with-the-lights-off-lyrics/',\n",
       " 'http://www.songlyrics.com/kanye-west-jay-z/niggas-in-paris-lyrics/',\n",
       " 'http://www.songlyrics.com/jason-aldean/dirt-road-anthem-lyrics/',\n",
       " 'http://www.songlyrics.com/gavin-degraw/not-over-you-lyrics/',\n",
       " 'http://www.songlyrics.com/drake/marvin-s-room-lyrics/',\n",
       " 'http://www.songlyrics.com/iyaz/pretty-girls-lyrics/',\n",
       " 'http://www.songlyrics.com/keith-urban/long-hot-summer-lyrics/',\n",
       " 'http://www.songlyrics.com/nicki-minaj/fly-lyrics/',\n",
       " 'http://www.songlyrics.com/george-strait/here-for-a-good-time-lyrics/',\n",
       " 'http://www.songlyrics.com/demi-lovato/skyscraper-lyrics/',\n",
       " 'http://www.songlyrics.com/selena-gomez-the-scene/love-you-like-a-love-song-lyrics/',\n",
       " 'http://www.songlyrics.com/rascal-flatts/easy-lyrics/',\n",
       " 'http://www.songlyrics.com/coldplay/every-teardrop-is-a-waterfall-lyrics/',\n",
       " 'http://www.songlyrics.com/taylor-swift/sparks-fly-lyrics/',\n",
       " 'http://www.songlyrics.com/kanye-west-jay-z/otis-lyrics/',\n",
       " 'http://www.songlyrics.com/lady-antebellum/we-owned-the-night-lyrics/',\n",
       " 'http://www.songlyrics.com/miranda-lambert/baggage-claim-lyrics/',\n",
       " 'http://www.songlyrics.com/zac-brown-band/knee-deep-lyrics/',\n",
       " 'http://www.songlyrics.com/andy-grammer/keep-your-head-up-ep-lyrics/',\n",
       " 'http://www.songlyrics.com/trace-adkins/just-fishin-lyrics/',\n",
       " 'http://www.songlyrics.com/glee-cast/it-s-not-unusual-lyrics/',\n",
       " 'http://www.songlyrics.com/red-hot-chili-peppers/the-adventures-of-rain-dance-maggie-lyrics/',\n",
       " 'http://www.songlyrics.com/brantley-gilbert/country-must-be-country-wide-lyrics/',\n",
       " 'http://www.songlyrics.com/birdman/y-u-mad-lyrics/',\n",
       " 'http://www.songlyrics.com/demi-lovato/fix-a-heart-lyrics/',\n",
       " 'http://www.songlyrics.com/pitbull/rain-over-me-lyrics/',\n",
       " 'http://www.songlyrics.com/glee-cast/you-can-t-stop-the-beat-lyrics/',\n",
       " 'http://www.songlyrics.com/wale/that-way-lyrics/',\n",
       " 'http://www.songlyrics.com/colbie-caillat/brighter-than-the-sun-lyrics/',\n",
       " 'http://www.songlyrics.com/j-cole/work-out-lyrics/',\n",
       " 'http://www.songlyrics.com/miguel/quickie-lyrics/',\n",
       " 'http://www.songlyrics.com/wiz-khalifa/no-sleep-lyrics/',\n",
       " 'http://www.songlyrics.com/chris-brown/wet-the-bed-lyrics/',\n",
       " 'http://www.songlyrics.com/mindless-behavior/mrs-right-lyrics/',\n",
       " 'http://www.songlyrics.com/jerrod-niemann/one-more-drinkin-song-lyrics/',\n",
       " 'http://www.songlyrics.com/awolnation/sail-lyrics/',\n",
       " 'http://www.songlyrics.com/the-band-perry/all-your-life-lyrics/',\n",
       " 'http://www.songlyrics.com/steve-holy/love-don-t-run-lyrics/',\n",
       " 'http://www.songlyrics.com/jason-aldean/tattoos-on-this-town-lyrics/',\n",
       " 'http://www.songlyrics.com/glee-cast/we-got-the-beat-lyrics/',\n",
       " 'http://www.songlyrics.com/darius-rucker/i-got-nothin-lyrics/',\n",
       " 'http://www.songlyrics.com/kreayshawn/gucci-gucci-lyrics/',\n",
       " 'http://www.songlyrics.com/ronnie-dunn/cost-of-livin-lyrics/',\n",
       " 'http://www.songlyrics.com/matt-nathanson/faster-lyrics/',\n",
       " 'http://www.songlyrics.com/craig-campbell/fish-lyrics/',\n",
       " 'http://www.songlyrics.com/billy-currington/love-done-gone-lyrics/',\n",
       " 'http://www.songlyrics.com/thompson-square/i-got-you-lyrics/',\n",
       " 'http://www.songlyrics.com/tyga/far-away-lyrics/',\n",
       " 'http://www.songlyrics.com/david-nail/let-it-rain-lyrics/',\n",
       " 'http://www.songlyrics.com/sean-paul/got-2-luv-u-lyrics/',\n",
       " 'http://www.songlyrics.com/foo-fighters/walk-lyrics/',\n",
       " 'http://www.songlyrics.com/adele/set-fire-to-the-rain-lyrics/',\n",
       " 'http://www.songlyrics.com/eric-church/drink-in-my-hand-lyrics/',\n",
       " 'http://www.songlyrics.com/lil-wayne/blunt-blowin-lyrics/',\n",
       " 'http://www.songlyrics.com/chris-brown/beautiful-people-lyrics/',\n",
       " 'http://www.songlyrics.com/ace-hood/body-2-body-lyrics/',\n",
       " 'http://www.songlyrics.com/demi-lovato/unbroken-lyrics/']"
      ]
     },
     "execution_count": 657,
     "metadata": {},
     "output_type": "execute_result"
    }
   ],
   "source": [
    "url = 'http://www.songlyrics.com/news/top-songs/2011/'\n",
    "response = requests.get(url)\n",
    "page_html = response.text\n",
    "exsoup = bs(page_html)\n",
    "exsoup.find_all('a')[93:293:2]\n",
    "[val['href'] for val in exsoup.find_all('a')[93:293:2]]"
   ]
  },
  {
   "cell_type": "code",
   "execution_count": 22,
   "id": "3eda58e0",
   "metadata": {},
   "outputs": [
    {
     "data": {
      "text/plain": [
       "['http://www.songlyrics.com/adele/someone-like-you-lyrics/',\n",
       " 'http://www.songlyrics.com/lmfao/party-rock-anthem-lyrics/',\n",
       " 'http://www.songlyrics.com/foster-the-people/pumped-up-kicks-lyrics/',\n",
       " 'http://www.songlyrics.com/maroon-5/moves-like-jagger-lyrics/',\n",
       " 'http://www.songlyrics.com/gym-class-heroes/stereo-hearts-lyrics/',\n",
       " 'http://www.songlyrics.com/cobra-starship/you-make-me-feel-lyrics/',\n",
       " 'http://www.songlyrics.com/rihanna/cheers-drink-to-that-lyrics/',\n",
       " 'http://www.songlyrics.com/david-guetta/without-you-lyrics/',\n",
       " 'http://www.songlyrics.com/lady-gaga/you-and-i-lyrics/',\n",
       " 'http://www.songlyrics.com/lmfao/sexy-i-know-it-lyrics/',\n",
       " 'http://www.songlyrics.com/lil-wayne/how-to-love-lyrics/',\n",
       " 'http://www.songlyrics.com/bad-meets-evil/lighters-lyrics/',\n",
       " 'http://www.songlyrics.com/rihanna/we-found-love-lyrics/',\n",
       " 'http://www.songlyrics.com/pitbull/give-me-everything-lyrics/',\n",
       " 'http://www.songlyrics.com/katy-perry/last-friday-night-t-g-i-f-lyrics/',\n",
       " 'http://www.songlyrics.com/lady-antebellum/just-a-kiss-lyrics/',\n",
       " 'http://www.songlyrics.com/hot-chelle-rae/tonight-tonight-lyrics/',\n",
       " 'http://www.songlyrics.com/nicki-minaj/super-bass-lyrics/',\n",
       " 'http://www.songlyrics.com/onerepublic/good-life-lyrics/',\n",
       " 'http://www.songlyrics.com/dev/in-the-dark-lyrics/',\n",
       " 'http://www.songlyrics.com/drake/headlines-lyrics/',\n",
       " 'http://www.songlyrics.com/jason-derulo/it-girl-lyrics/',\n",
       " 'http://www.songlyrics.com/adele/rolling-in-the-deep-lyrics/',\n",
       " 'http://www.songlyrics.com/the-band-perry/if-i-die-young-lyrics/',\n",
       " 'http://www.songlyrics.com/blake-shelton/god-gave-me-you-lyrics/',\n",
       " 'http://www.songlyrics.com/lil-wayne/she-will-lyrics/',\n",
       " 'http://www.songlyrics.com/dj-khaled/i-m-on-one-lyrics/',\n",
       " 'http://www.songlyrics.com/rodney-atkins/take-a-back-road-lyrics/',\n",
       " 'http://www.songlyrics.com/lady-gaga/the-edge-of-glory-lyrics/',\n",
       " 'http://www.songlyrics.com/alexandra-stan/mr-saxobeat-lyrics/',\n",
       " 'http://www.songlyrics.com/coldplay/paradise-lyrics/',\n",
       " 'http://www.songlyrics.com/big-sean/marvin-gaye-chardonnay-lyrics/',\n",
       " 'http://www.songlyrics.com/jake-owen/barefoot-blue-jean-night-lyrics/',\n",
       " 'http://www.songlyrics.com/the-script/nothing-lyrics/',\n",
       " 'http://www.songlyrics.com/kelly-rowland/motivation-lyrics/',\n",
       " 'http://www.songlyrics.com/kelly-clarkson/mr-know-it-all-lyrics/',\n",
       " 'http://www.songlyrics.com/kenny-chesney/you-tequila-lyrics/',\n",
       " 'http://www.songlyrics.com/eli-young-band/crazy-girl-lyrics/',\n",
       " 'http://www.songlyrics.com/toby-keith/made-in-america-lyrics/',\n",
       " 'http://www.songlyrics.com/britney-spears/i-wanna-go-lyrics/',\n",
       " 'http://www.songlyrics.com/afrojack/take-over-control-lyrics/',\n",
       " 'http://www.songlyrics.com/brad-paisley/remind-me-lyrics/',\n",
       " 'http://www.songlyrics.com/beyonce-knowles/best-thing-i-never-had-lyrics/',\n",
       " 'http://www.songlyrics.com/new-boyz/better-with-the-lights-off-lyrics/',\n",
       " 'http://www.songlyrics.com/kanye-west-jay-z/niggas-in-paris-lyrics/',\n",
       " 'http://www.songlyrics.com/jason-aldean/dirt-road-anthem-lyrics/',\n",
       " 'http://www.songlyrics.com/gavin-degraw/not-over-you-lyrics/',\n",
       " 'http://www.songlyrics.com/drake/marvin-s-room-lyrics/',\n",
       " 'http://www.songlyrics.com/iyaz/pretty-girls-lyrics/',\n",
       " 'http://www.songlyrics.com/keith-urban/long-hot-summer-lyrics/',\n",
       " 'http://www.songlyrics.com/nicki-minaj/fly-lyrics/',\n",
       " 'http://www.songlyrics.com/george-strait/here-for-a-good-time-lyrics/',\n",
       " 'http://www.songlyrics.com/demi-lovato/skyscraper-lyrics/',\n",
       " 'http://www.songlyrics.com/selena-gomez-the-scene/love-you-like-a-love-song-lyrics/',\n",
       " 'http://www.songlyrics.com/rascal-flatts/easy-lyrics/',\n",
       " 'http://www.songlyrics.com/coldplay/every-teardrop-is-a-waterfall-lyrics/',\n",
       " 'http://www.songlyrics.com/taylor-swift/sparks-fly-lyrics/',\n",
       " 'http://www.songlyrics.com/kanye-west-jay-z/otis-lyrics/',\n",
       " 'http://www.songlyrics.com/lady-antebellum/we-owned-the-night-lyrics/',\n",
       " 'http://www.songlyrics.com/miranda-lambert/baggage-claim-lyrics/',\n",
       " 'http://www.songlyrics.com/zac-brown-band/knee-deep-lyrics/',\n",
       " 'http://www.songlyrics.com/andy-grammer/keep-your-head-up-ep-lyrics/',\n",
       " 'http://www.songlyrics.com/trace-adkins/just-fishin-lyrics/',\n",
       " 'http://www.songlyrics.com/glee-cast/it-s-not-unusual-lyrics/',\n",
       " 'http://www.songlyrics.com/red-hot-chili-peppers/the-adventures-of-rain-dance-maggie-lyrics/',\n",
       " 'http://www.songlyrics.com/brantley-gilbert/country-must-be-country-wide-lyrics/',\n",
       " 'http://www.songlyrics.com/birdman/y-u-mad-lyrics/',\n",
       " 'http://www.songlyrics.com/demi-lovato/fix-a-heart-lyrics/',\n",
       " 'http://www.songlyrics.com/pitbull/rain-over-me-lyrics/',\n",
       " 'http://www.songlyrics.com/glee-cast/you-can-t-stop-the-beat-lyrics/',\n",
       " 'http://www.songlyrics.com/wale/that-way-lyrics/',\n",
       " 'http://www.songlyrics.com/colbie-caillat/brighter-than-the-sun-lyrics/',\n",
       " 'http://www.songlyrics.com/j-cole/work-out-lyrics/',\n",
       " 'http://www.songlyrics.com/miguel/quickie-lyrics/',\n",
       " 'http://www.songlyrics.com/wiz-khalifa/no-sleep-lyrics/',\n",
       " 'http://www.songlyrics.com/chris-brown/wet-the-bed-lyrics/',\n",
       " 'http://www.songlyrics.com/mindless-behavior/mrs-right-lyrics/',\n",
       " 'http://www.songlyrics.com/jerrod-niemann/one-more-drinkin-song-lyrics/',\n",
       " 'http://www.songlyrics.com/awolnation/sail-lyrics/',\n",
       " 'http://www.songlyrics.com/the-band-perry/all-your-life-lyrics/',\n",
       " 'http://www.songlyrics.com/steve-holy/love-don-t-run-lyrics/',\n",
       " 'http://www.songlyrics.com/jason-aldean/tattoos-on-this-town-lyrics/',\n",
       " 'http://www.songlyrics.com/glee-cast/we-got-the-beat-lyrics/',\n",
       " 'http://www.songlyrics.com/darius-rucker/i-got-nothin-lyrics/',\n",
       " 'http://www.songlyrics.com/kreayshawn/gucci-gucci-lyrics/',\n",
       " 'http://www.songlyrics.com/ronnie-dunn/cost-of-livin-lyrics/',\n",
       " 'http://www.songlyrics.com/matt-nathanson/faster-lyrics/',\n",
       " 'http://www.songlyrics.com/craig-campbell/fish-lyrics/',\n",
       " 'http://www.songlyrics.com/billy-currington/love-done-gone-lyrics/',\n",
       " 'http://www.songlyrics.com/thompson-square/i-got-you-lyrics/',\n",
       " 'http://www.songlyrics.com/tyga/far-away-lyrics/',\n",
       " 'http://www.songlyrics.com/david-nail/let-it-rain-lyrics/',\n",
       " 'http://www.songlyrics.com/sean-paul/got-2-luv-u-lyrics/',\n",
       " 'http://www.songlyrics.com/foo-fighters/walk-lyrics/',\n",
       " 'http://www.songlyrics.com/adele/set-fire-to-the-rain-lyrics/',\n",
       " 'http://www.songlyrics.com/eric-church/drink-in-my-hand-lyrics/',\n",
       " 'http://www.songlyrics.com/lil-wayne/blunt-blowin-lyrics/',\n",
       " 'http://www.songlyrics.com/chris-brown/beautiful-people-lyrics/',\n",
       " 'http://www.songlyrics.com/ace-hood/body-2-body-lyrics/',\n",
       " 'http://www.songlyrics.com/demi-lovato/unbroken-lyrics/']"
      ]
     },
     "execution_count": 22,
     "metadata": {},
     "output_type": "execute_result"
    }
   ],
   "source": [
    "page_dict['Tens']"
   ]
  },
  {
   "cell_type": "code",
   "execution_count": 289,
   "id": "c0634e41",
   "metadata": {},
   "outputs": [],
   "source": [
    "testdraw = requests.get('http://songlyrics.com/'+new_genre_url_list[0])"
   ]
  },
  {
   "cell_type": "code",
   "execution_count": 290,
   "id": "6d60c523",
   "metadata": {},
   "outputs": [],
   "source": [
    "html = testdraw.text\n",
    "sp1 = bs(html)"
   ]
  },
  {
   "cell_type": "code",
   "execution_count": 309,
   "id": "36b31a86",
   "metadata": {},
   "outputs": [],
   "source": [
    "lyric_page_list = [val.get('href') for val in sp1.find_all('a')[94:134:2]]"
   ]
  },
  {
   "cell_type": "code",
   "execution_count": 311,
   "id": "4dc38b45",
   "metadata": {},
   "outputs": [
    {
     "data": {
      "text/plain": [
       "['http://www.songlyrics.com/james-yuill/this-sweet-love-lyrics/',\n",
       " 'http://www.songlyrics.com/priscilla-ahn/dream-lyrics/',\n",
       " 'http://www.songlyrics.com/john-denver-placido-domingo/perhaps-love-lyrics/',\n",
       " 'http://www.songlyrics.com/sophie-hunger/le-vent-nous-portera-lyrics/',\n",
       " 'http://www.songlyrics.com/matt-corby/refuge-acoustic-lyrics/',\n",
       " 'http://www.songlyrics.com/we-are-trees/you-lyrics/',\n",
       " 'http://www.songlyrics.com/we-are-trees/i-don-t-believe-in-love-lyrics/',\n",
       " 'http://www.songlyrics.com/rodrigo-y-gabriela/hanuman-lyrics/',\n",
       " 'http://www.songlyrics.com/we-are-trees/teenage-heartbreak-lyrics/',\n",
       " 'http://www.songlyrics.com/mojave/love-songs-on-the-radio-lyrics/',\n",
       " 'http://www.songlyrics.com/kina-grannis/valentine-lyrics/',\n",
       " 'http://www.songlyrics.com/matt-corby/untitled-into-the-flame-lyrics/',\n",
       " 'http://www.songlyrics.com/kim-chiu/pusong-lito-lyrics/',\n",
       " 'http://www.songlyrics.com/we-are-trees/girlfriend-lyrics/',\n",
       " 'http://www.songlyrics.com/xavior-rudd/sky-to-ground-lyrics/',\n",
       " 'http://www.songlyrics.com/uniform-motion/fools-don-t-listen-to-a-word-i-say-lyrics/',\n",
       " 'http://www.songlyrics.com/rodrigo-y-gabriela/tamacun-lyrics/',\n",
       " 'http://www.songlyrics.com/david-berkeley/shenandoah-lyrics/',\n",
       " 'http://www.songlyrics.com/jamestown-story/i-ll-see-you-someday-lyrics/',\n",
       " 'http://www.songlyrics.com/remi-nicole/cupid-shoot-me-lyrics/']"
      ]
     },
     "execution_count": 311,
     "metadata": {},
     "output_type": "execute_result"
    }
   ],
   "source": [
    "lyric_page_list"
   ]
  },
  {
   "cell_type": "code",
   "execution_count": 316,
   "id": "bb1792cd",
   "metadata": {},
   "outputs": [],
   "source": [
    "testdraw = requests.get('http://songlyrics.com/'+new_genre_url_list[1])\n",
    "html2 = testdraw.text\n",
    "sp2 = bs(html2)"
   ]
  },
  {
   "cell_type": "code",
   "execution_count": 317,
   "id": "feb52382",
   "metadata": {},
   "outputs": [],
   "source": [
    "lyric_page_list2 = [val.get('href') for val in sp2.find_all('a')[94:134:2]]"
   ]
  },
  {
   "cell_type": "code",
   "execution_count": 349,
   "id": "9fab5790",
   "metadata": {},
   "outputs": [],
   "source": [
    "response = requests.get(page_dict['Dance'][1])"
   ]
  },
  {
   "cell_type": "code",
   "execution_count": 350,
   "id": "f02d4359",
   "metadata": {},
   "outputs": [],
   "source": [
    "page_html = response.text"
   ]
  },
  {
   "cell_type": "code",
   "execution_count": 361,
   "id": "f9524e07",
   "metadata": {},
   "outputs": [],
   "source": [
    "soup = bs(page_html, 'lxml')"
   ]
  },
  {
   "cell_type": "code",
   "execution_count": 391,
   "id": "c5d32584",
   "metadata": {},
   "outputs": [],
   "source": [
    "check = soup.find(id='songLyricsDiv').text"
   ]
  },
  {
   "cell_type": "code",
   "execution_count": 369,
   "id": "658f3322",
   "metadata": {},
   "outputs": [],
   "source": [
    "check = [txt.rstrip() for txt in check]"
   ]
  },
  {
   "cell_type": "code",
   "execution_count": 23,
   "id": "914a074c",
   "metadata": {},
   "outputs": [
    {
     "data": {
      "text/plain": [
       "dict_keys(['All Time', 'Tens', 'Aughts', 'Nineties', 'Eighties', 'Seventies', 'Sixties', 'Fifties', 'Rock', 'R&B', 'Country', 'Hip Hop/Rap', 'Pop', 'Christian'])"
      ]
     },
     "execution_count": 23,
     "metadata": {},
     "output_type": "execute_result"
    }
   ],
   "source": [
    "page_dict.keys()"
   ]
  },
  {
   "cell_type": "code",
   "execution_count": 107,
   "id": "a5a1a723",
   "metadata": {},
   "outputs": [],
   "source": [
    "from nltk.tokenize import word_tokenize\n",
    "import pandas as pd\n",
    "from sklearn.feature_extraction.text import CountVectorizer\n",
    "from sklearn.feature_extraction.text import TfidfVectorizer\n",
    "from sklearn.decomposition import NMF\n",
    "from sklearn.base import TransformerMixin\n",
    "from sklearn.pipeline import Pipeline\n",
    "import string\n",
    "import re\n",
    "from spacy.lang.en.stop_words import STOP_WORDS\n",
    "from spacy.lang.en import English\n"
   ]
  },
  {
   "cell_type": "code",
   "execution_count": 82,
   "id": "48f94b54",
   "metadata": {},
   "outputs": [],
   "source": [
    "class predictors(TransformerMixin):\n",
    "    def transform(self, x, **transform_params):\n",
    "        return [clean_text(text) for text in x]\n",
    "    def fit(self, x, y=None, **fit_params):\n",
    "        return self\n",
    "    def get_params(self, deep=True):\n",
    "        return {}\n",
    "def clean_text(text):\n",
    "    return text.strip().lower()"
   ]
  },
  {
   "cell_type": "code",
   "execution_count": null,
   "id": "6256a28d",
   "metadata": {},
   "outputs": [],
   "source": []
  },
  {
   "cell_type": "code",
   "execution_count": 24,
   "id": "651c11df",
   "metadata": {},
   "outputs": [],
   "source": [
    "def page_scraper(url):\n",
    "    if len(url) > 7:\n",
    "        response = requests.get(url)\n",
    "        time.sleep(3)\n",
    "        page_html = response.text\n",
    "        soup = bs(page_html)\n",
    "        if not isinstance(soup.find(id='songLyricsDiv'), type(None)):\n",
    "            return soup.find(id='songLyricsDiv').text"
   ]
  },
  {
   "cell_type": "code",
   "execution_count": 26,
   "id": "584135de",
   "metadata": {},
   "outputs": [
    {
     "data": {
      "text/plain": [
       "'http://www.songlyrics.com/adele/someone-like-you-lyrics/'"
      ]
     },
     "execution_count": 26,
     "metadata": {},
     "output_type": "execute_result"
    }
   ],
   "source": [
    "page_dict[\"Tens\"][0]"
   ]
  },
  {
   "cell_type": "code",
   "execution_count": 28,
   "id": "d3cd25dc",
   "metadata": {},
   "outputs": [
    {
     "data": {
      "text/plain": [
       "\"Your cheatin' heart will make you weep\\nYou'll cry and cry and try to sleep\\nBut sleep won't come the whole night through\\nYour cheatin' heart will tell on you\\n\\nWhen tears come down like fallin' rain\\nYou'll toss around and call my name\\nYou'll walk the floor the way I do\\nYour cheatin' heart will tell on you\\n\\nYour cheatin' heart will find some day\\nAnd crave the love you threw away\\nThe time will come when you'll be blue\\nYour cheatin' heart will tell on you\\n\\nWhen tears come down like fallin' rain\\nYou'll toss around and call my name\\nYou'll walk the floor the way I do\\nYour cheatin' heart will tell on you\""
      ]
     },
     "execution_count": 28,
     "metadata": {},
     "output_type": "execute_result"
    }
   ],
   "source": [
    "lyrics = page_scraper(page_dict['Country'][0])\n",
    "\n",
    "lyrics"
   ]
  },
  {
   "cell_type": "code",
   "execution_count": 29,
   "id": "a1e6fe37",
   "metadata": {},
   "outputs": [
    {
     "data": {
      "text/plain": [
       "False"
      ]
     },
     "execution_count": 29,
     "metadata": {},
     "output_type": "execute_result"
    }
   ],
   "source": [
    "''==None"
   ]
  },
  {
   "cell_type": "code",
   "execution_count": 30,
   "id": "a94bcaf4",
   "metadata": {},
   "outputs": [
    {
     "data": {
      "text/plain": [
       "dict_keys(['All Time', 'Tens', 'Aughts', 'Nineties', 'Eighties', 'Seventies', 'Sixties', 'Fifties', 'Rock', 'R&B', 'Country', 'Hip Hop/Rap', 'Pop', 'Christian'])"
      ]
     },
     "execution_count": 30,
     "metadata": {},
     "output_type": "execute_result"
    }
   ],
   "source": [
    "page_dict.keys()"
   ]
  },
  {
   "cell_type": "code",
   "execution_count": 31,
   "id": "f8ba69d1",
   "metadata": {},
   "outputs": [],
   "source": [
    "def lyric_dictionary_creator(page_dict):\n",
    "    lyric_dict = {}\n",
    "    for genre in page_dict.keys():\n",
    "        lyric_dict[genre] = []\n",
    "        for url in page_dict[genre]:\n",
    "            if url == '':\n",
    "                continue\n",
    "            else:\n",
    "                response = requests.get(url)\n",
    "                time.sleep(2)\n",
    "                page_html = response.text\n",
    "                soup = bs(page_html)\n",
    "                if isinstance(soup.find(id='songLyricsDiv'), type(None)):\n",
    "                    continue\n",
    "                else:\n",
    "                    lyric_dict[genre].append(soup.find(id='songLyricsDiv').text)\n",
    "    return lyric_dict\n",
    "            \n",
    "            "
   ]
  },
  {
   "cell_type": "code",
   "execution_count": 32,
   "id": "bc8dedd6",
   "metadata": {},
   "outputs": [],
   "source": [
    "# lyric_dict = lyric_dictionary_creator(page_dict)\n",
    "lyric_dict2 = lyric_dictionary_creator(page_dict)"
   ]
  },
  {
   "cell_type": "code",
   "execution_count": 33,
   "id": "15c52190",
   "metadata": {},
   "outputs": [
    {
     "data": {
      "text/plain": [
       "['Once upon a time you dressed so fine\\nThrew the bums a dime in your prime, didn\\'t you?\\nPeople call, say, \"Beware doll you\\'re bound to fall\"\\nYou thought they were all kiddin\\' you\\n\\nYou used to laugh about everybody that was hangin\\' out\\nNow you don\\'t talk so loud\\nNow you don\\'t seem so proud\\nAbout having to be scrounging your next meal\\n\\nHow does it feel?\\nHow does it feel?\\nTo be without a home\\nLike a complete unknown\\nLike a rolling stone\\n\\nYou\\'ve gone to the finest school, all right Miss Lonely\\nBut you know you only used to get juiced in it\\nNobody\\'s ever taught you how to live out on the street\\nAnd now you\\'re gonna have to get used to it\\n\\nYou said you\\'d never compromise with the mystery tramp\\nBut now you realize, he\\'s not selling any alibis\\nAs you stare into the vacuum of his eyes\\nAnd say, \"Do you want to make a deal?\"\\n\\nHow does it feel?\\nHow does it feel?\\nTo be on your own\\nWith no direction home\\nA complete unknown\\nLike a rolling stone\\n\\nYou never turned around to see the frowns\\nOn the jugglers and the clowns when they all did tricks for you\\nNever understood that it ain\\'t no good\\nYou shouldn\\'t let other people get your kicks for you\\n\\nYou used to ride on the chrome horse with your diplomat\\nWho carried on his shoulder a Siamese cat\\nAin\\'t it hard when you discover that he really wasn\\'t where it\\'s at?\\nAfter he took from you everything he could steal\\n\\nHow does it feel?\\nHow does it feel?\\nTo be on your own\\nWith no direction home\\nLike a complete unknown\\nLike a rolling stone\\n\\nPrincess on the steeple and all the pretty people\\nThey\\'re all drinkin\\', thinkin\\' that they got it made\\nExchanging all precious gifts\\nBut you better take your diamond ring, you better pawn it babe\\n\\nYou used to be so amused at Napoleon in rags\\nAnd the language that he used, go to him now he calls you\\nYou can\\'t refuse, when you got nothing, you got nothing to lose\\nYou\\'re invisible now, you got no secrets to conceal\\n\\nHow does it feel?\\nHow does it feel?\\nTo be on your own\\nWith no direction home\\nLike a complete unknown\\nLike a rolling stone',\n",
       " \"What you want, baby, I got\\nWhat you need, do you know I got it?\\nAll I'm askin'\\nIs for a little respect when you come home\\n\\n\\n  (Just a little bit)\\nHey baby\\n  (Just a little bit)\\nWhen you get home\\n  (Just a little bit)\\nMister\\n  (Just a little bit)\\n\\nI ain't gonna do you wrong while you're gone\\nAin't gonna do you wrong 'cause I don't wanna\\nAll I'm askin'\\nIs for a little respect when you come home\\n\\n  (Just a little bit)\\nBaby\\n  (Just a little bit)\\nWhen you get home\\n  (Just a little bit)\\nYeah\\n  (Just a little bit)\\n\\nI'm about to give you all of my money\\nAnd all I'm askin' in return, honey\\nIs to give me my profits\\nWhen you get home\\n\\n  (Just a, just a, just a, just a)\\nYeah baby\\n  (Just a, just a, just a, just a)\\nWhen you get home\\n  (Just a little bit)\\nYeah\\n  (Just a little bit)\\n\\nOoh, your kisses, sweeter than honey\\nAnd guess what? So is my money\\nAll I want you to do for me\\nIs give it to me when you get home\\n\\n  (Re, re, re ,re)\\nYeah baby\\n  (Re, re, re ,re)\\nWhip it to me\\n  (Respect, just a little bit)\\nWhen you get home, now\\n  (Just a little bit)\\n\\nR E S P E C T\\nFind out what it means to me\\nR E S P E C T\\nTake care, T.C.B.\\n\\nOh\\n  (Sock it to me, sock it to me)\\n  (Sock it to me, sock it to me)\\nA little respect\\n  (Sock it to me, sock it to me)\\n  (Sock it to me, sock it to me)\\nWhoa, babe\\n\\n  (Just a little bit)\\nA little respect\\n  (Just a little bit)\\nI get tired\\n  (Just a little bit)\\nKeep on tryin'\\n  (Just a little bit)\\nYou're runnin' out of foolin'\\n  (Just a little bit)\\nAnd I ain't lyin'\\n  (Just a little bit)\\n\\n  (Re, re, re, re)\\nRespect\\nWhen you come home\\n  (Re, re, re, re)\\nOr you might walk in\\n  (Respect, just a little bit)\\nAnd find out I'm gone\\n  (Just a little bit)\"]"
      ]
     },
     "execution_count": 33,
     "metadata": {},
     "output_type": "execute_result"
    }
   ],
   "source": [
    "lyric_dict2['All Time'][:2]"
   ]
  },
  {
   "cell_type": "code",
   "execution_count": 455,
   "id": "1a3d1cc5",
   "metadata": {},
   "outputs": [
    {
     "data": {
      "text/plain": [
       "\"Lick a camel's ass\\nLick a moose's dick\\nSuck my doggie's cock\\nSuck a honey badger's ass\\n\\nSuck my dog's dick\\nSuck my dog's dick\\nSuck my dog's dick\\nSuck my dog's dick\\n\\nSuck a racehorse's booty hole\\nSuck a snow leopard's ass\\nSuck a constipated goat's dick\\nSuck my Doberman Pinscher's cock\\n\\nSuck my dog's dick\\nSuck my dog's dick\\nSuck my dog's dick\\nSuck my dog's dick\\n\\nSuck a jackass's dick\\nSuck a buffalo's ass, fucking jerk\\n\\nSuck my dog's dick\\nSuck my dog's dick\\nSuck my dog's dick\\nSuck my dog's dick\\n\\nRock over London\\nRock on Chicago\\nGoose Island\\nIt's Chicago's Crab Brewer\""
      ]
     },
     "execution_count": 455,
     "metadata": {},
     "output_type": "execute_result"
    }
   ],
   "source": [
    "lyric_dict['Avant-Garde'][0]"
   ]
  },
  {
   "cell_type": "code",
   "execution_count": 34,
   "id": "b9c17374",
   "metadata": {},
   "outputs": [],
   "source": [
    "def genre_corpus_maker(lyric_dict):\n",
    "    corpus_dict = {}\n",
    "    for genre in lyric_dict.keys():\n",
    "        corpus_dict[genre] = []\n",
    "        for lyric in lyric_dict[genre]:\n",
    "            corpus_dict[genre].append(lyric)\n",
    "    return corpus_dict\n",
    "        \n",
    "        "
   ]
  },
  {
   "cell_type": "code",
   "execution_count": 120,
   "id": "912e1a14",
   "metadata": {},
   "outputs": [
    {
     "data": {
      "text/plain": [
       "True"
      ]
     },
     "execution_count": 120,
     "metadata": {},
     "output_type": "execute_result"
    }
   ],
   "source": [
    "corpus_dict == lyric_dict2"
   ]
  },
  {
   "cell_type": "code",
   "execution_count": 35,
   "id": "bca3fc7e",
   "metadata": {},
   "outputs": [],
   "source": [
    "corpus_dict = genre_corpus_maker(lyric_dict2)"
   ]
  },
  {
   "cell_type": "code",
   "execution_count": 40,
   "id": "9dcb26b1",
   "metadata": {},
   "outputs": [],
   "source": [
    "def spacy_dict_maker(corpus_dict):\n",
    "    spacy_dict = {}\n",
    "    for genre in corpus_dict.keys():\n",
    "        spacy_dict[genre] = []\n",
    "        for lyric in corpus_dict[genre]:\n",
    "            doc = nlp(lyric)\n",
    "            spacy_dict[genre].append(doc)\n",
    "    return spacy_dict"
   ]
  },
  {
   "cell_type": "code",
   "execution_count": 41,
   "id": "15af4fba",
   "metadata": {},
   "outputs": [],
   "source": [
    "spacy_dict = spacy_dict_maker(corpus_dict)"
   ]
  },
  {
   "cell_type": "code",
   "execution_count": 116,
   "id": "01ff58ba",
   "metadata": {},
   "outputs": [],
   "source": [
    "punc = string.punctuation\n",
    "nlp = spacy.load('en_core_web_sm')\n",
    "stop_words = spacy.lang.en.stop_words.STOP_WORDS\n",
    "parser = English()\n",
    "\n",
    "def spacy_tokenizer(lyrics):\n",
    "    doc = parser(lyrics)\n",
    "    doc = re.sub(re.escape(punc), \"\", doc)\n",
    "    doc = [word.lemma_.lower().strip() if word.lemma_ != \"-PRON-\" else word.lower_ for word in doc]\n",
    "    doc = [word for word in doc if word not in stop_words and word not in punc]\n",
    "    return doc"
   ]
  },
  {
   "cell_type": "code",
   "execution_count": 66,
   "id": "048a74ec",
   "metadata": {},
   "outputs": [
    {
     "data": {
      "text/plain": [
       "['heard',\n",
       " 'settled',\n",
       " 'found',\n",
       " 'girl',\n",
       " 'married',\n",
       " 'heard',\n",
       " 'dreams',\n",
       " 'came',\n",
       " 'true',\n",
       " 'guess',\n",
       " 'gave',\n",
       " 'things',\n",
       " 'old',\n",
       " 'friend',\n",
       " 'shy',\n",
       " 'like',\n",
       " 'hold',\n",
       " 'hide',\n",
       " 'light',\n",
       " 'hate',\n",
       " 'turn',\n",
       " 'blue',\n",
       " 'uninvited',\n",
       " 'stay',\n",
       " 'away',\n",
       " 'fight',\n",
       " 'hoped',\n",
       " 'face',\n",
       " 'reminded',\n",
       " 'mind',\n",
       " 'find',\n",
       " 'like',\n",
       " 'wish',\n",
       " 'best',\n",
       " 'forget',\n",
       " 'beg',\n",
       " 'remember',\n",
       " 'said',\n",
       " 'lasts',\n",
       " 'love',\n",
       " 'hurts',\n",
       " 'instead',\n",
       " 'lasts',\n",
       " 'love',\n",
       " 'hurts',\n",
       " 'instead',\n",
       " 'yeah',\n",
       " 'know',\n",
       " 'time',\n",
       " 'flies',\n",
       " 'yesterday',\n",
       " 'time',\n",
       " 'lives',\n",
       " 'born',\n",
       " 'raised',\n",
       " 'summer',\n",
       " 'haze',\n",
       " 'bound',\n",
       " 'surprise',\n",
       " 'glory',\n",
       " 'days',\n",
       " 'hate',\n",
       " 'turn',\n",
       " 'blue',\n",
       " 'uninvited',\n",
       " 'stay',\n",
       " 'away',\n",
       " 'fight',\n",
       " 'hoped',\n",
       " 'face',\n",
       " 'reminded',\n",
       " 'mind',\n",
       " 'find',\n",
       " 'like',\n",
       " 'wish',\n",
       " 'best',\n",
       " 'forget',\n",
       " 'beg',\n",
       " 'remember',\n",
       " 'said',\n",
       " 'lasts',\n",
       " 'love',\n",
       " 'hurts',\n",
       " 'instead',\n",
       " 'compares',\n",
       " 'worries',\n",
       " 'cares',\n",
       " 'regrets',\n",
       " 'mistakes',\n",
       " 'memories',\n",
       " 'known',\n",
       " 'bittersweet',\n",
       " 'taste',\n",
       " 'mind',\n",
       " 'find',\n",
       " 'like',\n",
       " 'wish',\n",
       " 'best',\n",
       " 'forget',\n",
       " 'beg',\n",
       " 'remember',\n",
       " 'said',\n",
       " 'lasts',\n",
       " 'love',\n",
       " 'hurts',\n",
       " 'instead',\n",
       " 'mind',\n",
       " 'find',\n",
       " 'like',\n",
       " 'wish',\n",
       " 'best',\n",
       " 'forget',\n",
       " 'beg',\n",
       " 'remember',\n",
       " 'said',\n",
       " 'lasts',\n",
       " 'love',\n",
       " 'hurts',\n",
       " 'instead',\n",
       " 'lasts',\n",
       " 'love',\n",
       " 'hurts',\n",
       " 'instead',\n",
       " 'yeah']"
      ]
     },
     "execution_count": 66,
     "metadata": {},
     "output_type": "execute_result"
    }
   ],
   "source": []
  },
  {
   "cell_type": "code",
   "execution_count": 60,
   "id": "882bdc4e",
   "metadata": {},
   "outputs": [
    {
     "name": "stdout",
     "output_type": "stream",
     "text": [
      "['heard', 'settled', 'found', 'girl', 'married', 'heard', 'dreams', 'came', 'true', 'Guess', 'gave', 'things', 'Old', 'friend', 'shy', 'Ai', 'like', 'hold', 'hide', 'light', 'hate', 'turn', 'blue', 'uninvited', 'stay', 'away', 'fight', 'hoped', 'face', 'reminded', 'mind', 'find', 'like', 'wish', 'best', 'forget', 'beg', 'remember', 'said', 'lasts', 'love', 'hurts', 'instead', 'lasts', 'love', 'hurts', 'instead', 'yeah', 'know', 'time', 'flies', 'yesterday', 'time', 'lives', 'born', 'raised', 'summer', 'haze', 'Bound', 'surprise', 'glory', 'days', 'hate', 'turn', 'blue', 'uninvited', 'stay', 'away', 'fight', 'hoped', 'face', 'reminded', 'mind', 'find', 'like', 'wish', 'best', 'forget', 'beg', 'remember', 'said', 'lasts', 'love', 'hurts', 'instead', 'compares', 'worries', 'cares', 'Regrets', 'mistakes', 'memories', 'known', 'bittersweet', 'taste', 'mind', 'find', 'like', 'wish', 'best', 'forget', 'beg', 'remember', 'said', 'lasts', 'love', 'hurts', 'instead', 'mind', 'find', 'like', 'wish', 'best', 'forget', 'beg', 'remember', 'said', 'lasts', 'love', 'hurts', 'instead', 'lasts', 'love', 'hurts', 'instead', 'yeah']\n"
     ]
    }
   ],
   "source": [
    "punc = string.punctuation\n",
    "print([val.text for val in spacy_dict['Tens'][0] if val.is_stop != True and val.text not in ['\\n','\\n\\n'] and val.text not in punc])\n"
   ]
  },
  {
   "cell_type": "code",
   "execution_count": 117,
   "id": "0585eaa4",
   "metadata": {},
   "outputs": [],
   "source": [
    "cv = CountVectorizer(tokenizer = spacy_tokenizer, ngram_range=(1,1))\n",
    "tfidf = TfidfVectorizer(tokenizer = spacy_tokenizer)"
   ]
  },
  {
   "cell_type": "code",
   "execution_count": 88,
   "id": "e4a722d9",
   "metadata": {},
   "outputs": [],
   "source": [
    "def cv_dtm_maker(corpus_dict):\n",
    "    cv_dtm_dict = corpus_dict.copy()\n",
    "    for genre in cv_dtm_dict.keys():\n",
    "        cv_dtm_dict[genre] = cv.fit_transform(cv_dtm_dict[genre])\n",
    "        cv_dtm_dict[genre] = pd.DataFrame(cv_dtm_dict[genre].toarray(),columns=cv.get_feature_names())\n",
    "    return cv_dtm_dict\n",
    "        "
   ]
  },
  {
   "cell_type": "code",
   "execution_count": 89,
   "id": "6a16a0c1",
   "metadata": {},
   "outputs": [],
   "source": [
    "cv_dtm_dict = cv_dtm_maker(corpus_dict)"
   ]
  },
  {
   "cell_type": "code",
   "execution_count": 118,
   "id": "721b099a",
   "metadata": {},
   "outputs": [],
   "source": [
    "def tfidf_dtm_maker(corpus_dict):\n",
    "    tfidf_dtm_dict = corpus_dict.copy()\n",
    "    for genre in tfidf_dtm_dict.keys():\n",
    "        tfidf_dtm_dict[genre] = tfidf.fit_transform(tfidf_dtm_dict[genre])\n",
    "        tfidf_dtm_dict[genre] = pd.DataFrame(tfidf_dtm_dict[genre].toarray(),columns=tfidf.get_feature_names())\n",
    "    return tfidf_dtm_dict"
   ]
  },
  {
   "cell_type": "code",
   "execution_count": 119,
   "id": "3ffdce83",
   "metadata": {},
   "outputs": [
    {
     "ename": "TypeError",
     "evalue": "expected string or bytes-like object",
     "output_type": "error",
     "traceback": [
      "\u001b[0;31m---------------------------------------------------------------------------\u001b[0m",
      "\u001b[0;31mTypeError\u001b[0m                                 Traceback (most recent call last)",
      "\u001b[0;32m<ipython-input-119-0eaaaf5bbc4d>\u001b[0m in \u001b[0;36m<module>\u001b[0;34m\u001b[0m\n\u001b[0;32m----> 1\u001b[0;31m \u001b[0mtfidf_dtm_dict\u001b[0m \u001b[0;34m=\u001b[0m \u001b[0mtfidf_dtm_maker\u001b[0m\u001b[0;34m(\u001b[0m\u001b[0mcorpus_dict\u001b[0m\u001b[0;34m)\u001b[0m\u001b[0;34m\u001b[0m\u001b[0;34m\u001b[0m\u001b[0m\n\u001b[0m",
      "\u001b[0;32m<ipython-input-118-03df5b22a5e0>\u001b[0m in \u001b[0;36mtfidf_dtm_maker\u001b[0;34m(corpus_dict)\u001b[0m\n\u001b[1;32m      2\u001b[0m     \u001b[0mtfidf_dtm_dict\u001b[0m \u001b[0;34m=\u001b[0m \u001b[0mcorpus_dict\u001b[0m\u001b[0;34m.\u001b[0m\u001b[0mcopy\u001b[0m\u001b[0;34m(\u001b[0m\u001b[0;34m)\u001b[0m\u001b[0;34m\u001b[0m\u001b[0;34m\u001b[0m\u001b[0m\n\u001b[1;32m      3\u001b[0m     \u001b[0;32mfor\u001b[0m \u001b[0mgenre\u001b[0m \u001b[0;32min\u001b[0m \u001b[0mtfidf_dtm_dict\u001b[0m\u001b[0;34m.\u001b[0m\u001b[0mkeys\u001b[0m\u001b[0;34m(\u001b[0m\u001b[0;34m)\u001b[0m\u001b[0;34m:\u001b[0m\u001b[0;34m\u001b[0m\u001b[0;34m\u001b[0m\u001b[0m\n\u001b[0;32m----> 4\u001b[0;31m         \u001b[0mtfidf_dtm_dict\u001b[0m\u001b[0;34m[\u001b[0m\u001b[0mgenre\u001b[0m\u001b[0;34m]\u001b[0m \u001b[0;34m=\u001b[0m \u001b[0mtfidf\u001b[0m\u001b[0;34m.\u001b[0m\u001b[0mfit_transform\u001b[0m\u001b[0;34m(\u001b[0m\u001b[0mtfidf_dtm_dict\u001b[0m\u001b[0;34m[\u001b[0m\u001b[0mgenre\u001b[0m\u001b[0;34m]\u001b[0m\u001b[0;34m)\u001b[0m\u001b[0;34m\u001b[0m\u001b[0;34m\u001b[0m\u001b[0m\n\u001b[0m\u001b[1;32m      5\u001b[0m         \u001b[0mtfidf_dtm_dict\u001b[0m\u001b[0;34m[\u001b[0m\u001b[0mgenre\u001b[0m\u001b[0;34m]\u001b[0m \u001b[0;34m=\u001b[0m \u001b[0mpd\u001b[0m\u001b[0;34m.\u001b[0m\u001b[0mDataFrame\u001b[0m\u001b[0;34m(\u001b[0m\u001b[0mtfidf_dtm_dict\u001b[0m\u001b[0;34m[\u001b[0m\u001b[0mgenre\u001b[0m\u001b[0;34m]\u001b[0m\u001b[0;34m.\u001b[0m\u001b[0mtoarray\u001b[0m\u001b[0;34m(\u001b[0m\u001b[0;34m)\u001b[0m\u001b[0;34m,\u001b[0m\u001b[0mcolumns\u001b[0m\u001b[0;34m=\u001b[0m\u001b[0mtfidf\u001b[0m\u001b[0;34m.\u001b[0m\u001b[0mget_feature_names\u001b[0m\u001b[0;34m(\u001b[0m\u001b[0;34m)\u001b[0m\u001b[0;34m)\u001b[0m\u001b[0;34m\u001b[0m\u001b[0;34m\u001b[0m\u001b[0m\n\u001b[1;32m      6\u001b[0m     \u001b[0;32mreturn\u001b[0m \u001b[0mtfidf_dtm_dict\u001b[0m\u001b[0;34m\u001b[0m\u001b[0;34m\u001b[0m\u001b[0m\n",
      "\u001b[0;32m/opt/anaconda3/lib/python3.8/site-packages/sklearn/feature_extraction/text.py\u001b[0m in \u001b[0;36mfit_transform\u001b[0;34m(self, raw_documents, y)\u001b[0m\n\u001b[1;32m   1848\u001b[0m         \"\"\"\n\u001b[1;32m   1849\u001b[0m         \u001b[0mself\u001b[0m\u001b[0;34m.\u001b[0m\u001b[0m_check_params\u001b[0m\u001b[0;34m(\u001b[0m\u001b[0;34m)\u001b[0m\u001b[0;34m\u001b[0m\u001b[0;34m\u001b[0m\u001b[0m\n\u001b[0;32m-> 1850\u001b[0;31m         \u001b[0mX\u001b[0m \u001b[0;34m=\u001b[0m \u001b[0msuper\u001b[0m\u001b[0;34m(\u001b[0m\u001b[0;34m)\u001b[0m\u001b[0;34m.\u001b[0m\u001b[0mfit_transform\u001b[0m\u001b[0;34m(\u001b[0m\u001b[0mraw_documents\u001b[0m\u001b[0;34m)\u001b[0m\u001b[0;34m\u001b[0m\u001b[0;34m\u001b[0m\u001b[0m\n\u001b[0m\u001b[1;32m   1851\u001b[0m         \u001b[0mself\u001b[0m\u001b[0;34m.\u001b[0m\u001b[0m_tfidf\u001b[0m\u001b[0;34m.\u001b[0m\u001b[0mfit\u001b[0m\u001b[0;34m(\u001b[0m\u001b[0mX\u001b[0m\u001b[0;34m)\u001b[0m\u001b[0;34m\u001b[0m\u001b[0;34m\u001b[0m\u001b[0m\n\u001b[1;32m   1852\u001b[0m         \u001b[0;31m# X is already a transformed view of raw_documents so\u001b[0m\u001b[0;34m\u001b[0m\u001b[0;34m\u001b[0m\u001b[0;34m\u001b[0m\u001b[0m\n",
      "\u001b[0;32m/opt/anaconda3/lib/python3.8/site-packages/sklearn/feature_extraction/text.py\u001b[0m in \u001b[0;36mfit_transform\u001b[0;34m(self, raw_documents, y)\u001b[0m\n\u001b[1;32m   1201\u001b[0m         \u001b[0mmax_features\u001b[0m \u001b[0;34m=\u001b[0m \u001b[0mself\u001b[0m\u001b[0;34m.\u001b[0m\u001b[0mmax_features\u001b[0m\u001b[0;34m\u001b[0m\u001b[0;34m\u001b[0m\u001b[0m\n\u001b[1;32m   1202\u001b[0m \u001b[0;34m\u001b[0m\u001b[0m\n\u001b[0;32m-> 1203\u001b[0;31m         vocabulary, X = self._count_vocab(raw_documents,\n\u001b[0m\u001b[1;32m   1204\u001b[0m                                           self.fixed_vocabulary_)\n\u001b[1;32m   1205\u001b[0m \u001b[0;34m\u001b[0m\u001b[0m\n",
      "\u001b[0;32m/opt/anaconda3/lib/python3.8/site-packages/sklearn/feature_extraction/text.py\u001b[0m in \u001b[0;36m_count_vocab\u001b[0;34m(self, raw_documents, fixed_vocab)\u001b[0m\n\u001b[1;32m   1113\u001b[0m         \u001b[0;32mfor\u001b[0m \u001b[0mdoc\u001b[0m \u001b[0;32min\u001b[0m \u001b[0mraw_documents\u001b[0m\u001b[0;34m:\u001b[0m\u001b[0;34m\u001b[0m\u001b[0;34m\u001b[0m\u001b[0m\n\u001b[1;32m   1114\u001b[0m             \u001b[0mfeature_counter\u001b[0m \u001b[0;34m=\u001b[0m \u001b[0;34m{\u001b[0m\u001b[0;34m}\u001b[0m\u001b[0;34m\u001b[0m\u001b[0;34m\u001b[0m\u001b[0m\n\u001b[0;32m-> 1115\u001b[0;31m             \u001b[0;32mfor\u001b[0m \u001b[0mfeature\u001b[0m \u001b[0;32min\u001b[0m \u001b[0manalyze\u001b[0m\u001b[0;34m(\u001b[0m\u001b[0mdoc\u001b[0m\u001b[0;34m)\u001b[0m\u001b[0;34m:\u001b[0m\u001b[0;34m\u001b[0m\u001b[0;34m\u001b[0m\u001b[0m\n\u001b[0m\u001b[1;32m   1116\u001b[0m                 \u001b[0;32mtry\u001b[0m\u001b[0;34m:\u001b[0m\u001b[0;34m\u001b[0m\u001b[0;34m\u001b[0m\u001b[0m\n\u001b[1;32m   1117\u001b[0m                     \u001b[0mfeature_idx\u001b[0m \u001b[0;34m=\u001b[0m \u001b[0mvocabulary\u001b[0m\u001b[0;34m[\u001b[0m\u001b[0mfeature\u001b[0m\u001b[0;34m]\u001b[0m\u001b[0;34m\u001b[0m\u001b[0;34m\u001b[0m\u001b[0m\n",
      "\u001b[0;32m/opt/anaconda3/lib/python3.8/site-packages/sklearn/feature_extraction/text.py\u001b[0m in \u001b[0;36m_analyze\u001b[0;34m(doc, analyzer, tokenizer, ngrams, preprocessor, decoder, stop_words)\u001b[0m\n\u001b[1;32m    104\u001b[0m             \u001b[0mdoc\u001b[0m \u001b[0;34m=\u001b[0m \u001b[0mpreprocessor\u001b[0m\u001b[0;34m(\u001b[0m\u001b[0mdoc\u001b[0m\u001b[0;34m)\u001b[0m\u001b[0;34m\u001b[0m\u001b[0;34m\u001b[0m\u001b[0m\n\u001b[1;32m    105\u001b[0m         \u001b[0;32mif\u001b[0m \u001b[0mtokenizer\u001b[0m \u001b[0;32mis\u001b[0m \u001b[0;32mnot\u001b[0m \u001b[0;32mNone\u001b[0m\u001b[0;34m:\u001b[0m\u001b[0;34m\u001b[0m\u001b[0;34m\u001b[0m\u001b[0m\n\u001b[0;32m--> 106\u001b[0;31m             \u001b[0mdoc\u001b[0m \u001b[0;34m=\u001b[0m \u001b[0mtokenizer\u001b[0m\u001b[0;34m(\u001b[0m\u001b[0mdoc\u001b[0m\u001b[0;34m)\u001b[0m\u001b[0;34m\u001b[0m\u001b[0;34m\u001b[0m\u001b[0m\n\u001b[0m\u001b[1;32m    107\u001b[0m         \u001b[0;32mif\u001b[0m \u001b[0mngrams\u001b[0m \u001b[0;32mis\u001b[0m \u001b[0;32mnot\u001b[0m \u001b[0;32mNone\u001b[0m\u001b[0;34m:\u001b[0m\u001b[0;34m\u001b[0m\u001b[0;34m\u001b[0m\u001b[0m\n\u001b[1;32m    108\u001b[0m             \u001b[0;32mif\u001b[0m \u001b[0mstop_words\u001b[0m \u001b[0;32mis\u001b[0m \u001b[0;32mnot\u001b[0m \u001b[0;32mNone\u001b[0m\u001b[0;34m:\u001b[0m\u001b[0;34m\u001b[0m\u001b[0;34m\u001b[0m\u001b[0m\n",
      "\u001b[0;32m<ipython-input-116-dc21699c04b5>\u001b[0m in \u001b[0;36mspacy_tokenizer\u001b[0;34m(lyrics)\u001b[0m\n\u001b[1;32m      6\u001b[0m \u001b[0;32mdef\u001b[0m \u001b[0mspacy_tokenizer\u001b[0m\u001b[0;34m(\u001b[0m\u001b[0mlyrics\u001b[0m\u001b[0;34m)\u001b[0m\u001b[0;34m:\u001b[0m\u001b[0;34m\u001b[0m\u001b[0;34m\u001b[0m\u001b[0m\n\u001b[1;32m      7\u001b[0m     \u001b[0mdoc\u001b[0m \u001b[0;34m=\u001b[0m \u001b[0mparser\u001b[0m\u001b[0;34m(\u001b[0m\u001b[0mlyrics\u001b[0m\u001b[0;34m)\u001b[0m\u001b[0;34m\u001b[0m\u001b[0;34m\u001b[0m\u001b[0m\n\u001b[0;32m----> 8\u001b[0;31m     \u001b[0mdoc\u001b[0m \u001b[0;34m=\u001b[0m \u001b[0mre\u001b[0m\u001b[0;34m.\u001b[0m\u001b[0msub\u001b[0m\u001b[0;34m(\u001b[0m\u001b[0mre\u001b[0m\u001b[0;34m.\u001b[0m\u001b[0mescape\u001b[0m\u001b[0;34m(\u001b[0m\u001b[0mpunc\u001b[0m\u001b[0;34m)\u001b[0m\u001b[0;34m,\u001b[0m \u001b[0;34m\"\"\u001b[0m\u001b[0;34m,\u001b[0m \u001b[0mdoc\u001b[0m\u001b[0;34m)\u001b[0m\u001b[0;34m\u001b[0m\u001b[0;34m\u001b[0m\u001b[0m\n\u001b[0m\u001b[1;32m      9\u001b[0m     \u001b[0mdoc\u001b[0m \u001b[0;34m=\u001b[0m \u001b[0;34m[\u001b[0m\u001b[0mword\u001b[0m\u001b[0;34m.\u001b[0m\u001b[0mlemma_\u001b[0m\u001b[0;34m.\u001b[0m\u001b[0mlower\u001b[0m\u001b[0;34m(\u001b[0m\u001b[0;34m)\u001b[0m\u001b[0;34m.\u001b[0m\u001b[0mstrip\u001b[0m\u001b[0;34m(\u001b[0m\u001b[0;34m)\u001b[0m \u001b[0;32mif\u001b[0m \u001b[0mword\u001b[0m\u001b[0;34m.\u001b[0m\u001b[0mlemma_\u001b[0m \u001b[0;34m!=\u001b[0m \u001b[0;34m\"-PRON-\"\u001b[0m \u001b[0;32melse\u001b[0m \u001b[0mword\u001b[0m\u001b[0;34m.\u001b[0m\u001b[0mlower_\u001b[0m \u001b[0;32mfor\u001b[0m \u001b[0mword\u001b[0m \u001b[0;32min\u001b[0m \u001b[0mdoc\u001b[0m\u001b[0;34m]\u001b[0m\u001b[0;34m\u001b[0m\u001b[0;34m\u001b[0m\u001b[0m\n\u001b[1;32m     10\u001b[0m     \u001b[0mdoc\u001b[0m \u001b[0;34m=\u001b[0m \u001b[0;34m[\u001b[0m\u001b[0mword\u001b[0m \u001b[0;32mfor\u001b[0m \u001b[0mword\u001b[0m \u001b[0;32min\u001b[0m \u001b[0mdoc\u001b[0m \u001b[0;32mif\u001b[0m \u001b[0mword\u001b[0m \u001b[0;32mnot\u001b[0m \u001b[0;32min\u001b[0m \u001b[0mstop_words\u001b[0m \u001b[0;32mand\u001b[0m \u001b[0mword\u001b[0m \u001b[0;32mnot\u001b[0m \u001b[0;32min\u001b[0m \u001b[0mpunc\u001b[0m\u001b[0;34m]\u001b[0m\u001b[0;34m\u001b[0m\u001b[0;34m\u001b[0m\u001b[0m\n",
      "\u001b[0;32m/opt/anaconda3/lib/python3.8/re.py\u001b[0m in \u001b[0;36msub\u001b[0;34m(pattern, repl, string, count, flags)\u001b[0m\n\u001b[1;32m    208\u001b[0m     \u001b[0ma\u001b[0m \u001b[0mcallable\u001b[0m\u001b[0;34m,\u001b[0m \u001b[0mit\u001b[0m\u001b[0;31m'\u001b[0m\u001b[0ms\u001b[0m \u001b[0mpassed\u001b[0m \u001b[0mthe\u001b[0m \u001b[0mMatch\u001b[0m \u001b[0mobject\u001b[0m \u001b[0;32mand\u001b[0m \u001b[0mmust\u001b[0m \u001b[0;32mreturn\u001b[0m\u001b[0;34m\u001b[0m\u001b[0;34m\u001b[0m\u001b[0m\n\u001b[1;32m    209\u001b[0m     a replacement string to be used.\"\"\"\n\u001b[0;32m--> 210\u001b[0;31m     \u001b[0;32mreturn\u001b[0m \u001b[0m_compile\u001b[0m\u001b[0;34m(\u001b[0m\u001b[0mpattern\u001b[0m\u001b[0;34m,\u001b[0m \u001b[0mflags\u001b[0m\u001b[0;34m)\u001b[0m\u001b[0;34m.\u001b[0m\u001b[0msub\u001b[0m\u001b[0;34m(\u001b[0m\u001b[0mrepl\u001b[0m\u001b[0;34m,\u001b[0m \u001b[0mstring\u001b[0m\u001b[0;34m,\u001b[0m \u001b[0mcount\u001b[0m\u001b[0;34m)\u001b[0m\u001b[0;34m\u001b[0m\u001b[0;34m\u001b[0m\u001b[0m\n\u001b[0m\u001b[1;32m    211\u001b[0m \u001b[0;34m\u001b[0m\u001b[0m\n\u001b[1;32m    212\u001b[0m \u001b[0;32mdef\u001b[0m \u001b[0msubn\u001b[0m\u001b[0;34m(\u001b[0m\u001b[0mpattern\u001b[0m\u001b[0;34m,\u001b[0m \u001b[0mrepl\u001b[0m\u001b[0;34m,\u001b[0m \u001b[0mstring\u001b[0m\u001b[0;34m,\u001b[0m \u001b[0mcount\u001b[0m\u001b[0;34m=\u001b[0m\u001b[0;36m0\u001b[0m\u001b[0;34m,\u001b[0m \u001b[0mflags\u001b[0m\u001b[0;34m=\u001b[0m\u001b[0;36m0\u001b[0m\u001b[0;34m)\u001b[0m\u001b[0;34m:\u001b[0m\u001b[0;34m\u001b[0m\u001b[0;34m\u001b[0m\u001b[0m\n",
      "\u001b[0;31mTypeError\u001b[0m: expected string or bytes-like object"
     ]
    }
   ],
   "source": [
    "tfidf_dtm_dict = tfidf_dtm_maker(corpus_dict)"
   ]
  },
  {
   "cell_type": "code",
   "execution_count": 87,
   "id": "37313ea4",
   "metadata": {},
   "outputs": [
    {
     "data": {
      "text/plain": [
       "'’'"
      ]
     },
     "execution_count": 87,
     "metadata": {},
     "output_type": "execute_result"
    }
   ],
   "source": [
    "max(tfidf_dtm_dict['Fifties'])"
   ]
  },
  {
   "cell_type": "code",
   "execution_count": 90,
   "id": "01d3c570",
   "metadata": {},
   "outputs": [],
   "source": [
    "nmf = NMF(2)\n",
    "def nmf_generator(dtm_dict):\n",
    "    nmf_dict = {}\n",
    "    for genre in dtm_dict.keys():\n",
    "        nmf_dict[genre] = nmf.fit(dtm_dict[genre])\n",
    "    return nmf_dict"
   ]
  },
  {
   "cell_type": "code",
   "execution_count": 542,
   "id": "bc282736",
   "metadata": {},
   "outputs": [
    {
     "name": "stderr",
     "output_type": "stream",
     "text": [
      "/opt/anaconda3/lib/python3.8/site-packages/sklearn/decomposition/_nmf.py:312: FutureWarning: The 'init' value, when 'init=None' and n_components is less than n_samples and n_features, will be changed from 'nndsvd' to 'nndsvda' in 1.1 (renaming of 0.26).\n",
      "  warnings.warn((\"The 'init' value, when 'init=None' and \"\n",
      "/opt/anaconda3/lib/python3.8/site-packages/sklearn/decomposition/_nmf.py:312: FutureWarning: The 'init' value, when 'init=None' and n_components is less than n_samples and n_features, will be changed from 'nndsvd' to 'nndsvda' in 1.1 (renaming of 0.26).\n",
      "  warnings.warn((\"The 'init' value, when 'init=None' and \"\n",
      "/opt/anaconda3/lib/python3.8/site-packages/sklearn/decomposition/_nmf.py:312: FutureWarning: The 'init' value, when 'init=None' and n_components is less than n_samples and n_features, will be changed from 'nndsvd' to 'nndsvda' in 1.1 (renaming of 0.26).\n",
      "  warnings.warn((\"The 'init' value, when 'init=None' and \"\n",
      "/opt/anaconda3/lib/python3.8/site-packages/sklearn/decomposition/_nmf.py:312: FutureWarning: The 'init' value, when 'init=None' and n_components is less than n_samples and n_features, will be changed from 'nndsvd' to 'nndsvda' in 1.1 (renaming of 0.26).\n",
      "  warnings.warn((\"The 'init' value, when 'init=None' and \"\n",
      "/opt/anaconda3/lib/python3.8/site-packages/sklearn/decomposition/_nmf.py:312: FutureWarning: The 'init' value, when 'init=None' and n_components is less than n_samples and n_features, will be changed from 'nndsvd' to 'nndsvda' in 1.1 (renaming of 0.26).\n",
      "  warnings.warn((\"The 'init' value, when 'init=None' and \"\n",
      "/opt/anaconda3/lib/python3.8/site-packages/sklearn/decomposition/_nmf.py:312: FutureWarning: The 'init' value, when 'init=None' and n_components is less than n_samples and n_features, will be changed from 'nndsvd' to 'nndsvda' in 1.1 (renaming of 0.26).\n",
      "  warnings.warn((\"The 'init' value, when 'init=None' and \"\n",
      "/opt/anaconda3/lib/python3.8/site-packages/sklearn/decomposition/_nmf.py:312: FutureWarning: The 'init' value, when 'init=None' and n_components is less than n_samples and n_features, will be changed from 'nndsvd' to 'nndsvda' in 1.1 (renaming of 0.26).\n",
      "  warnings.warn((\"The 'init' value, when 'init=None' and \"\n",
      "/opt/anaconda3/lib/python3.8/site-packages/sklearn/decomposition/_nmf.py:312: FutureWarning: The 'init' value, when 'init=None' and n_components is less than n_samples and n_features, will be changed from 'nndsvd' to 'nndsvda' in 1.1 (renaming of 0.26).\n",
      "  warnings.warn((\"The 'init' value, when 'init=None' and \"\n",
      "/opt/anaconda3/lib/python3.8/site-packages/sklearn/decomposition/_nmf.py:312: FutureWarning: The 'init' value, when 'init=None' and n_components is less than n_samples and n_features, will be changed from 'nndsvd' to 'nndsvda' in 1.1 (renaming of 0.26).\n",
      "  warnings.warn((\"The 'init' value, when 'init=None' and \"\n",
      "/opt/anaconda3/lib/python3.8/site-packages/sklearn/decomposition/_nmf.py:312: FutureWarning: The 'init' value, when 'init=None' and n_components is less than n_samples and n_features, will be changed from 'nndsvd' to 'nndsvda' in 1.1 (renaming of 0.26).\n",
      "  warnings.warn((\"The 'init' value, when 'init=None' and \"\n",
      "/opt/anaconda3/lib/python3.8/site-packages/sklearn/decomposition/_nmf.py:312: FutureWarning: The 'init' value, when 'init=None' and n_components is less than n_samples and n_features, will be changed from 'nndsvd' to 'nndsvda' in 1.1 (renaming of 0.26).\n",
      "  warnings.warn((\"The 'init' value, when 'init=None' and \"\n",
      "/opt/anaconda3/lib/python3.8/site-packages/sklearn/decomposition/_nmf.py:312: FutureWarning: The 'init' value, when 'init=None' and n_components is less than n_samples and n_features, will be changed from 'nndsvd' to 'nndsvda' in 1.1 (renaming of 0.26).\n",
      "  warnings.warn((\"The 'init' value, when 'init=None' and \"\n",
      "/opt/anaconda3/lib/python3.8/site-packages/sklearn/decomposition/_nmf.py:312: FutureWarning: The 'init' value, when 'init=None' and n_components is less than n_samples and n_features, will be changed from 'nndsvd' to 'nndsvda' in 1.1 (renaming of 0.26).\n",
      "  warnings.warn((\"The 'init' value, when 'init=None' and \"\n",
      "/opt/anaconda3/lib/python3.8/site-packages/sklearn/decomposition/_nmf.py:312: FutureWarning: The 'init' value, when 'init=None' and n_components is less than n_samples and n_features, will be changed from 'nndsvd' to 'nndsvda' in 1.1 (renaming of 0.26).\n",
      "  warnings.warn((\"The 'init' value, when 'init=None' and \"\n",
      "/opt/anaconda3/lib/python3.8/site-packages/sklearn/decomposition/_nmf.py:312: FutureWarning: The 'init' value, when 'init=None' and n_components is less than n_samples and n_features, will be changed from 'nndsvd' to 'nndsvda' in 1.1 (renaming of 0.26).\n",
      "  warnings.warn((\"The 'init' value, when 'init=None' and \"\n",
      "/opt/anaconda3/lib/python3.8/site-packages/sklearn/decomposition/_nmf.py:312: FutureWarning: The 'init' value, when 'init=None' and n_components is less than n_samples and n_features, will be changed from 'nndsvd' to 'nndsvda' in 1.1 (renaming of 0.26).\n",
      "  warnings.warn((\"The 'init' value, when 'init=None' and \"\n",
      "/opt/anaconda3/lib/python3.8/site-packages/sklearn/decomposition/_nmf.py:312: FutureWarning: The 'init' value, when 'init=None' and n_components is less than n_samples and n_features, will be changed from 'nndsvd' to 'nndsvda' in 1.1 (renaming of 0.26).\n",
      "  warnings.warn((\"The 'init' value, when 'init=None' and \"\n",
      "/opt/anaconda3/lib/python3.8/site-packages/sklearn/decomposition/_nmf.py:312: FutureWarning: The 'init' value, when 'init=None' and n_components is less than n_samples and n_features, will be changed from 'nndsvd' to 'nndsvda' in 1.1 (renaming of 0.26).\n",
      "  warnings.warn((\"The 'init' value, when 'init=None' and \"\n",
      "/opt/anaconda3/lib/python3.8/site-packages/sklearn/decomposition/_nmf.py:312: FutureWarning: The 'init' value, when 'init=None' and n_components is less than n_samples and n_features, will be changed from 'nndsvd' to 'nndsvda' in 1.1 (renaming of 0.26).\n",
      "  warnings.warn((\"The 'init' value, when 'init=None' and \"\n",
      "/opt/anaconda3/lib/python3.8/site-packages/sklearn/decomposition/_nmf.py:312: FutureWarning: The 'init' value, when 'init=None' and n_components is less than n_samples and n_features, will be changed from 'nndsvd' to 'nndsvda' in 1.1 (renaming of 0.26).\n",
      "  warnings.warn((\"The 'init' value, when 'init=None' and \"\n",
      "/opt/anaconda3/lib/python3.8/site-packages/sklearn/decomposition/_nmf.py:312: FutureWarning: The 'init' value, when 'init=None' and n_components is less than n_samples and n_features, will be changed from 'nndsvd' to 'nndsvda' in 1.1 (renaming of 0.26).\n",
      "  warnings.warn((\"The 'init' value, when 'init=None' and \"\n",
      "/opt/anaconda3/lib/python3.8/site-packages/sklearn/decomposition/_nmf.py:312: FutureWarning: The 'init' value, when 'init=None' and n_components is less than n_samples and n_features, will be changed from 'nndsvd' to 'nndsvda' in 1.1 (renaming of 0.26).\n",
      "  warnings.warn((\"The 'init' value, when 'init=None' and \"\n",
      "/opt/anaconda3/lib/python3.8/site-packages/sklearn/decomposition/_nmf.py:312: FutureWarning: The 'init' value, when 'init=None' and n_components is less than n_samples and n_features, will be changed from 'nndsvd' to 'nndsvda' in 1.1 (renaming of 0.26).\n",
      "  warnings.warn((\"The 'init' value, when 'init=None' and \"\n",
      "/opt/anaconda3/lib/python3.8/site-packages/sklearn/decomposition/_nmf.py:312: FutureWarning: The 'init' value, when 'init=None' and n_components is less than n_samples and n_features, will be changed from 'nndsvd' to 'nndsvda' in 1.1 (renaming of 0.26).\n",
      "  warnings.warn((\"The 'init' value, when 'init=None' and \"\n",
      "/opt/anaconda3/lib/python3.8/site-packages/sklearn/decomposition/_nmf.py:312: FutureWarning: The 'init' value, when 'init=None' and n_components is less than n_samples and n_features, will be changed from 'nndsvd' to 'nndsvda' in 1.1 (renaming of 0.26).\n",
      "  warnings.warn((\"The 'init' value, when 'init=None' and \"\n",
      "/opt/anaconda3/lib/python3.8/site-packages/sklearn/decomposition/_nmf.py:312: FutureWarning: The 'init' value, when 'init=None' and n_components is less than n_samples and n_features, will be changed from 'nndsvd' to 'nndsvda' in 1.1 (renaming of 0.26).\n",
      "  warnings.warn((\"The 'init' value, when 'init=None' and \"\n",
      "/opt/anaconda3/lib/python3.8/site-packages/sklearn/decomposition/_nmf.py:312: FutureWarning: The 'init' value, when 'init=None' and n_components is less than n_samples and n_features, will be changed from 'nndsvd' to 'nndsvda' in 1.1 (renaming of 0.26).\n",
      "  warnings.warn((\"The 'init' value, when 'init=None' and \"\n",
      "/opt/anaconda3/lib/python3.8/site-packages/sklearn/decomposition/_nmf.py:312: FutureWarning: The 'init' value, when 'init=None' and n_components is less than n_samples and n_features, will be changed from 'nndsvd' to 'nndsvda' in 1.1 (renaming of 0.26).\n",
      "  warnings.warn((\"The 'init' value, when 'init=None' and \"\n",
      "/opt/anaconda3/lib/python3.8/site-packages/sklearn/decomposition/_nmf.py:312: FutureWarning: The 'init' value, when 'init=None' and n_components is less than n_samples and n_features, will be changed from 'nndsvd' to 'nndsvda' in 1.1 (renaming of 0.26).\n",
      "  warnings.warn((\"The 'init' value, when 'init=None' and \"\n",
      "/opt/anaconda3/lib/python3.8/site-packages/sklearn/decomposition/_nmf.py:312: FutureWarning: The 'init' value, when 'init=None' and n_components is less than n_samples and n_features, will be changed from 'nndsvd' to 'nndsvda' in 1.1 (renaming of 0.26).\n",
      "  warnings.warn((\"The 'init' value, when 'init=None' and \"\n",
      "/opt/anaconda3/lib/python3.8/site-packages/sklearn/decomposition/_nmf.py:312: FutureWarning: The 'init' value, when 'init=None' and n_components is less than n_samples and n_features, will be changed from 'nndsvd' to 'nndsvda' in 1.1 (renaming of 0.26).\n",
      "  warnings.warn((\"The 'init' value, when 'init=None' and \"\n",
      "/opt/anaconda3/lib/python3.8/site-packages/sklearn/decomposition/_nmf.py:312: FutureWarning: The 'init' value, when 'init=None' and n_components is less than n_samples and n_features, will be changed from 'nndsvd' to 'nndsvda' in 1.1 (renaming of 0.26).\n",
      "  warnings.warn((\"The 'init' value, when 'init=None' and \"\n"
     ]
    }
   ],
   "source": [
    "cv_nmf_dict = nmf_generator(cv_dtm_dict)"
   ]
  },
  {
   "cell_type": "code",
   "execution_count": 91,
   "id": "fa0a4ca1",
   "metadata": {},
   "outputs": [
    {
     "name": "stderr",
     "output_type": "stream",
     "text": [
      "/opt/anaconda3/lib/python3.8/site-packages/sklearn/decomposition/_nmf.py:312: FutureWarning: The 'init' value, when 'init=None' and n_components is less than n_samples and n_features, will be changed from 'nndsvd' to 'nndsvda' in 1.1 (renaming of 0.26).\n",
      "  warnings.warn((\"The 'init' value, when 'init=None' and \"\n",
      "/opt/anaconda3/lib/python3.8/site-packages/sklearn/decomposition/_nmf.py:312: FutureWarning: The 'init' value, when 'init=None' and n_components is less than n_samples and n_features, will be changed from 'nndsvd' to 'nndsvda' in 1.1 (renaming of 0.26).\n",
      "  warnings.warn((\"The 'init' value, when 'init=None' and \"\n",
      "/opt/anaconda3/lib/python3.8/site-packages/sklearn/decomposition/_nmf.py:312: FutureWarning: The 'init' value, when 'init=None' and n_components is less than n_samples and n_features, will be changed from 'nndsvd' to 'nndsvda' in 1.1 (renaming of 0.26).\n",
      "  warnings.warn((\"The 'init' value, when 'init=None' and \"\n",
      "/opt/anaconda3/lib/python3.8/site-packages/sklearn/decomposition/_nmf.py:312: FutureWarning: The 'init' value, when 'init=None' and n_components is less than n_samples and n_features, will be changed from 'nndsvd' to 'nndsvda' in 1.1 (renaming of 0.26).\n",
      "  warnings.warn((\"The 'init' value, when 'init=None' and \"\n",
      "/opt/anaconda3/lib/python3.8/site-packages/sklearn/decomposition/_nmf.py:312: FutureWarning: The 'init' value, when 'init=None' and n_components is less than n_samples and n_features, will be changed from 'nndsvd' to 'nndsvda' in 1.1 (renaming of 0.26).\n",
      "  warnings.warn((\"The 'init' value, when 'init=None' and \"\n",
      "/opt/anaconda3/lib/python3.8/site-packages/sklearn/decomposition/_nmf.py:312: FutureWarning: The 'init' value, when 'init=None' and n_components is less than n_samples and n_features, will be changed from 'nndsvd' to 'nndsvda' in 1.1 (renaming of 0.26).\n",
      "  warnings.warn((\"The 'init' value, when 'init=None' and \"\n",
      "/opt/anaconda3/lib/python3.8/site-packages/sklearn/decomposition/_nmf.py:312: FutureWarning: The 'init' value, when 'init=None' and n_components is less than n_samples and n_features, will be changed from 'nndsvd' to 'nndsvda' in 1.1 (renaming of 0.26).\n",
      "  warnings.warn((\"The 'init' value, when 'init=None' and \"\n",
      "/opt/anaconda3/lib/python3.8/site-packages/sklearn/decomposition/_nmf.py:312: FutureWarning: The 'init' value, when 'init=None' and n_components is less than n_samples and n_features, will be changed from 'nndsvd' to 'nndsvda' in 1.1 (renaming of 0.26).\n",
      "  warnings.warn((\"The 'init' value, when 'init=None' and \"\n",
      "/opt/anaconda3/lib/python3.8/site-packages/sklearn/decomposition/_nmf.py:312: FutureWarning: The 'init' value, when 'init=None' and n_components is less than n_samples and n_features, will be changed from 'nndsvd' to 'nndsvda' in 1.1 (renaming of 0.26).\n",
      "  warnings.warn((\"The 'init' value, when 'init=None' and \"\n",
      "/opt/anaconda3/lib/python3.8/site-packages/sklearn/decomposition/_nmf.py:312: FutureWarning: The 'init' value, when 'init=None' and n_components is less than n_samples and n_features, will be changed from 'nndsvd' to 'nndsvda' in 1.1 (renaming of 0.26).\n",
      "  warnings.warn((\"The 'init' value, when 'init=None' and \"\n",
      "/opt/anaconda3/lib/python3.8/site-packages/sklearn/decomposition/_nmf.py:1090: ConvergenceWarning: Maximum number of iterations 200 reached. Increase it to improve convergence.\n",
      "  warnings.warn(\"Maximum number of iterations %d reached. Increase it to\"\n",
      "/opt/anaconda3/lib/python3.8/site-packages/sklearn/decomposition/_nmf.py:312: FutureWarning: The 'init' value, when 'init=None' and n_components is less than n_samples and n_features, will be changed from 'nndsvd' to 'nndsvda' in 1.1 (renaming of 0.26).\n",
      "  warnings.warn((\"The 'init' value, when 'init=None' and \"\n",
      "/opt/anaconda3/lib/python3.8/site-packages/sklearn/decomposition/_nmf.py:312: FutureWarning: The 'init' value, when 'init=None' and n_components is less than n_samples and n_features, will be changed from 'nndsvd' to 'nndsvda' in 1.1 (renaming of 0.26).\n",
      "  warnings.warn((\"The 'init' value, when 'init=None' and \"\n",
      "/opt/anaconda3/lib/python3.8/site-packages/sklearn/decomposition/_nmf.py:312: FutureWarning: The 'init' value, when 'init=None' and n_components is less than n_samples and n_features, will be changed from 'nndsvd' to 'nndsvda' in 1.1 (renaming of 0.26).\n",
      "  warnings.warn((\"The 'init' value, when 'init=None' and \"\n",
      "/opt/anaconda3/lib/python3.8/site-packages/sklearn/decomposition/_nmf.py:312: FutureWarning: The 'init' value, when 'init=None' and n_components is less than n_samples and n_features, will be changed from 'nndsvd' to 'nndsvda' in 1.1 (renaming of 0.26).\n",
      "  warnings.warn((\"The 'init' value, when 'init=None' and \"\n"
     ]
    }
   ],
   "source": [
    "tfidf_nmf_dict = nmf_generator(tfidf_dtm_dict) "
   ]
  },
  {
   "cell_type": "code",
   "execution_count": 106,
   "id": "715cca3b",
   "metadata": {},
   "outputs": [
    {
     "name": "stdout",
     "output_type": "stream",
     "text": [
      "[0.00263127 0.05999579 0.00486381 ... 0.01631582 0.00156255 0.02088692] [\"'em\", '...', '2x', 'able', 'abundance', 'ache', 'aches', 'addictions', 'adore', 'affections', 'afflictions', 'afford', 'afraid', 'africa', 'ago', 'air', 'alive', 'almighty', 'alright', 'amazed', 'amazes', 'amazing', 'ambition', 'amo', 'angels', 'answer', 'answered', 'answers', 'anymore', 'apart', 'appear', 'aprueben', 'are-', 'arise', 'armor', 'arms', 'army', 'arrive', 'art', 'ashamed', 'ashes', 'ask', 'asking', 'astray', 'aunque', 'australia', 'author', 'autumn', 'awaiting', 'awake', 'away', 'awe', 'awesome', 'awestruck', 'band', 'barely', 'battered', 'battle', 'battles', 'bear', 'beat', 'beaten', 'beautiful', 'beauty', 'bebo', 'began', 'begging', 'begin', 'beginning', 'begins', 'behold', 'belief', 'believe', 'believe-', 'believed', 'believing', 'belong', 'beloved', 'bending', 'beneath', 'best', 'better', 'big', 'bigger', 'bind', 'birth', 'black', 'bleeds', 'bless', 'blessed', 'blessing', 'blind', 'blinded', 'blisters', 'blood', 'boat', 'body', 'bore', 'born', 'bound', 'bow', 'boy', 'brand', 'brazil', 'bread', 'break', 'breaking', 'breaks', 'breath', 'breathe', 'breathing', 'breeze', 'bridge', 'bright', 'brighter', 'bring', 'bringing', 'brings', 'broke', 'broken', 'brought', 'brow', 'brows', 'bruised', 'build', 'burdens', 'burn', 'burns', 'busy', 'buying', 'buys', 'called', 'calling', 'calloused', 'calls', 'calm', 'calmed', 'calmer', 'calvary', 'came', 'captives', 'care', 'cared', 'careful', 'carencias', 'cares', 'carry', 'carrying', 'carswell', 'cast', 'catch', 'cathedrals', 'caught', 'cause', 'caving', 'ceasing', 'celebrate', 'chains', 'chance', 'chances', 'change', 'changed', 'chaos', 'chest', 'child', 'children', 'china', 'choice', 'choose', 'chorus', 'christ', 'church', 'circumstances', 'city', 'clearly', 'climb', 'close', 'closed', 'closer', 'closes', 'closest', 'clothed', 'clouds', 'clue', 'coat', 'cold', 'collide', 'color', 'come', 'comes', 'comfort', 'coming', 'compare', 'compared', 'compassion', 'complete', 'comprehend', 'compromise', 'confess', 'confused', 'confusion', 'conquered', 'constrained', 'consume', 'consuming', 'contigo', 'control', 'corner', 'count', 'couple', 'courts', 'cover', 'covered', 'covers', 'crashing', 'create', 'created', 'creation', 'creator', 'cries', 'cross', 'crossed', 'crowded', 'crucified', 'crumble', 'crushed', 'cry', 'crying', 'cuts', 'daddies', 'daddy', 'daily', 'dance', 'danger', 'dark', 'darkest', 'darkness', 'daughter', 'dawns', 'day', 'days', 'dazed', 'dead', 'dear', 'death', 'debt', 'debtor', 'decide', 'declares', 'deed', 'deep', 'deepest', 'defeat', 'defender', 'deity', 'deliverer', 'depths', 'description', 'desert', 'deserve', 'desire', 'desperate', 'diamonds', 'die', 'died', 'different', 'display', 'dissolve', 'distance', 'divine', 'door', 'doubt', 'drank', 'draw', 'drawn', 'draws', 'dream', 'dreamed', 'dreams', 'drink', 'drop', 'dropping', 'drowned', 'drowning', 'dumb', 'dust', 'dying', 'e', 'eagles', 'eah', 'early', 'earn', 'ears', 'earth', 'east', 'easy', 'ebenezer', 'echoes', 'eclipsed', 'eddie', 'eden', 'embrace', 'emmanuel', 'end', 'ending', 'endless', 'endures', 'enemy', 'equal', 'erased', 'erases', 'es', 'eternal', 'eternity', \"ev'ry\", 'evening', 'everlasting', 'everybody', 'everyday', 'excited', 'exhaustion', 'express', 'eye', 'eyes', 'face', 'faces', 'fade', 'fades', 'fading', 'fail', 'failed', 'failing', 'fails', 'failure', 'failures', 'faint', 'faith', 'faithful', 'faithfulness', 'fall', 'fallen', 'falling', 'falls', 'fame', 'familiar', 'families', 'family', 'famous', 'far', 'farther', 'fashioned', 'fast', 'father', 'fault', 'faults', 'fear', 'feared', 'fears', 'feel', 'feeling', 'feels', 'feet', 'felt', 'fetter', 'fight', 'fighting', 'figured', 'fill', 'filled', 'finally', 'find', 'finding', 'finish', 'fire', 'fists', 'fix', 'fixed', 'flaming', 'flash', 'flashes', 'flattery', 'flesh', 'flood', 'floor', 'flow', 'flower', 'flowing', 'flows', 'flying', 'focused', 'fog', 'fold', 'follow', 'foolish', 'footsteps', 'forbear', 'forehead', 'forever', 'forevermore', 'forget', 'forgetfulness', 'forgive', 'forgiven', 'forgiveness', 'forgotten', 'found', 'fount', 'free', 'freed', 'freedom', 'friend', 'frozen', 'fully', 'funny', 'fury', 'gains', 'galaxy', 'gates', 'gave', 'gazed', 'gentle', 'gets', 'getting', 'giant', 'gift', 'girl', 'given', 'giver', 'gives', 'giving', 'glance', 'glances', 'glimpse', 'glorified', 'glorify', 'glorious', 'glory', 'god', 'goes', 'going', 'gone', 'good', 'goodbye', 'goodbyes', 'goodness', 'got', 'grace', 'grander', 'grant)-', 'grateful', 'gratitude', 'grave', 'gray', 'great', 'greater', 'grip', 'ground', 'grow', 'grows', 'guess', 'guidance', 'hallelu', 'hallelujah', 'hand', 'hands', 'hang', 'hanging', 'happen', 'happening', 'happens', 'hard', 'hardest', 'harmonize', 'head', 'heal', 'healed', 'healer', 'healing', 'hear', 'heard', 'heart', 'heartache', 'hearted', 'hearts', 'heaven', 'heavens', 'held', 'help', 'helpless', 'hey', 'hide', 'hiding', 'high', 'highest', 'hill', 'hinges', 'hint', 'history', 'hit', 'hold', 'holdin', 'holding', 'holds', 'hole', 'holiness', 'holy', 'home', 'homesick', 'honest', 'honor', 'hope', 'hopes', 'hoping', 'hot', 'hour', 'house', 'houston', 'humanity', 'hung', 'hungry', 'hurricane', 'hurt', 'hurting', 'hymn', 'hypocrite', 'ignore', 'imagine', 'impossible', 'incomprehensible', 'indescribable', 'iniquities', 'insecurities', 'inside', 'inspire', 'instead', 'interposed', 'invade', 'jacob', 'jealous', 'jesus', 'join', 'joined', 'joking', 'journey', 'joy', 'joyful', 'judgement', 'judgmental', 'juro', 'justice', 'keepin', 'keeps', 'kept', 'kicked', 'kid', 'kind', 'kindness', 'king', 'kingdoms', 'kings', 'kiss', 'knee', 'knees', 'knew', 'know', 'knowing', 'known', 'knows', 'label', 'labor', 'laid', 'lamb', 'lame', 'land', 'late', 'laugh', 'laughs', 'laughter', 'lay', 'lead', 'leads', 'leaf', 'learn', 'learned', 'leave', 'leaving', 'led', 'left', 'lesser', 'let', 'lies', 'life', 'lifesong', 'lifetime', 'lift', 'light', 'lightning', 'lights', 'like', 'line', 'lining', 'lips', 'listen', 'little', 'live', 'lived', 'lives', 'living', 'lonely', 'long', 'longed', 'longer', 'look', 'looked', 'lookin', 'looking', 'looks', 'loom', 'lord', 'lose', 'losing', 'loss', 'losses', 'lost', 'loud', 'louder', 'loudest', 'love', 'loved', 'lover', 'loves', 'loving', 'lungs', 'lying', 'lyrics', 'madness', 'maintain', 'majesty', 'maker', 'makes', 'man', 'mankind', 'mark', 'marked', 'marriage', 'matter', 'maybe', 'mean', 'meant', 'measure', 'meet', 'meets', 'melodious', 'melody', 'memories', 'men', 'mend', 'mention', 'mercies', 'mercy', 'mess', 'messiah', 'met', 'mi', 'michael', 'midst', 'mighty', 'mile', 'million', 'mind', 'mindful', 'mindset', 'miracle', 'miracles', 'miscellaneous', 'misery', 'miss', 'missed', 'missing', 'missions', 'mistake', 'mistakes', 'moment', 'monent', 'money', 'moon', 'morning', 'mother', 'motion', 'motions', 'mount', 'mountain', 'mountains', 'moving', 'music', 'mystery', 'narrow', 'natalie', 'nation', 'nations', 'natural', 'nature', 'near', 'neck', 'need', 'needed', 'needs', 'neverending', 'new', 'night', 'noise', 'norman', 'northern', 'nothingness', 'notice', 'o', \"o'brien\", 'ocean', 'oceans', 'odds', 'offering', 'oh', 'ohhh', 'okay', 'old', 'ones', 'open', 'opened', 'orbit', 'ordinary', 'overcome', 'overflowing', 'overtaken', 'overwhelmed', 'owe', 'paciencia', 'page', 'paid', 'pain', 'painful', 'pains', 'paint', 'pair', 'palm', 'parts', 'passing', 'passion', 'past', 'path', 'pay', 'payment', 'peace', 'pen', 'people', 'perfect', 'perfecter', 'pick', 'picked', 'pieces', 'pierced', 'place', 'places', 'plan', 'planned', 'plans', 'play', 'playing', 'pleased', 'pleasure', 'plentiful', 'pointed', 'pointing', 'poison', 'ponte', 'portion', 'possessed', 'possibly', 'pour', 'poured', 'pouring', 'power', 'powerless', 'powers', 'praise', 'pray', 'prayer', 'prayers', 'praying', 'pre', 'precious', 'presence', 'price', 'pride', 'prince', 'prison', 'prize', 'proclaim', 'prodigal', 'prodigals', 'promise', 'promised', 'promises', 'prone', 'pull', 'pulls', 'punishment', 'purpose', 'pushing', 'putting', 'que', 'question', 'questions', 'quick', 'quickly', 'quiet', 'quietly', 'race', 'radiates', 'raging', 'rain', 'rainbows', 'rainy', 'raise', 'raised', 'ransom', 'ransomed', 'reach', 'reaches', 'reaching', 'read', 'real', 'realize', 'realm', 'reason', 'reassure', 'red', 'redeem', 'redeemed', 'redeemer', 'redeeming', 'redemption', 'redemptions', 'reflected', 'refrão', 'regardless', 'regrets', 'reign', 'reigns', 'rejected', 'rejoiced', 'release', 'relieved', 'remain', 'remains', 'remember', 'reminding', 'repair', 'repeat', 'replacing', 'rescue', 'rescued', 'resistance', 'response', 'rest', 'restless', 'return', 'reveal', 'revealed', 'reveals', 'revelation', 'rid', 'ride', 'right', 'righteousness', 'rings', 'ripping', 'rise', 'risen', 'rises', 'rising', 'ritz', 'river', 'road', 'roads', 'rolled', 'rolling', 'rolls', 'room', 'rose', 'round', 'row', 'run', 'runs', 'sacred', 'sacrifice', 'sadness', 'safe', 'safely', 'said', 'sail', 'saints', 'salvation', 'sand', 'sang', 'satisfies', 'satisfy', 'save', 'saved', 'savior', 'saw', 'saying', 'says', 'scared', 'scarred', 'scars', 'schultz', 'score', 'scratching', 'sea', 'seal', 'search', 'searched', 'searching', 'seas', 'seat', 'second', 'secures', 'seeing', 'seek', 'seen', 'sees', 'selfish', 'selfishness', 'send', 'sense', 'set', 'setbacks', 'settle', 'shackles', 'shadow', 'shadows', 'shaking', 'shall', 'shame', 'shamed', 'share', 'shed', 'sheds', 'shelter', 'shield', 'shifting', 'shine', 'shined', 'shines', 'shining', 'shock', 'shore', 'shorter', 'showed', 'showing', 'si', 'sign', 'silence', 'silent', 'silver', 'simple', 'sin', 'sinful', 'sing', 'singing', 'single', 'sings', 'sinking', 'sinks', 'sinned', 'sinner', 'sinners', 'sins', 'sits', 'size', 'skies', 'skilled', 'sky', 'slain', 'sleep', 'sleeps', 'sleeves', 'slightest', 'sling', 'slip', 'slips', 'slow', 'small', 'smile', 'snow', 'soar', 'sodom', 'solace', 'somebody', 'son', 'song', 'songs', 'sonnet', 'soon', 'sought', 'soul', 'sound', 'source', 'sovereign', 'speak', 'spend', 'spent', 'spilled', 'spinning', 'spins', 'spirit', 'splendor', 'spoke', 'spoken', 'spotlight', 'spring', 'springs', 'stains', 'stand', 'standing', 'stands', 'star', 'staring', 'starless', 'stars', 'start', 'started', 'stay', 'step', 'steps', 'stolen', 'stone', 'stood', 'stop', 'stories', 'storm', 'storming', 'story', 'straight', 'straining', 'strange', 'stranger', 'stray', 'streams', 'street', 'strength', 'stretches', 'strings', 'stripes', 'striving', 'strong', 'stronger', 'struggling', 'stumble', 'successes', 'sudden', 'suddenly', 'suffering', 'suffers', 'suit', 'sun', 'sung', 'sunrise', 'sunset', 'sure', 'surface', 'surrender', 'surround', 'surrounded', 'swallowed', 'swear', 'sweet', 'sweeter', 'sweetest', 'swore', 'tabernacle', 'tag', 'taken', 'takes', 'taking', 'talk', 'talked', 'tar', 'tasted', 'taught', 'teach', 'teaching', 'tear', 'tears', 'teasing', 'tell', 'telling', 'tells', 'temporary', 'tempted', 'tender', 'test', 'testifies', 'testify', 'thank', 'thee', 'thin', 'thing', 'things', 'think', 'thinking', 'thirst', 'thou', 'thought', 'thoughts', 'thousand', 'throne', 'thrones', 'thunder', 'thy', 'tide', 'tie', 'ties', 'tight', 'til', 'till', 'time', 'times', 'tiny', 'tired', 'todas', 'today', 'todo', 'told', 'tomb', 'tomorrow', 'tongue', 'tongues', 'tonight', 'took', 'tore', 'torn', 'tossed', 'touch', 'touched', 'tower', 'traced', 'trampled', 'transgressions', 'travel', 'traveler', 'treasure', 'treasures', 'tree', 'trialed', 'tried', 'tries', 'trophies', 'true', 'trust', 'truth', 'truths', 'try', 'trying', 'tune', 'turn', 'turned', 'turnout', 'turns', 'tus', 'twas', 'twist', 'unaware', 'uncertain', 'underneath', 'understand', 'understanding', 'undo', 'unending', 'unforeseen', 'universe', 'unknown', 'upset', 'use', 'vain', 'valley', 'vapor', 'veil', 'victory', 'violently', 'voice', 'voices', 'void', 'wait', 'waiting', 'waits', 'wake', 'walk', 'walked', 'walking', 'walls', 'wander', 'wandering', 'wanna', 'want', 'wanted', 'wanting', 'wants', 'war', 'warmth', 'warriors', 'wash', 'washed', 'washing', 'waste', 'watch', 'water', 'waters', 'wave', 'waves', 'way', 'ways', 'weak', 'weakest', 'weakness', 'wealth', 'weary', 'weight', 'went', 'west', 'white', 'whoa', 'wide', 'widow', 'wife', 'wild', 'wilderness', 'willed', 'win', 'wind', 'winding', 'wings', 'wipe', 'wiped', 'wipin', 'wisdom', 'wise', 'wish', 'wishing', 'won', 'wonder', 'wondering', 'wonders', 'word', 'words', 'work', 'world', 'worlds', 'worn', 'worship', 'worth', 'worthy', 'wounded', 'wounds', 'wrap', 'wrath', 'wrestle', 'wretch', 'wretched', 'wrinkle', 'writing', 'wrong', 'x2', 'ye', 'yea', 'yeah', 'yearn', 'years', 'yes', 'yesterday', 'york', 'you(duet', 'young', 'younger', 'zone', 'â€~cause']\n"
     ]
    }
   ],
   "source": [
    "for val in tfidf_nmf_dict.keys():\n",
    "    if val == 'Sixties':\n",
    "            print(tfidf_nmf_dict[val].components_[1],tfidf.get_feature_names())"
   ]
  },
  {
   "cell_type": "code",
   "execution_count": 547,
   "id": "1d652235",
   "metadata": {},
   "outputs": [
    {
     "data": {
      "text/plain": [
       "[\"Come hear my heart cry, breathe in your moonlight\\nTake me away\\nCome feel my yearning forever burn\\nLove make me alive\\n\\nDive into fire, feel my desire, you are known and safe\\nYou'll find my heart will love to\\nLet passion ignite lust for the night\\nCome make me alive\\n\\nI hear your call and I run to you\\nCome fill my soul with love I never knew\\nOur love makes me fly high\\nOh, love makes me rise alive\\nTake me\\n\\nCome hear my heart cry, breathe in your moonlight\\nTake me away\\nYou'll find my heart will love to\\nCome feel my yearning forever burn\\nLove make me alive\\n\\nLove will take me\",\n",
       " \"Bruce Hornsby\\nScenes From The Southside\\nThe Show Goes On\\nB. r. hornsby\\n\\r\\nWhat's the long face, whats all the crying for\\r\\nDidn't you expect it when you opened your door\\r\\nTo the man with the long coat and the long list of victims\\r\\nEverybody watching knows he's the one keeping score\\r\\n>from where she sits, everyone stands in judgement\\r\\nPeople watching as the curtain falls down\\r\\nSee the lights do a long slow fade...\\n\\r\\nThe show goes on, and the sad-eyed sisters go walking on\\r\\nEveryone watching all along\\r\\nThe show goes on, as the autumn's coming\\r\\nAnd the summer's all gone\\r\\nStill without you, the show goes on\\n\\r\\nSome say she's alright, some say she'll never learn\\r\\nSome rush into things, some stand and wait their turn\\r\\nI've been here all along standing here all this time\\r\\nBut you never noticed, just let the same tired flames burn\\r\\n>from where she sits, everyone stands in judgement\\r\\nPeople watching as the curtain falls down\\r\\nSee the lights do a long slow fade\\n\\r\\nThe show goes on, and the sad-eyed sisters go walking on\\r\\nEveryone watching all along\\r\\nThe show goes on, as the autumn's coming\\r\\nAnd the summer's all gone\\r\\nStill without you, the show goes on\\n\\r\\nTime is passing,slowly passing you by\\r\\nYou better try to find it before it passes you by\\r\\nAs i watch you walking to another cold dawn\\r\\nAnd you keep on walking\\r\\nAnd they keep on talking\\r\\nTalking all along\\n\\r\\n>from where she sits, everyone stands in judgement\\r\\nPeople watching as the curtain falls down\\r\\nSee the lights do a long slow fade\\r\\nThe show goes on, and the sad-eyed sisters go walking on\\r\\nEveryone watching all along\\r\\nThe show goes on, as the autumn's coming\\r\\nAnd the summer's all gone\\r\\nStill without you, the show goes on\",\n",
       " \"Show me, oh, how i should\\nShow me how far you'd go\\nKeep all our secrets safe and i would do anything\\nIf you, oh, want me to\\nI will do if you say so\\nTell me, oh, what you need \\nAnd I won't say no, oh no\\n\\nUndone, a shot unheard \\nTo the depths of my golden sun\\nIf you were to lie to me\\nOh, to the death i'd see\\n\\nWallow in a trail of absence\\nOh, how I long for you\\nI long for you\\n\\nQuiet now, oh, we must not tell \\nA single soul about this tale\\nTo the grave no one will know\\nThis is ours not to tell, oh oh\\n\\nOh no, oh no, oh no...\\n\\nShow me, oh, how I should\\nShow me how far you'd go\\nKeep all our secrets safe and I would do anything\\nIf you, oh, want me to\\nI will do if you say so\\nTell me, oh, what you need \\nAnd I won't say no, oh no\\n\\nUndone, a shot unheard \\nTo the depths of my golden sun\\nIf you were to lie to me\\nOh, to the death I'd see\\n\\nWallow in a trail of absence\\nOh, how I long for you\\nI long for you\\n\\nQuiet now, oh, we must not tell \\nA single soul about this tale\\nTo the grave no one will know\\nThis is ours not to tell, oh oh\",\n",
       " '[Instrumental]',\n",
       " \"You were so close to the cliff\\nI didn't even care to notice\\nRain fell over our heads\\nMy throat trembled and said\\n\\nI cover myself with your eyes\\nCover myself for the first time\\nSee to it that I will have you\\nCapture you when the warmth comes\\n\\nLearn how your body moves\\nWhen I am next to you\\nYou are the whiskey on my lips\\nHolding it when I am so far\\n\\nI choose to forget your name\\nFar away it will all be the same\\nHave you break me oh in two\\nEvery time I have to leave you\\n\\n[Chorus:]\\nPlease don't you think of me\\nI'm nothing honestly\\nPlease don't you think of me\\nI'm nothing honestly\\n\\nThis will come down so hard\\nWe will ache for a new start\\nIn so oh absent arms\\nTo this we'll fall apart\\n\\nI will arrive on a rainy day\\nShow face oh at your door\\nYou will tell me all the ways\\nThat I will want you more\\n\\nOn my living room floor\\nSo well I will explore\\nI will feel this even when\\nI cannot breathe you in\\n\\nI don't remember the taxi ride\\nYou will forget how I feel on the insides\\nThis will mean nothing in time\\nIn time this will mean nothing\\n\\n[Chorus:]\\nPlease don't you think of me\\nI'm nothing honestly\\nPlease don't you think of me\\nI'm nothing honestly\\nPlease don't you think of me\\nI'm nothing honestly\\n\\nPlease don't you think of me\\nIn time this will mean nothing\\n\\nPlease don't you think of me\\nI'm nothing honestly\\nPlease don't you think of me\\nI'm nothing honestly\\nPlease don't you think of me\\nI'm nothing honestly\\n\\nPlease don't you think of me\\nIn time this will mean nothing\",\n",
       " \"on the grayest of days\\r\\nit seemed so clear\\r\\nmy reflection raised\\r\\nfelt your skin so near\\n\\r\\nmovements slow\\r\\ni need to know\\r\\nmovements slow\\r\\ni need to know\\n\\r\\nforgotten how to crave\\r\\na warmth like this\\r\\nyou tighten the hands\\r\\naround my wrists\\n\\r\\nas we shiver\\r\\ni must not rest\\r\\nall will unfold\\r\\nwith what is left\\n\\r\\nmovements slow\\r\\ni need to know\\r\\nhow this will never end\\r\\nhow i will gain control\\n\\r\\nmovements slow\\r\\ni need to know\\n\\r\\non the grayest of days\\r\\nit seemed so clear\\r\\nmy reflection raised\\r\\ni felt you so near\\n\\r\\nmovements slow\\r\\ni need to know\\r\\nmovements slow\\r\\ni need to know\\r\\nmovements slow\\r\\ni need to know\\r\\nmovements slow\\r\\ni need to know\\n\\r\\ntake me for what it's worth\\r\\nwhile our motion disappears\\r\\ni am here right now\\r\\nwhile i motion disappears\\r\\nand when morning comes\\r\\ni will be all, all yours\\n\\r\\ntake me for what it's worth\\r\\nwhile our motion disappears\\r\\ni am here right now\\r\\nwhile our motion disappears\\r\\nand when morning comes\\r\\ni will be all, all yours\\n\\r\\non the grayest of days\\r\\nit seemed so clear\\r\\nmy reflection raised\\r\\ni felt you so near\\n\\r\\nmovements slow\\r\\ni need to know\\r\\nmovements slow\\r\\ni need to know\\r\\nmovements slow\\r\\ni need to know\\r\\nmovements slow\\r\\ni need to know\\n\\r\\nmovements slow\\r\\ni need to know\\r\\nmovements slow\\r\\ni need to know\",\n",
       " \"So why don't you lay with me\\r\\nOh I will show you things that you will need\\r\\nAnd I will, I will do anything for you, my baby\\r\\nThese are the hardest days so take me on a ride oh please\\r\\nHop in, fasten your seat, we'll be such goodies (?)\\r\\nShow me how do that how you move like that uh huh\\r\\nOh I want to get closer get lucky\\r\\nShow me how do that how you move like that uh huh\\r\\nOh I want to get closer get lucky\\r\\nSo why don't you lay with me\\r\\nOh I will show you things that you will need\\r\\nAnd I will I will do anything for you, my baby\\r\\nTry (?) will never stop how we are so very young\\r\\nThese summer night have just begun\\r\\nLets plan nothing underneath the hot sun Come over here and whisper in my ear What you're scared of and what you fear\\r\\nI ain't leavin' oh I'm just thinkin'\\r\\nHow bad I want you and how much I've been drinkin'\\r\\nSo why don't you lay with me\\r\\nOh I will show you things that you will need\\r\\nAnd I will, I will do anything for you my baby\\r\\nOh baby I know that we will always be just you and me\\r\\nOh I know just a little more\\r\\nI will never leave your heart sore\\r\\nOh I know I will give you all\\r\\nAll I have, baby I am all you need\\r\\nOh baby, I will always be for you and me.\\n\",\n",
       " 'Standing in line marking time\\nWaiting for the welfare dime\\n\\'Cause they can\\'t buy a job\\nThe man in the silk suit hurries by\\nAs he catches the poor old ladies\\' eyes\\n\"Just for fun\", he says, \"Get a job\"\\n\\nThat\\'s just the way it is\\nSome things will never change\\nThat\\'s just the way it is\\nBut don\\'t you believe them\\n\\nThey say, \"Hey little boy you can\\'t go where the others go\\n\\'Cause you don\\'t look like they do\"\\nSaid,\"Hey old man, how can you stand to think that way?\\nDid you really think about it\\nBefore you made the rules?\"\\nHe said, \"Son\"\\n\\n\"That\\'s just the way it is\\nSome things will never change\\nThat\\'s just the way it is\\nBut don\\'t you believe them\"\\n\\nThat\\'s just the way it is\\nThat\\'s just the way it is\\n\\nWell, they passed a law in \\'64\\nTo give those who ain\\'t got a little more\\nBut it only goes so far\\nBecause the law another\\'s mind\\nWhen all it sees at the hiring time\\nIs the line on the color bar\\n\\nThat\\'s just the way it is\\nSome things will never change\\nThat\\'s just the way it is\\nThat\\'s just the way it is, it is, it is, it is',\n",
       " \"[Good - Bye]\\r\\nOh how I’m so far away, \\r\\nI won't need to die today, \\r\\nI must go into\\ufeff the sea,\\r\\nAnd carry you away with me, \\r\\nOh I will hold your mouth in mine,\\r\\nLike I have time after time, \\r\\nGive you all breath real slowly, \\r\\nTake your heart beats silently, \\r\\nIt will be mine no heart of mine,\\r\\nNo more will taste of your kind, \\r\\nSink in the cold absence, \\r\\nLay you down for your decedent, \\r\\nThis will be the darkest time, \\r\\nTo see your body part from mine, \\r\\nWatch the water rest, \\r\\nOh how time may will do that\\r\\n[Good Bye]\",\n",
       " \"Only in this moment will my heart remain beside you\\nOnly in this moment will our passions stay aligned\\nLost in love's embrace is where our memories lie\\n\\nAmar es todo dar...perdoname (forgive me too)\\nEs que no pense (it hurts in me)\\nAnd you\\n\\nJuntos podemos seguir\\nDarle otro rumbo a esta historia\\nWe give it from time but you and I\\nSurvived through it all\\nDime que puedes sentir\\nQue no termine este sueño\\nBut this song in chance love has a chance\\nTo prove what we knew all along\\n\\n[Chorus]\\nSomos dos sueños del tiempo\\nBaila conmigo en el viento\\nDesnuda tus sentimientos\\nHasta el ultimo momento\\nMi todo eres tu\\n\\nSolo soy libre a tu lado\\nEl miedo quedo en el pasado\\nFulfill me now with this endless vow\\nTo live as never before\\n(repeat chorus 2x)\\n\\nHasta el ultimo momento...\",\n",
       " \"It was raining in my heart\\nFalling deep inside of me\\nDrowning into my soul\\nThis silence rushes over me\\n\\nI am breath against this fire\\nAnd I will not turn away, oh no\\nI'm waiting for time to carry me\\nLike a tempest to the sea\\nStanding strong, watching over, yeah\\n\\nLove will keep me believing\\nThrough the dark, can you hear me calling?\\nHolding on when I'm dreaming\\nLove is all, love is all, love is all\\n\\nThundering on high\\nLove was all I knew before I fell\\nAnd now the shots of man\\nAre buried inside myself\\n\\nI am breath against this fire\\nAnd I will not turn away, oh no\\nI'm waiting for time to carry me\\nLike a tempest to the sea\\nStanding strong, watching over, yeah\\n\\nLove will keep me believing\\nThrough the dark, can you hear me calling?\\nHolding on when I'm dreaming\\nLove is all, love is all, love is all\\nHolding on when I'm dreaming\\nLove is all, love is all\\n\\nLove will keep me believing\\nThrough the dark, can you hear me calling?\\nHolding on when I'm dreaming\\nLove is all, love is all, love is all\\n\\nLike a tempest to the sea, I'm standin'\\nLove is all, love is all, love is all\\nLove is all, love is all, love is all\\nLike a tempest to the sea\\nI'm standin', I'm standin' [Incomprehensible]\\nLove, love, love , love is all\\n\\nLove is all\",\n",
       " \"I've been like a bird without song for awhile\\nDry like a lake without rain for awhile\\nYou suddenly stepped in my life\\nand made me cry, like an angel\\nOoh, you're something else, like a smile without end\\n\\nCome into my life\\nGo a little deeper\\nCome into my life\\nYou could be the keeper\\n\\nYou're pulling me closer and you're flowin' in\\nWith every emotion that rushes me on\\nTo your love, light me up\\nOh, you could be the keeper\\n\\nI've been like a home without people for awhile\\nEmpty like a poem without words for awhile\\nYou suddenly stepped in my life\\nAnd made me shine, like a diamond\\nOoh, you're somethin' else, like a dream without end\\n\\nCome into my life\\nGo a little deeper\\nCome into my life\\nYou could be the keeper\\n(All I have)\\nYou're pulling me closer and you're flowin' in\\n(All I have)\\nWith every emotion rushes me on\\nTo your love, light me up\\nOh, you could be the keeper\\n\\nAah\\n\\nOoh, you're something else, like a dream without end\\nCome into my life\\nGo a little deeper\\nCome into my life\\nYou could be the keeper\\n(All I have)\\nYou're pulling me closer and you're flowin' in\\n(All I have)\\nWith every emotion rushes me on\\nTo your love, light me up\\nOh, you could be the keeper\\n\\nAll I have\\nAll I have\\nTurn me on to your love, light me up\\nOh, you could be the keeper\\nTurn me on to your love, light me up\\nOh, you could be the keeper\",\n",
       " \"Scendono le nuvole\\r\\nOscurando la speranza\\r\\nMentre le stelle e la Luna\\r\\nSembrano sparire\\n\\r\\nDopo l’inverno\\r\\nC’è la primavera\\r\\nNuova vita per ricominciare\\n\\r\\nDopo la notte\\r\\nSorge il Sole\\r\\nE forse c'è una luce nell’oscurità\\n\\r\\nO Luce che brilla nell’oscurità\\r\\nGuidami nel mio cammino\\r\\nE quando mi sento solo\\r\\nAccompagnami sulle stelle\\n\\r\\nIl chiasso della gente\\r\\nGrida indifferente\\r\\nAbbandonato al suolo\\r\\nSolo cerco la pace\\r\\nE sono ancora qui\\r\\nC’è paura in me\\r\\nAlzo gli occhi al cielo\\n\\r\\nE prego a Dio, devo trovare\\r\\nQuella luce che si è persa nell’oscurità\\n\\r\\nO luce che brilla nell’oscurità\\r\\nGuidami nel mio cammino\\r\\nE quando mi sento solo\\r\\nAccompagnami sulle stelle\\n\\r\\nC’è una calda primavera\\r\\nPer ogni freddo inverno\\n\\r\\nIf there’s light that shines in the darkest night\\r\\nFetch me out through the mist and (others drown? other strand? others grand?)\\r\\nAnd when my cries find no relief,\\r\\nGuide me along the way...\\n\\r\\nO luce che brilla nell’oscurità\\r\\nGuidami nel mio cammino\\r\\nE quando mi sento solo\\r\\nAccompagnami sulle stelle\\n\\r\\nAccompagnami, accompagnami\\r\\nSulle stelle lassù\",\n",
       " \"Yanni\\nTribute\\nNiki Nana\\nKalemera\\r\\nNeneya\\r\\nTununu Se Ka Musica\\r\\nKalemera\\r\\nNeneya\\r\\nTununu Se Ka Sawbona\\r\\nKunjani Se Ka Meneya\\n\\r\\nNiki Nana Se Se Sa\\r\\nNikie Na Se Sa Musica\\r\\nNiki Nana Se Se Sa\\r\\nNiki Nana Say We're One\\n\\r\\nNiki Nana Se Se Sa\\r\\nNiki Na Se Sa Como Ya\\r\\nNiki Nana Se Se Sa\\r\\nNiki Na Say We're One\\r\\nSay Aiya\\n\\r\\nDance and Chant\\r\\nLet the Dance Enchant\\r\\nLet's Dance and Chant\",\n",
       " \"Why are we fighting, why are we lying\\nMaybe God come and help me out\\nBut He can't see the damned in this crowd\\n\\nDid I lose it all, how did I miss the call\\nConform me to an image of a doll\\nBreak me up against His wall\\n\\nI can't look in the mirror\\nAnd see myself standing there\\nAll I see is an illusion\\nFighting a war against the ones who care\\nNo need for saving, just set me free\\n\\nCan you please forgive me\\nWords can't say the makings\\nBuildings crumble down under\\nAnd lovers crash at the sound of thunder\\n\\nI once believed honesty was key\\nBut I can't stay and live this way\\n'Cause every time I stand you take it away\\n\\nI can't look in the mirror\\nAnd see myself standing there\\nAll I see is an illusion\\nFighting a war against the ones who care\\nNo need for saving, just set me free\\n\\nOnce I was young, now I'm old enough\\nTo see the truth that hides in me\\n\\nI can't look in the mirror\\nAnd see myself standing there\\nAll I see is an illusion\\nFighting a war against the ones who care\\nNo need for saving, just set me free\\n\\nI just can't look in the mirror\\nAnd see myself standing there\\nAll I see is an illusion\\nFighting a war against the ones who care\\nNo need for saving, just set me free\",\n",
       " \"What's underneath the warmest water\\r\\nWhat's in your dreams that's like no other\\r\\nAre you alone\\r\\nAre you alright now\\n\\r\\nLet your secrets out\\r\\nLet me just find out\\n\\r\\nLook into my eyes\\r\\nLeave it all behind\\n\\r\\nLet's get in the deep\\r\\nLook into my eyes\\r\\nLet's get in the deep\\r\\nLeave the rest behind\\r\\nLet's get in the deep\\r\\nAnd see what we can find\",\n",
       " 'Only in this moment\\r\\nWill my heart remind beside you\\r\\nOnly in this moment\\r\\nWill a pacence stay alive\\n\\r\\nLost in love in braces\\r\\nWe will memory fly\\n\\r\\nAmar es tolerar... perdoname\\r\\nForgive me too\\r\\nEs que no pense\\r\\nIt hurts in me\\r\\nAnd you...\\n\\r\\nJuntos podemos seguir\\r\\nDarle otro rumbo a esta historia\\r\\nTogheter from time\\r\\nDime que puedes sentir\\r\\nWith the song and tell\\r\\nLove at the chance to prove\\r\\nBut we know all the love\\n\\r\\nSomos los duenos del tiempo\\r\\nBaila conmigo en el viento\\r\\nDesnuda tus sentimientos\\r\\nHasta el ultimo momento\\r\\nMi todo eres tu\\n\\r\\nOh you!\\n\\r\\nSolo soy libre a tu lado\\r\\nHear me now\\r\\nWith this silence votes\\r\\nTo live as never before\\n\\r\\nSomos los duenos del tiempo\\r\\nBaila conmigo en el viento\\r\\nDesnuda tus sentimientos\\r\\nHasta el ultimo momento\\r\\nMi todo eres tu\\n\\r\\nHasta el ultimo momento...',\n",
       " \"Grazie alla nostra grandezza\\nalle cose che giá abbiamo raggiunto\\nsiamo in questo tempo\\ndove abbiamo superato molti ostacoli\\ndella storia.\\n\\nSiamo andati ache sulla luna\\nattraversato oceani e mari\\nabbiamo la conoscenza\\nper salvare una vita\\nOooh, se possiamo fare tutte queste cose\\nquale sará il limita dell'umanitá.\\n\\nNiente é cosí lontano\\ni sogni sono realtá\\nVieni con me\\napril it tuo orizzonte\\nsenza frontieri\\nuniremo il mondo\\nvieni con me e sogniamo\\nvieni con me\\nla nostra forza vincerá\\ngrazie anche a te.\\n\\nViviamo in tempo di guerra\\ndove manca l'amore\\nc'e poca poesia\\ntorniamo alla terra\\ndove l'amore é piú forte dell'odio\\n\\nVale la pena dominare il mondo\\nse ci dimentichiamo del rispetto\\nse poi non diamo una mano\\nper chi soffre e non ha niente\\nma parché continuare a distruggere\\nse la forza della vita é stare insieme in armonia\\n\\nNiente é cosí lontano\\ni sogni sono realtá\\nVieni con me\\napril it tuo orizzonte\\nsenza frontieri\\nuniremo il mondo\\nvieni con me e sogniamo\\nvieni con me\\nla nostra forza vincerá\\ngrazie anche a te\\nSogniamo, sogniamo.\",\n",
       " \"I close my eyes to see the world\\nI close my eyes so that it won't hurt\\nI'm sailing on blue ocean and flying to you\\n\\nI catch my breathe under the full moon\\nA star that shines, so pleased to meet you\\nMaybe I'll dream forever\\nAnd I'd like to love right here\\n\\nBefore the night ends\\nAnd dawn of a new day dawns\\nHow I hope, how I hope\\n\\nThat out of this endless blue\\nSomehow I will find you\\nBefore the night ends\\nBefore the night ends\\n\\nI made a choice more than a few times\\nTo walk a road that didn't end up so right\\n\\nBut I want to go the distance\\nI'd like to love right here\\n\\nBefore the night ends\\nAnd dawn of a new day dawns\\nHow I hope, how I hope\\n\\nThat out of this endless blue\\nSomehow I will find you\\nBefore the night ends\\nBefore the night ends\\n\\nClose my eyes\\nNever gonna let up\\n\\nBefore the night ends\\nI hope I find you\",\n",
       " 'Hum, hum, hum, hum, hum, hum, hum, hum\\nHum, hum, hum, hum, hum, hum\\nHum, hum, hum, hum, hum, hum, hum, hum, hum\\nHum, hum, hum, hum, hum, hum\\n\\nHum, hum, hum, hum, hum, hum, hum, hum\\nHum, hum, hum, hum, hum, hum\\nHum, hum, hum, hum, hum, hum, hum, hum, hum\\nHum, hum, hum, hum, hum, hum\\n\\nIn noreni per ipe, in noreni cora\\nTira mine per ito, no domina\\nIn noreni per ipe, in noreni cora\\nTira mine per ito, no domina\\n\\nIn noreni per ipe, in noreni cora\\nTira mine per ito, no domina\\nIn romine tirmeno, ne romine to fa\\nImaginas por meno, per imentira\\n\\nHum, hum, hum, hum, hum, hum, hum, hum\\nHum, hum, hum, hum, hum, hum\\nHum, hum, hum, hum, hum, hum, hum, hum, hum\\nHum, hum, hum, hum, hum, hum\\n\\nHum, hum, hum, hum, hum, hum, hum, hum\\nHum, hum, hum, hum, hum, hum\\nHum, hum, hum, hum, hum, hum, hum, hum, hum\\nHum, hum, hum, hum, hum, hum']"
      ]
     },
     "execution_count": 547,
     "metadata": {},
     "output_type": "execute_result"
    }
   ],
   "source": []
  },
  {
   "cell_type": "code",
   "execution_count": null,
   "id": "48208071",
   "metadata": {},
   "outputs": [],
   "source": []
  }
 ],
 "metadata": {
  "kernelspec": {
   "display_name": "Python 3",
   "language": "python",
   "name": "python3"
  },
  "language_info": {
   "codemirror_mode": {
    "name": "ipython",
    "version": 3
   },
   "file_extension": ".py",
   "mimetype": "text/x-python",
   "name": "python",
   "nbconvert_exporter": "python",
   "pygments_lexer": "ipython3",
   "version": "3.8.8"
  }
 },
 "nbformat": 4,
 "nbformat_minor": 5
}
