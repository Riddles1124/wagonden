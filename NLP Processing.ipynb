{
 "cells": [
  {
   "cell_type": "code",
   "execution_count": 20,
   "id": "e49e9f11",
   "metadata": {},
   "outputs": [],
   "source": [
    "import numpy as np\n",
    "import spacy\n",
    "import pandas as pd"
   ]
  },
  {
   "cell_type": "code",
   "execution_count": 2,
   "id": "f8518829",
   "metadata": {},
   "outputs": [],
   "source": [
    "nlp = spacy.load('en_core_web_sm')"
   ]
  },
  {
   "cell_type": "code",
   "execution_count": 17,
   "id": "a279c310",
   "metadata": {},
   "outputs": [
    {
     "name": "stdout",
     "output_type": "stream",
     "text": [
      "This this DET True\n",
      "is be AUX True\n",
      "a a DET True\n",
      "terrible terrible ADJ False\n",
      "test test NOUN False\n",
      "sentence sentence NOUN False\n",
      ", , PUNCT False\n",
      "but but CCONJ True\n",
      "will will VERB True\n",
      "suffice suffice VERB False\n",
      "Australia Australia PROPN False\n",
      "regardless regardless ADV False\n"
     ]
    }
   ],
   "source": [
    "test = 'This is a terrible test sentence, but will suffice Australia regardless'\n",
    "doc = nlp(test)\n",
    "for token in doc:\n",
    "    print(token.text, token.lemma_, token.pos_, token.is_stop)\n"
   ]
  },
  {
   "cell_type": "code",
   "execution_count": 29,
   "id": "7ca53bfc",
   "metadata": {},
   "outputs": [],
   "source": [
    "test2 = \"yeah I'm not typing that out\"\n",
    "corpus_dict = {}\n",
    "corpus_dict['Test1'] = [test,test2]\n",
    "corpus_dict['Test2'] = [test2,test]"
   ]
  },
  {
   "cell_type": "code",
   "execution_count": 39,
   "id": "0fdd4ec2",
   "metadata": {},
   "outputs": [],
   "source": [
    "def spacy_dict_maker(corpus_dict):\n",
    "    spacy_dict = {}\n",
    "    for genre in corpus_dict.keys():\n",
    "        spacy_dict[genre] = []\n",
    "        for lyric in corpus_dict[genre]:\n",
    "            doc = nlp(lyric)\n",
    "            spacy_dict[genre].append(doc)\n",
    "    return spacy_dict\n",
    "            "
   ]
  },
  {
   "cell_type": "code",
   "execution_count": 40,
   "id": "8075bfb5",
   "metadata": {},
   "outputs": [],
   "source": [
    "spacy_dict = spacy_dict_maker(corpus_dict)"
   ]
  },
  {
   "cell_type": "code",
   "execution_count": 64,
   "id": "2b070912",
   "metadata": {},
   "outputs": [],
   "source": [
    "from spacy.lang.en.stop_words import STOP_WORDS\n",
    "from spacy.lang.en import English\n",
    "import string"
   ]
  },
  {
   "cell_type": "code",
   "execution_count": 66,
   "id": "a9e26b62",
   "metadata": {},
   "outputs": [],
   "source": [
    "punc = string.punctuation\n",
    "nlp = spacy.load('en_core_web_sm')\n",
    "stop_words = spacy.lang.en.stop_words.STOP_WORDS\n",
    "parser = English()\n",
    "\n",
    "def spacy_tokenizer(lyrics):\n",
    "    doc = parser(sentence)\n",
    "    doc = [word.lemma_.lower().strip() if word.lemma_ != \"-PRON-\" else word.lower_ for word in doc]\n",
    "    doc = [word for word in doc if word not in stop_words and word not in punc]\n",
    "    return doc"
   ]
  },
  {
   "cell_type": "code",
   "execution_count": null,
   "id": "2cc2b6e7",
   "metadata": {},
   "outputs": [],
   "source": []
  }
 ],
 "metadata": {
  "kernelspec": {
   "display_name": "Python 3",
   "language": "python",
   "name": "python3"
  },
  "language_info": {
   "codemirror_mode": {
    "name": "ipython",
    "version": 3
   },
   "file_extension": ".py",
   "mimetype": "text/x-python",
   "name": "python",
   "nbconvert_exporter": "python",
   "pygments_lexer": "ipython3",
   "version": "3.8.8"
  }
 },
 "nbformat": 4,
 "nbformat_minor": 5
}
