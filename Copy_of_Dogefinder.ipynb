{
  "cells": [
    {
      "cell_type": "markdown",
      "metadata": {
        "id": "view-in-github",
        "colab_type": "text"
      },
      "source": [
        "<a href=\"https://colab.research.google.com/github/Riddles1124/wagonden/blob/main/Copy_of_Dogefinder.ipynb\" target=\"_parent\"><img src=\"https://colab.research.google.com/assets/colab-badge.svg\" alt=\"Open In Colab\"/></a>"
      ]
    },
    {
      "cell_type": "code",
      "execution_count": 6,
      "id": "ef5443f8",
      "metadata": {
        "id": "ef5443f8"
      },
      "outputs": [],
      "source": [
        "# Much of the below Keras code is adapted from the Metis Deep Learning Intensive Modules\n",
        "\n",
        "import tensorflow\n",
        "import tensorflow.keras as keras\n",
        "from tensorflow.keras.applications import VGG16"
      ]
    },
    {
      "cell_type": "code",
      "execution_count": 7,
      "id": "1ba9a605",
      "metadata": {
        "id": "1ba9a605"
      },
      "outputs": [],
      "source": [
        "from IPython.display import Image"
      ]
    },
    {
      "cell_type": "code",
      "execution_count": 67,
      "id": "baecfbe3",
      "metadata": {
        "colab": {
          "base_uri": "https://localhost:8080/"
        },
        "id": "baecfbe3",
        "outputId": "8bbe3ab4-ec13-40a8-afb2-ee12102c9463"
      },
      "outputs": [
        {
          "output_type": "stream",
          "name": "stdout",
          "text": [
            "Model: \"vgg16\"\n",
            "_________________________________________________________________\n",
            " Layer (type)                Output Shape              Param #   \n",
            "=================================================================\n",
            " input_2 (InputLayer)        [(None, 100, 100, 3)]     0         \n",
            "                                                                 \n",
            " block1_conv1 (Conv2D)       (None, 100, 100, 64)      1792      \n",
            "                                                                 \n",
            " block1_conv2 (Conv2D)       (None, 100, 100, 64)      36928     \n",
            "                                                                 \n",
            " block1_pool (MaxPooling2D)  (None, 50, 50, 64)        0         \n",
            "                                                                 \n",
            " block2_conv1 (Conv2D)       (None, 50, 50, 128)       73856     \n",
            "                                                                 \n",
            " block2_conv2 (Conv2D)       (None, 50, 50, 128)       147584    \n",
            "                                                                 \n",
            " block2_pool (MaxPooling2D)  (None, 25, 25, 128)       0         \n",
            "                                                                 \n",
            " block3_conv1 (Conv2D)       (None, 25, 25, 256)       295168    \n",
            "                                                                 \n",
            " block3_conv2 (Conv2D)       (None, 25, 25, 256)       590080    \n",
            "                                                                 \n",
            " block3_conv3 (Conv2D)       (None, 25, 25, 256)       590080    \n",
            "                                                                 \n",
            " block3_pool (MaxPooling2D)  (None, 12, 12, 256)       0         \n",
            "                                                                 \n",
            " block4_conv1 (Conv2D)       (None, 12, 12, 512)       1180160   \n",
            "                                                                 \n",
            " block4_conv2 (Conv2D)       (None, 12, 12, 512)       2359808   \n",
            "                                                                 \n",
            " block4_conv3 (Conv2D)       (None, 12, 12, 512)       2359808   \n",
            "                                                                 \n",
            " block4_pool (MaxPooling2D)  (None, 6, 6, 512)         0         \n",
            "                                                                 \n",
            " block5_conv1 (Conv2D)       (None, 6, 6, 512)         2359808   \n",
            "                                                                 \n",
            " block5_conv2 (Conv2D)       (None, 6, 6, 512)         2359808   \n",
            "                                                                 \n",
            " block5_conv3 (Conv2D)       (None, 6, 6, 512)         2359808   \n",
            "                                                                 \n",
            " block5_pool (MaxPooling2D)  (None, 3, 3, 512)         0         \n",
            "                                                                 \n",
            "=================================================================\n",
            "Total params: 14,714,688\n",
            "Trainable params: 14,714,688\n",
            "Non-trainable params: 0\n",
            "_________________________________________________________________\n"
          ]
        }
      ],
      "source": [
        "con_base = VGG16(weights='imagenet',include_top=False,input_shape=(100, 100, 3))\n",
        "con_base.summary()"
      ]
    },
    {
      "cell_type": "code",
      "source": [
        "from google.colab import drive\n",
        "drive.mount('/content/drive', force_remount=True)"
      ],
      "metadata": {
        "colab": {
          "base_uri": "https://localhost:8080/"
        },
        "id": "DqoUdREH1hj_",
        "outputId": "b409bf0c-fb50-49a5-c004-7586d8c559c9"
      },
      "id": "DqoUdREH1hj_",
      "execution_count": 9,
      "outputs": [
        {
          "output_type": "stream",
          "name": "stdout",
          "text": [
            "Mounted at /content/drive\n"
          ]
        }
      ]
    },
    {
      "cell_type": "code",
      "execution_count": 10,
      "id": "dbc6f527",
      "metadata": {
        "id": "dbc6f527"
      },
      "outputs": [],
      "source": [
        "import tarfile as tf"
      ]
    },
    {
      "cell_type": "code",
      "execution_count": 11,
      "id": "3e8da6c4",
      "metadata": {
        "id": "3e8da6c4"
      },
      "outputs": [],
      "source": [
        "imagetar = tf.open('/content/drive/Othercomputers/My MacBook Air/Deep Learning/images.tar')"
      ]
    },
    {
      "cell_type": "code",
      "execution_count": null,
      "id": "8cc14472",
      "metadata": {
        "id": "8cc14472"
      },
      "outputs": [],
      "source": [
        "annotations = tf.open('annotation.tar')\n",
        "anotest = annotations.getmembers()[2]\n",
        "tate = annotations.extract(anotest)"
      ]
    },
    {
      "cell_type": "code",
      "source": [
        ""
      ],
      "metadata": {
        "id": "OM5L0ecD1a-r"
      },
      "id": "OM5L0ecD1a-r",
      "execution_count": null,
      "outputs": []
    },
    {
      "cell_type": "code",
      "execution_count": null,
      "id": "d4451c3e",
      "metadata": {
        "id": "d4451c3e"
      },
      "outputs": [],
      "source": [
        "lists = tf.open('lists.tar')\n",
        "litest = lists.getmembers()[0]\n",
        "lists.extract(litest)"
      ]
    },
    {
      "cell_type": "code",
      "execution_count": null,
      "id": "fbb1526f",
      "metadata": {
        "id": "fbb1526f",
        "outputId": "758c6fad-94c8-4add-9181-3cb6f6a92b74"
      },
      "outputs": [
        {
          "data": {
            "text/plain": [
              "[<TarInfo 'file_list.mat' at 0x7f82da22fac0>,\n",
              " <TarInfo 'train_list.mat' at 0x7f82da22ff40>,\n",
              " <TarInfo 'test_list.mat' at 0x7f82da22fa00>]"
            ]
          },
          "execution_count": 83,
          "metadata": {},
          "output_type": "execute_result"
        }
      ],
      "source": [
        "lists.getmembers()"
      ]
    },
    {
      "cell_type": "code",
      "execution_count": null,
      "id": "e8695217",
      "metadata": {
        "id": "e8695217",
        "outputId": "c6f9de0d-1a78-42cd-9238-2c15b853ed78"
      },
      "outputs": [
        {
          "data": {
            "text/plain": [
              "dict_keys(['__header__', '__version__', '__globals__', 'file_list', 'annotation_list', 'labels'])"
            ]
          },
          "execution_count": 96,
          "metadata": {},
          "output_type": "execute_result"
        }
      ],
      "source": [
        "\n",
        "from scipy.io import loadmat\n",
        "x = loadmat('test_list.mat')\n",
        "x.file_list"
      ]
    },
    {
      "cell_type": "code",
      "execution_count": null,
      "id": "a8281ca8",
      "metadata": {
        "id": "a8281ca8",
        "outputId": "885e38b7-0a39-4b31-bf69-600eea15522e"
      },
      "outputs": [
        {
          "data": {
            "text/plain": [
              "array([array(['n02085620-Chihuahua/n02085620_1765'], dtype='<U34')],\n",
              "      dtype=object)"
            ]
          },
          "execution_count": 95,
          "metadata": {},
          "output_type": "execute_result"
        }
      ],
      "source": [
        "what"
      ]
    },
    {
      "cell_type": "code",
      "execution_count": null,
      "id": "558c1b43",
      "metadata": {
        "id": "558c1b43",
        "outputId": "5b67e8ec-9f81-440d-bae4-f57d978ea4c6"
      },
      "outputs": [
        {
          "data": {
            "text/plain": [
              "NoneType"
            ]
          },
          "execution_count": 67,
          "metadata": {},
          "output_type": "execute_result"
        }
      ],
      "source": [
        "type(tate)"
      ]
    },
    {
      "cell_type": "code",
      "execution_count": 12,
      "id": "123fe406",
      "metadata": {
        "id": "123fe406"
      },
      "outputs": [],
      "source": [
        "def breed_folder_extractor(images):\n",
        "    breed_list = []\n",
        "    for val in images.getmembers():\n",
        "        if val.name.count('/')==1:\n",
        "            breed_list.append(val.name)\n",
        "    return breed_list\n",
        "\n",
        "breed_folder_list = breed_folder_extractor(imagetar)  "
      ]
    },
    {
      "cell_type": "code",
      "execution_count": null,
      "id": "938daf85",
      "metadata": {
        "id": "938daf85",
        "outputId": "6c5673d1-95a0-46be-d2e5-3bfdf6f7795a"
      },
      "outputs": [
        {
          "name": "stdout",
          "output_type": "stream",
          "text": [
            "['Images/n02085620-Chihuahua', 'Images/n02085782-Japanese_spaniel', 'Images/n02085936-Maltese_dog', 'Images/n02086079-Pekinese', 'Images/n02086240-Shih-Tzu', 'Images/n02086646-Blenheim_spaniel', 'Images/n02086910-papillon', 'Images/n02087046-toy_terrier', 'Images/n02087394-Rhodesian_ridgeback', 'Images/n02088094-Afghan_hound', 'Images/n02088238-basset', 'Images/n02088364-beagle', 'Images/n02088466-bloodhound', 'Images/n02088632-bluetick', 'Images/n02089078-black-and-tan_coonhound', 'Images/n02089867-Walker_hound', 'Images/n02090379-redbone', 'Images/n02090622-borzoi', 'Images/n02090721-Irish_wolfhound', 'Images/n02091032-Italian_greyhound', 'Images/n02091134-whippet', 'Images/n02091244-Ibizan_hound', 'Images/n02091467-Norwegian_elkhound', 'Images/n02091831-Saluki', 'Images/n02092002-Scottish_deerhound', 'Images/n02092339-Weimaraner', 'Images/n02093256-Staffordshire_bullterrier', 'Images/n02093428-American_Staffordshire_terrier', 'Images/n02093647-Bedlington_terrier', 'Images/n02093754-Border_terrier', 'Images/n02093859-Kerry_blue_terrier', 'Images/n02093991-Irish_terrier', 'Images/n02094114-Norfolk_terrier', 'Images/n02094258-Norwich_terrier', 'Images/n02094433-Yorkshire_terrier', 'Images/n02095314-wire-haired_fox_terrier', 'Images/n02095570-Lakeland_terrier', 'Images/n02095889-Sealyham_terrier', 'Images/n02096051-Airedale', 'Images/n02096177-cairn', 'Images/n02096294-Australian_terrier', 'Images/n02096437-Dandie_Dinmont', 'Images/n02096585-Boston_bull', 'Images/n02097047-miniature_schnauzer', 'Images/n02097130-giant_schnauzer', 'Images/n02097209-standard_schnauzer', 'Images/n02097298-Scotch_terrier', 'Images/n02097474-Tibetan_terrier', 'Images/n02097658-silky_terrier', 'Images/n02098105-soft-coated_wheaten_terrier', 'Images/n02098286-West_Highland_white_terrier', 'Images/n02098413-Lhasa', 'Images/n02099267-flat-coated_retriever', 'Images/n02099429-curly-coated_retriever', 'Images/n02099601-golden_retriever', 'Images/n02099712-Labrador_retriever', 'Images/n02099849-Chesapeake_Bay_retriever', 'Images/n02100236-German_short-haired_pointer', 'Images/n02100583-vizsla', 'Images/n02100735-English_setter', 'Images/n02100877-Irish_setter', 'Images/n02101006-Gordon_setter', 'Images/n02101388-Brittany_spaniel', 'Images/n02101556-clumber', 'Images/n02102040-English_springer', 'Images/n02102177-Welsh_springer_spaniel', 'Images/n02102318-cocker_spaniel', 'Images/n02102480-Sussex_spaniel', 'Images/n02102973-Irish_water_spaniel', 'Images/n02104029-kuvasz', 'Images/n02104365-schipperke', 'Images/n02105056-groenendael', 'Images/n02105162-malinois', 'Images/n02105251-briard', 'Images/n02105412-kelpie', 'Images/n02105505-komondor', 'Images/n02105641-Old_English_sheepdog', 'Images/n02106030-collie', 'Images/n02106166-Border_collie', 'Images/n02106382-Bouvier_des_Flandres', 'Images/n02106550-Rottweiler', 'Images/n02106662-German_shepherd', 'Images/n02107142-Doberman', 'Images/n02107312-miniature_pinscher', 'Images/n02107574-Greater_Swiss_Mountain_dog', 'Images/n02107683-Bernese_mountain_dog', 'Images/n02107908-Appenzeller', 'Images/n02108000-EntleBucher', 'Images/n02108089-boxer', 'Images/n02108422-bull_mastiff', 'Images/n02108551-Tibetan_mastiff', 'Images/n02109047-Great_Dane', 'Images/n02109525-Saint_Bernard', 'Images/n02109961-Eskimo_dog', 'Images/n02110063-malamute', 'Images/n02110185-Siberian_husky', 'Images/n02110627-affenpinscher', 'Images/n02110806-basenji', 'Images/n02110958-pug', 'Images/n02111129-Leonberg', 'Images/n02111277-Newfoundland', 'Images/n02111500-Great_Pyrenees', 'Images/n02111889-Samoyed', 'Images/n02112018-Pomeranian', 'Images/n02112137-chow', 'Images/n02112350-keeshond', 'Images/n02112706-Brabancon_griffon', 'Images/n02113023-Pembroke', 'Images/n02113186-Cardigan', 'Images/n02113624-toy_poodle', 'Images/n02113712-miniature_poodle', 'Images/n02113799-standard_poodle', 'Images/n02113978-Mexican_hairless', 'Images/n02115641-dingo', 'Images/n02115913-dhole', 'Images/n02116738-African_hunting_dog', 'Images/n02089973-English_foxhound', 'Images/n02091635-otterhound', 'Images/n02105855-Shetland_sheepdog', 'Images/n02108915-French_bulldog']\n"
          ]
        }
      ],
      "source": [
        ""
      ]
    },
    {
      "cell_type": "code",
      "execution_count": 13,
      "id": "d1b04124",
      "metadata": {
        "id": "d1b04124"
      },
      "outputs": [],
      "source": [
        "def breed_name_extractor(breed_folder_list):\n",
        "    breed_name_list = []\n",
        "    for path in breed_folder_list:\n",
        "        dash = 0\n",
        "        for ind, let in enumerate(path):\n",
        "            if dash>0:\n",
        "                break\n",
        "            if let=='-':\n",
        "                dash+=1\n",
        "                breed_name_list.append(path[ind+1:])\n",
        "    return breed_name_list"
      ]
    },
    {
      "cell_type": "code",
      "execution_count": 14,
      "id": "5dd71257",
      "metadata": {
        "id": "5dd71257",
        "outputId": "c6e2abe1-f346-4d0a-a6b7-786671840e5c",
        "colab": {
          "base_uri": "https://localhost:8080/"
        }
      },
      "outputs": [
        {
          "output_type": "execute_result",
          "data": {
            "text/plain": [
              "['Chihuahua',\n",
              " 'Japanese_spaniel',\n",
              " 'Maltese_dog',\n",
              " 'Pekinese',\n",
              " 'Shih-Tzu',\n",
              " 'Blenheim_spaniel',\n",
              " 'papillon',\n",
              " 'toy_terrier',\n",
              " 'Rhodesian_ridgeback',\n",
              " 'Afghan_hound',\n",
              " 'basset',\n",
              " 'beagle',\n",
              " 'bloodhound',\n",
              " 'bluetick',\n",
              " 'black-and-tan_coonhound',\n",
              " 'Walker_hound',\n",
              " 'redbone',\n",
              " 'borzoi',\n",
              " 'Irish_wolfhound',\n",
              " 'Italian_greyhound',\n",
              " 'whippet',\n",
              " 'Ibizan_hound',\n",
              " 'Norwegian_elkhound',\n",
              " 'Saluki',\n",
              " 'Scottish_deerhound',\n",
              " 'Weimaraner',\n",
              " 'Staffordshire_bullterrier',\n",
              " 'American_Staffordshire_terrier',\n",
              " 'Bedlington_terrier',\n",
              " 'Border_terrier',\n",
              " 'Kerry_blue_terrier',\n",
              " 'Irish_terrier',\n",
              " 'Norfolk_terrier',\n",
              " 'Norwich_terrier',\n",
              " 'Yorkshire_terrier',\n",
              " 'wire-haired_fox_terrier',\n",
              " 'Lakeland_terrier',\n",
              " 'Sealyham_terrier',\n",
              " 'Airedale',\n",
              " 'cairn',\n",
              " 'Australian_terrier',\n",
              " 'Dandie_Dinmont',\n",
              " 'Boston_bull',\n",
              " 'miniature_schnauzer',\n",
              " 'giant_schnauzer',\n",
              " 'standard_schnauzer',\n",
              " 'Scotch_terrier',\n",
              " 'Tibetan_terrier',\n",
              " 'silky_terrier',\n",
              " 'soft-coated_wheaten_terrier',\n",
              " 'West_Highland_white_terrier',\n",
              " 'Lhasa',\n",
              " 'flat-coated_retriever',\n",
              " 'curly-coated_retriever',\n",
              " 'golden_retriever',\n",
              " 'Labrador_retriever',\n",
              " 'Chesapeake_Bay_retriever',\n",
              " 'German_short-haired_pointer',\n",
              " 'vizsla',\n",
              " 'English_setter',\n",
              " 'Irish_setter',\n",
              " 'Gordon_setter',\n",
              " 'Brittany_spaniel',\n",
              " 'clumber',\n",
              " 'English_springer',\n",
              " 'Welsh_springer_spaniel',\n",
              " 'cocker_spaniel',\n",
              " 'Sussex_spaniel',\n",
              " 'Irish_water_spaniel',\n",
              " 'kuvasz',\n",
              " 'schipperke',\n",
              " 'groenendael',\n",
              " 'malinois',\n",
              " 'briard',\n",
              " 'kelpie',\n",
              " 'komondor',\n",
              " 'Old_English_sheepdog',\n",
              " 'collie',\n",
              " 'Border_collie',\n",
              " 'Bouvier_des_Flandres',\n",
              " 'Rottweiler',\n",
              " 'German_shepherd',\n",
              " 'Doberman',\n",
              " 'miniature_pinscher',\n",
              " 'Greater_Swiss_Mountain_dog',\n",
              " 'Bernese_mountain_dog',\n",
              " 'Appenzeller',\n",
              " 'EntleBucher',\n",
              " 'boxer',\n",
              " 'bull_mastiff',\n",
              " 'Tibetan_mastiff',\n",
              " 'Great_Dane',\n",
              " 'Saint_Bernard',\n",
              " 'Eskimo_dog',\n",
              " 'malamute',\n",
              " 'Siberian_husky',\n",
              " 'affenpinscher',\n",
              " 'basenji',\n",
              " 'pug',\n",
              " 'Leonberg',\n",
              " 'Newfoundland',\n",
              " 'Great_Pyrenees',\n",
              " 'Samoyed',\n",
              " 'Pomeranian',\n",
              " 'chow',\n",
              " 'keeshond',\n",
              " 'Brabancon_griffon',\n",
              " 'Pembroke',\n",
              " 'Cardigan',\n",
              " 'toy_poodle',\n",
              " 'miniature_poodle',\n",
              " 'standard_poodle',\n",
              " 'Mexican_hairless',\n",
              " 'dingo',\n",
              " 'dhole',\n",
              " 'African_hunting_dog',\n",
              " 'English_foxhound',\n",
              " 'otterhound',\n",
              " 'Shetland_sheepdog',\n",
              " 'French_bulldog']"
            ]
          },
          "metadata": {},
          "execution_count": 14
        }
      ],
      "source": [
        "breed_name_list = breed_name_extractor(breed_folder_list)\n",
        "breed_name_list"
      ]
    },
    {
      "cell_type": "code",
      "execution_count": null,
      "id": "c42900c0",
      "metadata": {
        "id": "c42900c0"
      },
      "outputs": [],
      "source": [
        "test.extract('Images/n02085620-Chihuahua/n02085620_10621.jpg')"
      ]
    },
    {
      "cell_type": "code",
      "execution_count": null,
      "id": "ca74f58c",
      "metadata": {
        "id": "ca74f58c"
      },
      "outputs": [],
      "source": [
        "test.extractall()"
      ]
    },
    {
      "cell_type": "code",
      "execution_count": null,
      "id": "0b0d5fcd",
      "metadata": {
        "id": "0b0d5fcd"
      },
      "outputs": [],
      "source": [
        "pic = 'Images/n02085620-Chihuahua/n02085620_10621.jpg'"
      ]
    },
    {
      "cell_type": "code",
      "execution_count": null,
      "id": "3ed3bc48",
      "metadata": {
        "id": "3ed3bc48",
        "outputId": "b021a344-e63b-4772-ad63-68144d2281b8"
      },
      "outputs": [
        {
          "data": {
            "image/jpeg": "[encoded data removed]",
            "text/plain": [
              "<IPython.core.display.Image object>"
            ]
          },
          "execution_count": 41,
          "metadata": {},
          "output_type": "execute_result"
        }
      ],
      "source": [
        "Image(pic)"
      ]
    },
    {
      "cell_type": "code",
      "execution_count": 15,
      "id": "e896bfe2",
      "metadata": {
        "id": "e896bfe2"
      },
      "outputs": [],
      "source": [
        "import os\n",
        "import shutil\n",
        "from tensorflow.keras.preprocessing.image import ImageDataGenerator\n",
        "\n",
        "# Much of the generator code included here and below is modeled after the First Edition Chollet Deep Learning Notebooks: https://github.com/fchollet/deep-learning-with-python-notebooks/tree/master/first_edition\n",
        "\n",
        "train_datagen = ImageDataGenerator(rescale=1./255,\n",
        "                                  rotation_range=60,\n",
        "                                  width_shift_range=.25,\n",
        "                                  height_shift_range=.25,\n",
        "                                  zoom_range=.15,\n",
        "                                  horizontal_flip=True)\n",
        "\n",
        "test_datagen = ImageDataGenerator(rescale=1./255)"
      ]
    },
    {
      "cell_type": "code",
      "execution_count": null,
      "id": "3325165e",
      "metadata": {
        "id": "3325165e"
      },
      "outputs": [],
      "source": [
        ""
      ]
    },
    {
      "cell_type": "code",
      "execution_count": 16,
      "id": "e41ffd1f",
      "metadata": {
        "id": "e41ffd1f"
      },
      "outputs": [],
      "source": [
        "data_directory = '/content/drive/Othercomputers/My MacBook Air/Deep Learning/Images'\n"
      ]
    },
    {
      "cell_type": "code",
      "execution_count": 17,
      "id": "f83f9045",
      "metadata": {
        "id": "f83f9045"
      },
      "outputs": [],
      "source": [
        "db_home = '/content/drive/Othercomputers/My MacBook Air/Deep Learning/Database'\n",
        "# os.mkdir(db_home)\n",
        "train_dir = os.path.join(db_home, 'train')\n",
        "# os.mkdir(train_dir)\n",
        "validation_dir = os.path.join(db_home, 'validation')\n",
        "# os.mkdir(validation_dir)\n",
        "test_dir = os.path.join(db_home, 'test')\n",
        "# os.mkdir(test_dir)\n",
        "images = os.path.join(db_home,'images')\n",
        "# os.mkdir(images)\n",
        "\n"
      ]
    },
    {
      "cell_type": "code",
      "execution_count": 18,
      "id": "17fbb9dc",
      "metadata": {
        "id": "17fbb9dc"
      },
      "outputs": [],
      "source": [
        "import pandas as pd\n",
        "import numpy as np\n",
        "from sklearn.model_selection import train_test_split as tts"
      ]
    },
    {
      "cell_type": "code",
      "execution_count": 19,
      "id": "86ec972b",
      "metadata": {
        "id": "86ec972b"
      },
      "outputs": [],
      "source": [
        "def db_dict_maker(imagetar,breed_name_list):\n",
        "    dogedict = {}\n",
        "    for breed in breed_name_list:\n",
        "        dogedict[breed] = []\n",
        "        for fname in imagetar.getnames():\n",
        "            if breed.lower() in fname.lower():\n",
        "                dogedict[breed].append(fname)\n",
        "    return dogedict"
      ]
    },
    {
      "cell_type": "code",
      "execution_count": 20,
      "id": "d57df618",
      "metadata": {
        "id": "d57df618"
      },
      "outputs": [],
      "source": [
        "picdict = db_dict_maker(imagetar,breed_name_list)"
      ]
    },
    {
      "cell_type": "code",
      "execution_count": null,
      "id": "c56910bd",
      "metadata": {
        "id": "c56910bd",
        "outputId": "5d974f32-7dd4-467b-ed44-73a4b324aa5e",
        "colab": {
          "base_uri": "https://localhost:8080/"
        }
      },
      "outputs": [
        {
          "output_type": "execute_result",
          "data": {
            "text/plain": [
              "dict_keys(['Chihuahua', 'Japanese_spaniel', 'Maltese_dog', 'Pekinese', 'Shih-Tzu', 'Blenheim_spaniel', 'papillon', 'toy_terrier', 'Rhodesian_ridgeback', 'Afghan_hound', 'basset', 'beagle', 'bloodhound', 'bluetick', 'black-and-tan_coonhound', 'Walker_hound', 'redbone', 'borzoi', 'Irish_wolfhound', 'Italian_greyhound', 'whippet', 'Ibizan_hound', 'Norwegian_elkhound', 'Saluki', 'Scottish_deerhound', 'Weimaraner', 'Staffordshire_bullterrier', 'American_Staffordshire_terrier', 'Bedlington_terrier', 'Border_terrier', 'Kerry_blue_terrier', 'Irish_terrier', 'Norfolk_terrier', 'Norwich_terrier', 'Yorkshire_terrier', 'wire-haired_fox_terrier', 'Lakeland_terrier', 'Sealyham_terrier', 'Airedale', 'cairn', 'Australian_terrier', 'Dandie_Dinmont', 'Boston_bull', 'miniature_schnauzer', 'giant_schnauzer', 'standard_schnauzer', 'Scotch_terrier', 'Tibetan_terrier', 'silky_terrier', 'soft-coated_wheaten_terrier', 'West_Highland_white_terrier', 'Lhasa', 'flat-coated_retriever', 'curly-coated_retriever', 'golden_retriever', 'Labrador_retriever', 'Chesapeake_Bay_retriever', 'German_short-haired_pointer', 'vizsla', 'English_setter', 'Irish_setter', 'Gordon_setter', 'Brittany_spaniel', 'clumber', 'English_springer', 'Welsh_springer_spaniel', 'cocker_spaniel', 'Sussex_spaniel', 'Irish_water_spaniel', 'kuvasz', 'schipperke', 'groenendael', 'malinois', 'briard', 'kelpie', 'komondor', 'Old_English_sheepdog', 'collie', 'Border_collie', 'Bouvier_des_Flandres', 'Rottweiler', 'German_shepherd', 'Doberman', 'miniature_pinscher', 'Greater_Swiss_Mountain_dog', 'Bernese_mountain_dog', 'Appenzeller', 'EntleBucher', 'boxer', 'bull_mastiff', 'Tibetan_mastiff', 'Great_Dane', 'Saint_Bernard', 'Eskimo_dog', 'malamute', 'Siberian_husky', 'affenpinscher', 'basenji', 'pug', 'Leonberg', 'Newfoundland', 'Great_Pyrenees', 'Samoyed', 'Pomeranian', 'chow', 'keeshond', 'Brabancon_griffon', 'Pembroke', 'Cardigan', 'toy_poodle', 'miniature_poodle', 'standard_poodle', 'Mexican_hairless', 'dingo', 'dhole', 'African_hunting_dog', 'English_foxhound', 'otterhound', 'Shetland_sheepdog', 'French_bulldog'])"
            ]
          },
          "metadata": {},
          "execution_count": 16
        }
      ],
      "source": [
        "picdict.keys()"
      ]
    },
    {
      "cell_type": "code",
      "source": [
        "def split_dictionary_creator(picdict):\n",
        "  split_dict = {}\n",
        "  for val in picdict.keys():\n",
        "      trainx, testx = tts(picdict[val][1:], test_size = .25, random_state=321)\n",
        "      split_dict[val] = (trainx,testx)\n",
        "  return split_dict  "
      ],
      "metadata": {
        "id": "p1biQDRqtHUn"
      },
      "id": "p1biQDRqtHUn",
      "execution_count": 22,
      "outputs": []
    },
    {
      "cell_type": "code",
      "execution_count": 23,
      "id": "462f9c69",
      "metadata": {
        "id": "462f9c69"
      },
      "outputs": [],
      "source": [
        "split_dict = split_dictionary_creator(picdict)"
      ]
    },
    {
      "cell_type": "code",
      "execution_count": 24,
      "id": "c91f4177",
      "metadata": {
        "id": "c91f4177"
      },
      "outputs": [],
      "source": [
        "def picture_distribution(picdict):\n",
        "    split_dict = split_dictionary_creater(picdict)\n",
        "    for breed in split_dict.keys():\n",
        "        breedfold = os.path.join(images,breed)\n",
        "        os.mkdir(breedfold)\n",
        "        trainloc = os.path.join(train_dir,breed)\n",
        "        os.mkdir(trainloc)\n",
        "        testloc = os.path.join(test_dir,breed)\n",
        "        os.mkdir(testloc)\n",
        "        for imagelink in picdict[breed][1:]:\n",
        "            imagetar.extract(imagelink,breedfold)\n",
        "        for trnimage in split_dict[breed][0]:\n",
        "                imagetar.extract(trnimage,trainloc)\n",
        "        for tstimage in split_dict[breed][1]:\n",
        "                imagetar.extract(tstimage,testloc)\n",
        "    print('Done')"
      ]
    },
    {
      "cell_type": "code",
      "execution_count": 25,
      "id": "a8040d94",
      "metadata": {
        "id": "a8040d94"
      },
      "outputs": [],
      "source": [
        "breed_name_list = [val.title() for val in breed_name_list]"
      ]
    },
    {
      "cell_type": "code",
      "execution_count": null,
      "id": "8a92bd7a",
      "metadata": {
        "id": "8a92bd7a",
        "outputId": "6b026501-c204-4ebd-abea-9ab35318b2c1",
        "colab": {
          "base_uri": "https://localhost:8080/"
        }
      },
      "outputs": [
        {
          "output_type": "execute_result",
          "data": {
            "text/plain": [
              "dict_keys(['Chihuahua', 'Japanese_spaniel', 'Maltese_dog', 'Pekinese', 'Shih-Tzu', 'Blenheim_spaniel', 'papillon', 'toy_terrier', 'Rhodesian_ridgeback', 'Afghan_hound', 'basset', 'beagle', 'bloodhound', 'bluetick', 'black-and-tan_coonhound', 'Walker_hound', 'redbone', 'borzoi', 'Irish_wolfhound', 'Italian_greyhound', 'whippet', 'Ibizan_hound', 'Norwegian_elkhound', 'Saluki', 'Scottish_deerhound', 'Weimaraner', 'Staffordshire_bullterrier', 'American_Staffordshire_terrier', 'Bedlington_terrier', 'Border_terrier', 'Kerry_blue_terrier', 'Irish_terrier', 'Norfolk_terrier', 'Norwich_terrier', 'Yorkshire_terrier', 'wire-haired_fox_terrier', 'Lakeland_terrier', 'Sealyham_terrier', 'Airedale', 'cairn', 'Australian_terrier', 'Dandie_Dinmont', 'Boston_bull', 'miniature_schnauzer', 'giant_schnauzer', 'standard_schnauzer', 'Scotch_terrier', 'Tibetan_terrier', 'silky_terrier', 'soft-coated_wheaten_terrier', 'West_Highland_white_terrier', 'Lhasa', 'flat-coated_retriever', 'curly-coated_retriever', 'golden_retriever', 'Labrador_retriever', 'Chesapeake_Bay_retriever', 'German_short-haired_pointer', 'vizsla', 'English_setter', 'Irish_setter', 'Gordon_setter', 'Brittany_spaniel', 'clumber', 'English_springer', 'Welsh_springer_spaniel', 'cocker_spaniel', 'Sussex_spaniel', 'Irish_water_spaniel', 'kuvasz', 'schipperke', 'groenendael', 'malinois', 'briard', 'kelpie', 'komondor', 'Old_English_sheepdog', 'collie', 'Border_collie', 'Bouvier_des_Flandres', 'Rottweiler', 'German_shepherd', 'Doberman', 'miniature_pinscher', 'Greater_Swiss_Mountain_dog', 'Bernese_mountain_dog', 'Appenzeller', 'EntleBucher', 'boxer', 'bull_mastiff', 'Tibetan_mastiff', 'Great_Dane', 'Saint_Bernard', 'Eskimo_dog', 'malamute', 'Siberian_husky', 'affenpinscher', 'basenji', 'pug', 'Leonberg', 'Newfoundland', 'Great_Pyrenees', 'Samoyed', 'Pomeranian', 'chow', 'keeshond', 'Brabancon_griffon', 'Pembroke', 'Cardigan', 'toy_poodle', 'miniature_poodle', 'standard_poodle', 'Mexican_hairless', 'dingo', 'dhole', 'African_hunting_dog', 'English_foxhound', 'otterhound', 'Shetland_sheepdog', 'French_bulldog'])"
            ]
          },
          "metadata": {},
          "execution_count": 24
        }
      ],
      "source": [
        "split_dict.keys()"
      ]
    },
    {
      "cell_type": "code",
      "execution_count": null,
      "id": "1f385670",
      "metadata": {
        "id": "1f385670",
        "outputId": "6d4da23f-9fbc-4d74-a384-b388387aac07"
      },
      "outputs": [
        {
          "data": {
            "text/plain": [
              "['Images/n02085620-Chihuahua/n02085620_3488.jpg',\n",
              " 'Images/n02085620-Chihuahua/n02085620_11696.jpg',\n",
              " 'Images/n02085620-Chihuahua/n02085620_8637.jpg',\n",
              " 'Images/n02085620-Chihuahua/n02085620_3681.jpg',\n",
              " 'Images/n02085620-Chihuahua/n02085620_4572.jpg',\n",
              " 'Images/n02085620-Chihuahua/n02085620_806.jpg',\n",
              " 'Images/n02085620-Chihuahua/n02085620_3033.jpg',\n",
              " 'Images/n02085620-Chihuahua/n02085620_3826.jpg',\n",
              " 'Images/n02085620-Chihuahua/n02085620_5713.jpg',\n",
              " 'Images/n02085620-Chihuahua/n02085620_2693.jpg',\n",
              " 'Images/n02085620-Chihuahua/n02085620_9351.jpg',\n",
              " 'Images/n02085620-Chihuahua/n02085620_2590.jpg',\n",
              " 'Images/n02085620-Chihuahua/n02085620_2507.jpg',\n",
              " 'Images/n02085620-Chihuahua/n02085620_1620.jpg',\n",
              " 'Images/n02085620-Chihuahua/n02085620_3402.jpg',\n",
              " 'Images/n02085620-Chihuahua/n02085620_2479.jpg',\n",
              " 'Images/n02085620-Chihuahua/n02085620_199.jpg',\n",
              " 'Images/n02085620-Chihuahua/n02085620_3975.jpg',\n",
              " 'Images/n02085620-Chihuahua/n02085620_4016.jpg',\n",
              " 'Images/n02085620-Chihuahua/n02085620_326.jpg',\n",
              " 'Images/n02085620-Chihuahua/n02085620_11477.jpg',\n",
              " 'Images/n02085620-Chihuahua/n02085620_588.jpg',\n",
              " 'Images/n02085620-Chihuahua/n02085620_6295.jpg',\n",
              " 'Images/n02085620-Chihuahua/n02085620_5312.jpg',\n",
              " 'Images/n02085620-Chihuahua/n02085620_9414.jpg',\n",
              " 'Images/n02085620-Chihuahua/n02085620_1765.jpg',\n",
              " 'Images/n02085620-Chihuahua/n02085620_3928.jpg',\n",
              " 'Images/n02085620-Chihuahua/n02085620_1271.jpg',\n",
              " 'Images/n02085620-Chihuahua/n02085620_473.jpg',\n",
              " 'Images/n02085620-Chihuahua/n02085620_2815.jpg',\n",
              " 'Images/n02085620-Chihuahua/n02085620_5661.jpg',\n",
              " 'Images/n02085620-Chihuahua/n02085620_3838.jpg',\n",
              " 'Images/n02085620-Chihuahua/n02085620_7440.jpg',\n",
              " 'Images/n02085620-Chihuahua/n02085620_6931.jpg',\n",
              " 'Images/n02085620-Chihuahua/n02085620_8420.jpg',\n",
              " 'Images/n02085620-Chihuahua/n02085620_4602.jpg',\n",
              " 'Images/n02085620-Chihuahua/n02085620_1862.jpg',\n",
              " 'Images/n02085620-Chihuahua/n02085620_1617.jpg']"
            ]
          },
          "execution_count": 259,
          "metadata": {},
          "output_type": "execute_result"
        }
      ],
      "source": [
        "split_dict['Chihuahua'][1]"
      ]
    },
    {
      "cell_type": "code",
      "execution_count": null,
      "id": "75023d90",
      "metadata": {
        "id": "75023d90"
      },
      "outputs": [],
      "source": [
        "trainx, testx = tts(picdict[hmm[0]][1:], test_size = .25, random_state=321)"
      ]
    },
    {
      "cell_type": "code",
      "execution_count": null,
      "id": "efb6d04e",
      "metadata": {
        "id": "efb6d04e",
        "outputId": "a0469b8a-9d7a-4d90-d3d3-e7acf93f84c5"
      },
      "outputs": [
        {
          "data": {
            "text/plain": [
              "114"
            ]
          },
          "execution_count": 216,
          "metadata": {},
          "output_type": "execute_result"
        }
      ],
      "source": [
        "len(trainx)"
      ]
    },
    {
      "cell_type": "code",
      "execution_count": 4,
      "id": "ffca17db",
      "metadata": {
        "id": "ffca17db"
      },
      "outputs": [],
      "source": [
        ""
      ]
    },
    {
      "cell_type": "code",
      "execution_count": null,
      "id": "fec8fe25",
      "metadata": {
        "id": "fec8fe25"
      },
      "outputs": [],
      "source": [
        "import scipy\n",
        "umm = scipy.io.loadmat('train_data.mat')"
      ]
    },
    {
      "cell_type": "code",
      "execution_count": 26,
      "id": "ebab97c4",
      "metadata": {
        "id": "ebab97c4"
      },
      "outputs": [],
      "source": [
        "labels = [val for val in breed_name_list]\n"
      ]
    },
    {
      "cell_type": "code",
      "execution_count": 74,
      "id": "ffc63a8d",
      "metadata": {
        "id": "ffc63a8d",
        "colab": {
          "base_uri": "https://localhost:8080/"
        },
        "outputId": "0efb3653-2ba0-4522-fccb-9fbd886800bf"
      },
      "outputs": [
        {
          "output_type": "stream",
          "name": "stdout",
          "text": [
            "Found 15508 images belonging to 120 classes.\n"
          ]
        }
      ],
      "source": [
        "train_generator = train_datagen.flow_from_directory(\n",
        "    train_dir,\n",
        "    target_size=(100, 100),\n",
        "    batch_size=100,\n",
        "    class_mode='categorical')\n"
      ]
    },
    {
      "cell_type": "code",
      "execution_count": 75,
      "id": "7036771c",
      "metadata": {
        "id": "7036771c",
        "outputId": "7954a9da-87e2-43e6-e9b5-072febdfe285",
        "colab": {
          "base_uri": "https://localhost:8080/"
        }
      },
      "outputs": [
        {
          "output_type": "stream",
          "name": "stdout",
          "text": [
            "Found 5222 images belonging to 120 classes.\n"
          ]
        }
      ],
      "source": [
        "\n",
        "test_generator = test_datagen.flow_from_directory(\n",
        "    test_dir,\n",
        "    target_size=(100,100),\n",
        "    batch_size=35,\n",
        "    class_mode='categorical')\n"
      ]
    },
    {
      "cell_type": "code",
      "execution_count": 68,
      "id": "a8fc2134",
      "metadata": {
        "id": "a8fc2134",
        "colab": {
          "base_uri": "https://localhost:8080/"
        },
        "outputId": "b5b7c1b6-26c6-4c86-b075-598711c96fb6"
      },
      "outputs": [
        {
          "output_type": "stream",
          "name": "stdout",
          "text": [
            "Model: \"sequential_10\"\n",
            "_________________________________________________________________\n",
            " Layer (type)                Output Shape              Param #   \n",
            "=================================================================\n",
            " vgg16 (Functional)          (None, 3, 3, 512)         14714688  \n",
            "                                                                 \n",
            " flatten_10 (Flatten)        (None, 4608)              0         \n",
            "                                                                 \n",
            " dense_23 (Dense)            (None, 576)               2654784   \n",
            "                                                                 \n",
            " dropout_9 (Dropout)         (None, 576)               0         \n",
            "                                                                 \n",
            " dense_24 (Dense)            (None, 120)               69240     \n",
            "                                                                 \n",
            "=================================================================\n",
            "Total params: 17,438,712\n",
            "Trainable params: 17,438,712\n",
            "Non-trainable params: 0\n",
            "_________________________________________________________________\n"
          ]
        }
      ],
      "source": [
        "from keras import models\n",
        "from keras import layers\n",
        "from keras import optimizers\n",
        "\n",
        "model = models.Sequential()\n",
        "model.add(con_base)\n",
        "model.add(layers.Flatten())\n",
        "model.add(layers.Dense(480, activation='LeakyReLU'))\n",
        "model.add(layers.Dropout(.5))\n",
        "model.add(layers.Dense(240, activation='LeakyReLU'))\n",
        "model.add(layers.Dense(120, activation='softmax'))\n",
        "\n",
        "model.summary()"
      ]
    },
    {
      "cell_type": "code",
      "source": [
        "len(model.trainable_weights)\n",
        "con_base.trainable = False\n",
        "len(model.trainable_weights)"
      ],
      "metadata": {
        "id": "ejJbcff-QD1N",
        "colab": {
          "base_uri": "https://localhost:8080/"
        },
        "outputId": "a46a22bd-974e-47db-eac7-6a4f3ba9cf90"
      },
      "id": "ejJbcff-QD1N",
      "execution_count": 69,
      "outputs": [
        {
          "output_type": "execute_result",
          "data": {
            "text/plain": [
              "4"
            ]
          },
          "metadata": {},
          "execution_count": 69
        }
      ]
    },
    {
      "cell_type": "code",
      "source": [
        "model.compile(loss='categorical_crossentropy',\n",
        "              optimizer=tensorflow.keras.optimizers.Adam(),\n",
        "              metrics=['accuracy'])"
      ],
      "metadata": {
        "id": "iGIxPIF6b10b"
      },
      "id": "iGIxPIF6b10b",
      "execution_count": 87,
      "outputs": []
    },
    {
      "cell_type": "code",
      "source": [
        "history = model.fit(\n",
        "      train_generator,\n",
        "      steps_per_epoch=156,\n",
        "      epochs=50,\n",
        "      validation_data=test_generator,\n",
        "      validation_steps=5,\n",
        "      verbose=1)"
      ],
      "metadata": {
        "colab": {
          "base_uri": "https://localhost:8080/"
        },
        "id": "P8EoTsQqcXtZ",
        "outputId": "ba430c97-68fe-4c9b-8a9c-f90c5183f80e"
      },
      "id": "P8EoTsQqcXtZ",
      "execution_count": null,
      "outputs": [
        {
          "output_type": "stream",
          "name": "stdout",
          "text": [
            "Epoch 1/50\n",
            "156/156 [==============================] - 151s 963ms/step - loss: 4.2125 - accuracy: 0.0748 - val_loss: 3.9513 - val_accuracy: 0.1314\n",
            "Epoch 2/50\n",
            "156/156 [==============================] - 148s 949ms/step - loss: 4.1657 - accuracy: 0.0792 - val_loss: 3.7540 - val_accuracy: 0.1314\n",
            "Epoch 3/50\n",
            "156/156 [==============================] - 147s 942ms/step - loss: 4.1221 - accuracy: 0.0852 - val_loss: 3.8025 - val_accuracy: 0.1086\n",
            "Epoch 4/50\n",
            "156/156 [==============================] - 155s 995ms/step - loss: 4.1067 - accuracy: 0.0858 - val_loss: 3.7413 - val_accuracy: 0.0971\n",
            "Epoch 5/50\n",
            "156/156 [==============================] - 146s 938ms/step - loss: 4.0600 - accuracy: 0.0918 - val_loss: 3.7666 - val_accuracy: 0.0914\n",
            "Epoch 6/50\n",
            "156/156 [==============================] - 147s 942ms/step - loss: 4.0363 - accuracy: 0.0989 - val_loss: 3.8953 - val_accuracy: 0.1257\n",
            "Epoch 7/50\n",
            "156/156 [==============================] - 148s 950ms/step - loss: 4.0087 - accuracy: 0.0978 - val_loss: 3.6365 - val_accuracy: 0.1771\n",
            "Epoch 8/50\n",
            "156/156 [==============================] - 146s 938ms/step - loss: 3.9947 - accuracy: 0.0995 - val_loss: 3.7658 - val_accuracy: 0.1257\n",
            "Epoch 9/50\n",
            "156/156 [==============================] - 146s 935ms/step - loss: 3.9706 - accuracy: 0.0989 - val_loss: 3.5786 - val_accuracy: 0.1657\n",
            "Epoch 10/50\n",
            "156/156 [==============================] - 147s 939ms/step - loss: 3.9871 - accuracy: 0.0998 - val_loss: 3.6518 - val_accuracy: 0.1771\n",
            "Epoch 11/50\n",
            "156/156 [==============================] - 144s 925ms/step - loss: 3.9771 - accuracy: 0.0966 - val_loss: 3.7684 - val_accuracy: 0.1200\n",
            "Epoch 12/50\n",
            "156/156 [==============================] - 144s 924ms/step - loss: 3.9548 - accuracy: 0.1036 - val_loss: 3.5751 - val_accuracy: 0.1657\n",
            "Epoch 13/50\n",
            "156/156 [==============================] - 144s 924ms/step - loss: 3.9298 - accuracy: 0.1061 - val_loss: 3.7169 - val_accuracy: 0.1486\n",
            "Epoch 14/50\n",
            "156/156 [==============================] - 149s 954ms/step - loss: 3.9139 - accuracy: 0.1076 - val_loss: 3.6967 - val_accuracy: 0.1429\n",
            "Epoch 15/50\n",
            "156/156 [==============================] - 144s 923ms/step - loss: 3.9107 - accuracy: 0.1105 - val_loss: 3.4845 - val_accuracy: 0.1429\n",
            "Epoch 16/50\n",
            "156/156 [==============================] - 148s 948ms/step - loss: 3.9073 - accuracy: 0.1077 - val_loss: 3.5705 - val_accuracy: 0.1714\n",
            "Epoch 17/50\n",
            "156/156 [==============================] - 147s 941ms/step - loss: 3.8912 - accuracy: 0.1092 - val_loss: 3.5300 - val_accuracy: 0.1314\n",
            "Epoch 18/50\n",
            "156/156 [==============================] - 148s 948ms/step - loss: 3.8806 - accuracy: 0.1103 - val_loss: 3.4606 - val_accuracy: 0.1943\n",
            "Epoch 19/50\n",
            " 69/156 [============>.................] - ETA: 1:17 - loss: 3.8765 - accuracy: 0.1161"
          ]
        }
      ]
    },
    {
      "cell_type": "code",
      "source": [
        "model.save('dogefinder.h4')"
      ],
      "metadata": {
        "colab": {
          "base_uri": "https://localhost:8080/"
        },
        "id": "pNKlNuCudi0u",
        "outputId": "570192b3-5493-4c0f-d5d9-e84ddaed2990"
      },
      "id": "pNKlNuCudi0u",
      "execution_count": 86,
      "outputs": [
        {
          "output_type": "stream",
          "name": "stdout",
          "text": [
            "INFO:tensorflow:Assets written to: dogefinder.h4/assets\n"
          ]
        }
      ]
    },
    {
      "cell_type": "code",
      "source": [
        "history.history.keys()"
      ],
      "metadata": {
        "colab": {
          "base_uri": "https://localhost:8080/"
        },
        "id": "DCn4OmKQTWUT",
        "outputId": "dc82db87-2ad0-44cf-93f4-c321fdd6ef84"
      },
      "id": "DCn4OmKQTWUT",
      "execution_count": 81,
      "outputs": [
        {
          "output_type": "execute_result",
          "data": {
            "text/plain": [
              "dict_keys(['loss', 'accuracy', 'val_loss', 'val_accuracy'])"
            ]
          },
          "metadata": {},
          "execution_count": 81
        }
      ]
    },
    {
      "cell_type": "code",
      "source": [
        "import matplotlib.pyplot as plt\n",
        "\n",
        "accuracy = history.history['accuracy']\n",
        "val_accuracy = history.history['val_accuracy']\n",
        "loss = history.history['loss']\n",
        "val_loss = history.history['val_loss']\n",
        "\n",
        "epochs = range(len(accuracy))\n",
        "\n",
        "plt.plot(epochs, accuracy, 'bo', label='Training accuracy')\n",
        "plt.plot(epochs, val_accuracy, 'r', label='Validation accuracy')\n",
        "plt.title('Training and validation accuracy')\n",
        "plt.legend()\n",
        "\n",
        "plt.figure()\n",
        "\n",
        "plt.plot(epochs, loss, 'bo', label='Training loss')\n",
        "plt.plot(epochs, val_loss, 'r', label='Validation loss')\n",
        "plt.title('Training and validation loss')\n",
        "plt.legend()\n",
        "\n",
        "plt.show()"
      ],
      "metadata": {
        "colab": {
          "base_uri": "https://localhost:8080/",
          "height": 545
        },
        "id": "0iD3S4aPfmfS",
        "outputId": "c2b06728-7a9b-4b1f-da93-7698f8553252"
      },
      "id": "0iD3S4aPfmfS",
      "execution_count": 85,
      "outputs": [
        {
          "output_type": "display_data",
          "data": {
            "text/plain": [
              "<Figure size 432x288 with 1 Axes>"
            ],
            "image/png": "[encoded data removed]"
          },
          "metadata": {
            "needs_background": "light"
          }
        },
        {
          "output_type": "display_data",
          "data": {
            "text/plain": [
              "<Figure size 432x288 with 1 Axes>"
            ],
            "image/png": "[encoded data removed]"
          },
          "metadata": {
            "needs_background": "light"
          }
        }
      ]
    },
    {
      "cell_type": "code",
      "source": [
        "trainloc = os.path.join(train_dir,'Chihuahua')"
      ],
      "metadata": {
        "id": "uS3c-AH7gUM1"
      },
      "id": "uS3c-AH7gUM1",
      "execution_count": null,
      "outputs": []
    },
    {
      "cell_type": "code",
      "source": [
        "imagecheck = os.path.join(trainloc,'Images/n02085620-Chihuahua/n02085620_3488.jpg')"
      ],
      "metadata": {
        "id": "NBlQd-CuiHua"
      },
      "id": "NBlQd-CuiHua",
      "execution_count": null,
      "outputs": []
    },
    {
      "cell_type": "code",
      "source": [
        "\n"
      ],
      "metadata": {
        "colab": {
          "base_uri": "https://localhost:8080/",
          "height": 184
        },
        "id": "lX0jkGrX0Dzr",
        "outputId": "77cdd556-45fa-4f5c-ffd0-25c44baa5e8d"
      },
      "id": "lX0jkGrX0Dzr",
      "execution_count": 1,
      "outputs": [
        {
          "output_type": "error",
          "ename": "NameError",
          "evalue": "ignored",
          "traceback": [
            "\u001b[0;31m---------------------------------------------------------------------------\u001b[0m",
            "\u001b[0;31mNameError\u001b[0m                                 Traceback (most recent call last)",
            "\u001b[0;32m<ipython-input-1-9e563edbfe9d>\u001b[0m in \u001b[0;36m<module>\u001b[0;34m()\u001b[0m\n\u001b[0;32m----> 1\u001b[0;31m \u001b[0mtest\u001b[0m \u001b[0;34m=\u001b[0m \u001b[0mnext\u001b[0m\u001b[0;34m(\u001b[0m\u001b[0mtest_generator\u001b[0m\u001b[0;34m)\u001b[0m\u001b[0;34m\u001b[0m\u001b[0;34m\u001b[0m\u001b[0m\n\u001b[0m\u001b[1;32m      2\u001b[0m \u001b[0mtest\u001b[0m\u001b[0;34m\u001b[0m\u001b[0;34m\u001b[0m\u001b[0m\n",
            "\u001b[0;31mNameError\u001b[0m: name 'test_generator' is not defined"
          ]
        }
      ]
    },
    {
      "cell_type": "code",
      "source": [
        ""
      ],
      "metadata": {
        "colab": {
          "base_uri": "https://localhost:8080/",
          "height": 312
        },
        "id": "YTvPMjkviIf4",
        "outputId": "a2b3d3be-09f9-4017-872d-15a37f3093bc"
      },
      "id": "YTvPMjkviIf4",
      "execution_count": null,
      "outputs": [
        {
          "output_type": "error",
          "ename": "IndexError",
          "evalue": "ignored",
          "traceback": [
            "\u001b[0;31m---------------------------------------------------------------------------\u001b[0m",
            "\u001b[0;31mIndexError\u001b[0m                                Traceback (most recent call last)",
            "\u001b[0;32m<ipython-input-48-feef01acd6b9>\u001b[0m in \u001b[0;36m<module>\u001b[0;34m()\u001b[0m\n\u001b[0;32m----> 1\u001b[0;31m \u001b[0mres\u001b[0m \u001b[0;34m=\u001b[0m \u001b[0mmodel\u001b[0m\u001b[0;34m.\u001b[0m\u001b[0mpredict\u001b[0m\u001b[0;34m(\u001b[0m\u001b[0mimagecheck\u001b[0m\u001b[0;34m)\u001b[0m\u001b[0;34m\u001b[0m\u001b[0;34m\u001b[0m\u001b[0m\n\u001b[0m",
            "\u001b[0;32m/usr/local/lib/python3.7/dist-packages/keras/utils/traceback_utils.py\u001b[0m in \u001b[0;36merror_handler\u001b[0;34m(*args, **kwargs)\u001b[0m\n\u001b[1;32m     65\u001b[0m     \u001b[0;32mexcept\u001b[0m \u001b[0mException\u001b[0m \u001b[0;32mas\u001b[0m \u001b[0me\u001b[0m\u001b[0;34m:\u001b[0m  \u001b[0;31m# pylint: disable=broad-except\u001b[0m\u001b[0;34m\u001b[0m\u001b[0;34m\u001b[0m\u001b[0m\n\u001b[1;32m     66\u001b[0m       \u001b[0mfiltered_tb\u001b[0m \u001b[0;34m=\u001b[0m \u001b[0m_process_traceback_frames\u001b[0m\u001b[0;34m(\u001b[0m\u001b[0me\u001b[0m\u001b[0;34m.\u001b[0m\u001b[0m__traceback__\u001b[0m\u001b[0;34m)\u001b[0m\u001b[0;34m\u001b[0m\u001b[0;34m\u001b[0m\u001b[0m\n\u001b[0;32m---> 67\u001b[0;31m       \u001b[0;32mraise\u001b[0m \u001b[0me\u001b[0m\u001b[0;34m.\u001b[0m\u001b[0mwith_traceback\u001b[0m\u001b[0;34m(\u001b[0m\u001b[0mfiltered_tb\u001b[0m\u001b[0;34m)\u001b[0m \u001b[0;32mfrom\u001b[0m \u001b[0;32mNone\u001b[0m\u001b[0;34m\u001b[0m\u001b[0;34m\u001b[0m\u001b[0m\n\u001b[0m\u001b[1;32m     68\u001b[0m     \u001b[0;32mfinally\u001b[0m\u001b[0;34m:\u001b[0m\u001b[0;34m\u001b[0m\u001b[0;34m\u001b[0m\u001b[0m\n\u001b[1;32m     69\u001b[0m       \u001b[0;32mdel\u001b[0m \u001b[0mfiltered_tb\u001b[0m\u001b[0;34m\u001b[0m\u001b[0;34m\u001b[0m\u001b[0m\n",
            "\u001b[0;32m/usr/local/lib/python3.7/dist-packages/tensorflow/python/framework/tensor_shape.py\u001b[0m in \u001b[0;36m__getitem__\u001b[0;34m(self, key)\u001b[0m\n\u001b[1;32m    900\u001b[0m       \u001b[0;32melse\u001b[0m\u001b[0;34m:\u001b[0m\u001b[0;34m\u001b[0m\u001b[0;34m\u001b[0m\u001b[0m\n\u001b[1;32m    901\u001b[0m         \u001b[0;32mif\u001b[0m \u001b[0mself\u001b[0m\u001b[0;34m.\u001b[0m\u001b[0m_v2_behavior\u001b[0m\u001b[0;34m:\u001b[0m\u001b[0;34m\u001b[0m\u001b[0;34m\u001b[0m\u001b[0m\n\u001b[0;32m--> 902\u001b[0;31m           \u001b[0;32mreturn\u001b[0m \u001b[0mself\u001b[0m\u001b[0;34m.\u001b[0m\u001b[0m_dims\u001b[0m\u001b[0;34m[\u001b[0m\u001b[0mkey\u001b[0m\u001b[0;34m]\u001b[0m\u001b[0;34m.\u001b[0m\u001b[0mvalue\u001b[0m\u001b[0;34m\u001b[0m\u001b[0;34m\u001b[0m\u001b[0m\n\u001b[0m\u001b[1;32m    903\u001b[0m         \u001b[0;32melse\u001b[0m\u001b[0;34m:\u001b[0m\u001b[0;34m\u001b[0m\u001b[0;34m\u001b[0m\u001b[0m\n\u001b[1;32m    904\u001b[0m           \u001b[0;32mreturn\u001b[0m \u001b[0mself\u001b[0m\u001b[0;34m.\u001b[0m\u001b[0m_dims\u001b[0m\u001b[0;34m[\u001b[0m\u001b[0mkey\u001b[0m\u001b[0;34m]\u001b[0m\u001b[0;34m\u001b[0m\u001b[0;34m\u001b[0m\u001b[0m\n",
            "\u001b[0;31mIndexError\u001b[0m: list index out of range"
          ]
        }
      ]
    },
    {
      "cell_type": "code",
      "source": [
        ""
      ],
      "metadata": {
        "id": "1yHrzg3-ir7V"
      },
      "id": "1yHrzg3-ir7V",
      "execution_count": null,
      "outputs": []
    }
  ],
  "metadata": {
    "kernelspec": {
      "display_name": "Python 3",
      "language": "python",
      "name": "python3"
    },
    "language_info": {
      "codemirror_mode": {
        "name": "ipython",
        "version": 3
      },
      "file_extension": ".py",
      "mimetype": "text/x-python",
      "name": "python",
      "nbconvert_exporter": "python",
      "pygments_lexer": "ipython3",
      "version": "3.8.8"
    },
    "colab": {
      "name": "Copy of Dogefinder.ipynb",
      "provenance": [],
      "collapsed_sections": [],
      "include_colab_link": true
    },
    "accelerator": "GPU"
  },
  "nbformat": 4,
  "nbformat_minor": 5
}