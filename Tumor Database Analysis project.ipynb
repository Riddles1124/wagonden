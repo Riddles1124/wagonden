{
 "cells": [
  {
   "cell_type": "code",
   "execution_count": 174,
   "id": "ad044570",
   "metadata": {},
   "outputs": [],
   "source": [
    "import pandas as pd\n",
    "import numpy as np\n"
   ]
  },
  {
   "cell_type": "code",
   "execution_count": null,
   "id": "43b827ba",
   "metadata": {},
   "outputs": [],
   "source": [
    "db = pd.read_csv(\"SAVSNET_TR_V2.csv\", sep=\";\")"
   ]
  },
  {
   "cell_type": "code",
   "execution_count": 249,
   "id": "073d98de",
   "metadata": {},
   "outputs": [],
   "source": [
    "import seaborn as sns\n",
    "import matplotlib.pylab as plt\n",
    "from sklearn.linear_model import LogisticRegression\n"
   ]
  },
  {
   "cell_type": "code",
   "execution_count": 97,
   "id": "ba846306",
   "metadata": {},
   "outputs": [
    {
     "name": "stdout",
     "output_type": "stream",
     "text": [
      "<class 'pandas.core.frame.DataFrame'>\n",
      "RangeIndex: 109895 entries, 0 to 109894\n",
      "Data columns (total 10 columns):\n",
      " #   Column                 Non-Null Count   Dtype \n",
      "---  ------                 --------------   ----- \n",
      " 0   Species                109895 non-null  object\n",
      " 1   Breed                  109895 non-null  object\n",
      " 2   Gender                 109895 non-null  object\n",
      " 3   Histo_Cyto             109895 non-null  object\n",
      " 4   Tumours_in_the_report  109895 non-null  int64 \n",
      " 5   Primary_tumour         109895 non-null  object\n",
      " 6   Grade_2_tier           13539 non-null   object\n",
      " 7   Grade_3_tier           9660 non-null    object\n",
      " 8   Location               108793 non-null  object\n",
      " 9   Neutered               109895 non-null  int64 \n",
      "dtypes: int64(2), object(8)\n",
      "memory usage: 8.4+ MB\n"
     ]
    }
   ],
   "source": [
    "db.info()"
   ]
  },
  {
   "cell_type": "code",
   "execution_count": 2,
   "id": "4347f976",
   "metadata": {},
   "outputs": [],
   "source": [
    "testdb = pd.read_csv(\"SAVSNET_TR_V2.csv\", sep=\";\")"
   ]
  },
  {
   "cell_type": "code",
   "execution_count": 3,
   "id": "d00d6c26",
   "metadata": {},
   "outputs": [
    {
     "data": {
      "text/plain": [
       "Domestic Short Hair       5587\n",
       "No_info                   2101\n",
       "Domestic Long Hair         637\n",
       "British Blue               171\n",
       "Maine Coon                 125\n",
       "Siamese                    112\n",
       "Persian                     93\n",
       "Bengal                      83\n",
       "Ragdoll                     81\n",
       "Burmese                     54\n",
       "Norweigian Forest           25\n",
       "Devon Rex                   17\n",
       "American Short Hair         16\n",
       "Oriental Shorthair          16\n",
       "Russian Blue Shorthair      14\n",
       "Sphynx                      12\n",
       "Birman                      10\n",
       "Tonkinese                    9\n",
       "Egyptian Mau                 8\n",
       "Cornish Rex                  7\n",
       "Chinchilla                   6\n",
       "Turkish Van                  5\n",
       "Turkish Angora               5\n",
       "Abyssinian                   5\n",
       "Balinese                     4\n",
       "Scottish Fold                4\n",
       "Ocicat                       4\n",
       "Burmilla                     3\n",
       "Crossbreed                   3\n",
       "Somali                       2\n",
       "Asian Tiffany                2\n",
       "RagaMuffin                   2\n",
       "Pixie-Bob                    2\n",
       "Tabby                        1\n",
       "Asian                        1\n",
       "Himalaya                     1\n",
       "Labrador Retriever           1\n",
       "European Short hair          1\n",
       "Exotic Shorthair             1\n",
       "Name: Breed, dtype: int64"
      ]
     },
     "execution_count": 3,
     "metadata": {},
     "output_type": "execute_result"
    }
   ],
   "source": [
    "testdb[(testdb[\"Species\"]==\"Feline\")].Breed.value_counts()‹"
   ]
  },
  {
   "cell_type": "code",
   "execution_count": 4,
   "id": "adbe1bfc",
   "metadata": {},
   "outputs": [],
   "source": [
    "from collections import Counter as C"
   ]
  },
  {
   "cell_type": "code",
   "execution_count": 5,
   "id": "3363632b",
   "metadata": {},
   "outputs": [
    {
     "data": {
      "text/plain": [
       "Index(['Mammary gland', 'Skin', 'Thorax', 'Forelimb', 'Hindlimb', 'Flank',\n",
       "       'Abdomen', 'Oral cavity', 'Neck', 'Limb', 'Perianal region', 'Eyelid',\n",
       "       'Gum', 'Back', 'Ear pinna', 'Face', 'Head', 'Lips', 'Tail', 'Spleen',\n",
       "       'Testicle', 'Chest', 'Lymph node', 'Eye', 'Intestine', 'Anal sac gland',\n",
       "       'Submandibular lymph node', 'Popliteal lymph node', 'Liver',\n",
       "       'Thyroid gland', 'Pelvic region', 'Rectum', 'Mandible', 'Nasal cavity',\n",
       "       'Haired skin', 'Stomach', 'Prescapular lymph node', 'Lung', 'Scrotum',\n",
       "       'Pad', 'Prepuce', 'Ovary', 'Salivary gland', 'Dermis and subcutis',\n",
       "       'Nipple', 'Vulva', 'Kidney', 'Prostate', 'Bladder', 'Urinary bladder',\n",
       "       'Penis', 'Pancreas', 'Vagina', 'Perineal region', 'Inguinal lymph node',\n",
       "       'Bone', 'Mesenteric lymph node', 'Urine', 'Generalised lymphadenopathy',\n",
       "       'Uterus', 'Third eyelid', 'Mandibular lymph node', 'Parathyroid gland',\n",
       "       'Ocular globe', 'Pharynx', 'Axillary lymph node', 'Omentum', 'Larynx',\n",
       "       'Ocular orbit', 'Heart', 'Trunk', 'Mammary lymph node', 'Thymus',\n",
       "       'Parotid gland', 'Adrenal gland', 'Mediastin', 'Alimentary tract',\n",
       "       'Bone marrow', 'Mediastinal lymph node', 'Bile duct', 'urethra',\n",
       "       'Retropharyngeal lymph node', 'Iliac lymph node', 'Esophagus', 'Retina',\n",
       "       'Tympanic bulla', 'Cervical lymph node', 'Brain', 'Sacral lymph node',\n",
       "       'Bronchus'],\n",
       "      dtype='object')"
      ]
     },
     "execution_count": 5,
     "metadata": {},
     "output_type": "execute_result"
    }
   ],
   "source": [
    "db.head()\n",
    "db.Location.value_counts().keys()"
   ]
  },
  {
   "cell_type": "code",
   "execution_count": 6,
   "id": "369b6315",
   "metadata": {},
   "outputs": [
    {
     "data": {
      "text/plain": [
       "Canine    100664\n",
       "Feline      9231\n",
       "Name: Species, dtype: int64"
      ]
     },
     "execution_count": 6,
     "metadata": {},
     "output_type": "execute_result"
    }
   ],
   "source": [
    "db.Species.value_counts()"
   ]
  },
  {
   "cell_type": "code",
   "execution_count": 7,
   "id": "208d3232",
   "metadata": {},
   "outputs": [],
   "source": [
    "db = db.drop(labels=[\"LaboratoryRef\",\"TumourRef\",\"Anonymous_PracticeID\",\"ResultDate\",\"Differentiation\",\"Uncertain_terms\",\"Unnamed: 15\"], axis=1)"
   ]
  },
  {
   "cell_type": "code",
   "execution_count": 8,
   "id": "6c7cf2b8",
   "metadata": {},
   "outputs": [
    {
     "data": {
      "text/plain": [
       "Low-grade             9560\n",
       "High-grade            2116\n",
       "Intermediate-grade    1863\n",
       "Name: Grade_2_tier, dtype: int64"
      ]
     },
     "execution_count": 8,
     "metadata": {},
     "output_type": "execute_result"
    }
   ],
   "source": [
    "db.Grade_2_tier.value_counts()"
   ]
  },
  {
   "cell_type": "code",
   "execution_count": 9,
   "id": "6dc17e5a",
   "metadata": {},
   "outputs": [
    {
     "data": {
      "text/plain": [
       "Grade 2    6802\n",
       "Grade 1    2411\n",
       "Grade 3     447\n",
       "Name: Grade_3_tier, dtype: int64"
      ]
     },
     "execution_count": 9,
     "metadata": {},
     "output_type": "execute_result"
    }
   ],
   "source": [
    "db.Grade_3_tier.value_counts()"
   ]
  },
  {
   "cell_type": "code",
   "execution_count": 10,
   "id": "6412fc57",
   "metadata": {},
   "outputs": [
    {
     "data": {
      "text/plain": [
       "Female neutered    37243\n",
       "Male neutered      34235\n",
       "Female entire      12131\n",
       "Male entire        11959\n",
       "Female              5721\n",
       "Male                5651\n",
       "No_info             2955\n",
       "Name: Gender, dtype: int64"
      ]
     },
     "execution_count": 10,
     "metadata": {},
     "output_type": "execute_result"
    }
   ],
   "source": [
    "db.Gender.value_counts()"
   ]
  },
  {
   "cell_type": "code",
   "execution_count": 11,
   "id": "7ad48cef",
   "metadata": {},
   "outputs": [],
   "source": [
    "db[\"Gender\"].replace(\"Female entire\",\"Female\", inplace=True)"
   ]
  },
  {
   "cell_type": "code",
   "execution_count": 12,
   "id": "fdf640bf",
   "metadata": {},
   "outputs": [],
   "source": [
    "db[\"Gender\"].replace(\"Male entire\", \"Male\", inplace=True)"
   ]
  },
  {
   "cell_type": "code",
   "execution_count": 13,
   "id": "d44075d0",
   "metadata": {},
   "outputs": [
    {
     "data": {
      "text/plain": [
       "Female neutered    37243\n",
       "Male neutered      34235\n",
       "Female             17852\n",
       "Male               17610\n",
       "No_info             2955\n",
       "Name: Gender, dtype: int64"
      ]
     },
     "execution_count": 13,
     "metadata": {},
     "output_type": "execute_result"
    }
   ],
   "source": [
    "db.Gender.value_counts()"
   ]
  },
  {
   "cell_type": "code",
   "execution_count": 14,
   "id": "ec53293e",
   "metadata": {},
   "outputs": [],
   "source": [
    "keylist = [val for val in db.Location.value_counts().keys()]"
   ]
  },
  {
   "cell_type": "code",
   "execution_count": 15,
   "id": "133b7cf7",
   "metadata": {},
   "outputs": [],
   "source": [
    "head = [\"Oral cavity\",\"Neck\",\"Eyelid\",\"Gum\",\"Ear pinna\",\"Face\",\"Head\",\"Lips\",\"Eye\",\"Mandible\",\"Nasal cavity\",\"Salivary gland\",\"Third eyelid\",\"Ocular globe\",\"Pharynx\",\"Larynx\",\"Ocular orbit\",\"Parotid gland\",\"Esophagus\",\"Retina\",\"Tympanic bulla\",\"Brain\"]"
   ]
  },
  {
   "cell_type": "code",
   "execution_count": 16,
   "id": "b1ad468d",
   "metadata": {},
   "outputs": [],
   "source": [
    "extremities = [\"Forelimb\",\"Hindlimb\",\"Flank\",\"Limb\",\"Tail\",\"Pad\"]"
   ]
  },
  {
   "cell_type": "code",
   "execution_count": 17,
   "id": "e3bf23be",
   "metadata": {},
   "outputs": [],
   "source": [
    "lymph_sys = [\"Lymph node\",\"Submandibular lymph node\",\"Popliteal lymph node\",\"Thyroid gland\",\"Prescapular lymph node\",\"Inguinal lymph node\",\"Mesenteric lymph node\",\"Generalised lymphadenopathy\",\"Mandibular lymph node\",\"Parathyroid gland\",\"Axillary lymph node\",\"Mammary lymph node\",\"Mediastinal lymph node\",\"Retropharyngeal lymph node\",\"Iliac lymph node\",\"Cervical lymph node\",\"Sacral lymph node\"]"
   ]
  },
  {
   "cell_type": "code",
   "execution_count": 18,
   "id": "97673458",
   "metadata": {},
   "outputs": [],
   "source": [
    "trunk_ex = [\"Skin\",\"Thorax\",\"Abdomen\",\"Back\",\"Chest\",\"Dermis and subcutis\",\"Haired skin\",\"Nipple\",\"Trunk\"]"
   ]
  },
  {
   "cell_type": "code",
   "execution_count": 19,
   "id": "a6908b6c",
   "metadata": {},
   "outputs": [],
   "source": [
    "trunk_in = [\"Mammary gland\",\"Spleen\",\"Intestine\",\"Liver\",\"Stomach\",\"Lung\",\"Ovary\",\"Kidney\",\"Bladder\",\"Urinary bladder\",\"Pancreas\",\"Bone\",\"Urine\",\"Uterus\",\"Omentum\",\"Heart\",\"Thymus\",\"Adrenal gland\",\"Mediastin\",\"Alimentary tract\",\"Bone marrow\",\"Bile duct\",\"Bronchus\"]"
   ]
  },
  {
   "cell_type": "code",
   "execution_count": 20,
   "id": "29594b04",
   "metadata": {},
   "outputs": [],
   "source": [
    "pelvic = [\"Perianal region\",\"Testicle\",\"Anal sac gland\",\"Pelvic region\",\"Rectum\",\"Scrotum\",\"Prepuce\",\"Vulva\",\"Prostate\",\"Penis\",\"Vagina\",\"Perineal region\",\"urethra\"]"
   ]
  },
  {
   "cell_type": "code",
   "execution_count": 21,
   "id": "703faeb3",
   "metadata": {},
   "outputs": [
    {
     "data": {
      "text/plain": [
       "90"
      ]
     },
     "execution_count": 21,
     "metadata": {},
     "output_type": "execute_result"
    }
   ],
   "source": [
    "len(head)+len(extremities)+len(lymph_sys)+len(trunk_ex)+len(trunk_in)+len(pelvic)"
   ]
  },
  {
   "cell_type": "code",
   "execution_count": 22,
   "id": "6cfed0ff",
   "metadata": {},
   "outputs": [
    {
     "data": {
      "text/plain": [
       "90"
      ]
     },
     "execution_count": 22,
     "metadata": {},
     "output_type": "execute_result"
    }
   ],
   "source": [
    "len(keylist)"
   ]
  },
  {
   "cell_type": "code",
   "execution_count": 23,
   "id": "2209d167",
   "metadata": {},
   "outputs": [],
   "source": [
    "loc_list = [head,extremities,lymph_sys,trunk_ex,trunk_in,pelvic]"
   ]
  },
  {
   "cell_type": "code",
   "execution_count": 24,
   "id": "c13221aa",
   "metadata": {},
   "outputs": [],
   "source": [
    "checklist = []\n",
    "for location in loc_list:\n",
    "    for subloc in location:\n",
    "        checklist.append(subloc)"
   ]
  },
  {
   "cell_type": "code",
   "execution_count": 25,
   "id": "30b612df",
   "metadata": {},
   "outputs": [],
   "source": [
    "error_list = []\n",
    "for ind, val in enumerate(sorted(checklist)):\n",
    "    error_list.append((val,sorted(keylist)[ind]))"
   ]
  },
  {
   "cell_type": "code",
   "execution_count": 26,
   "id": "b6509116",
   "metadata": {},
   "outputs": [
    {
     "data": {
      "text/plain": [
       "('Mesenteric lymph node', 'Mesenteric lymph node')"
      ]
     },
     "execution_count": 26,
     "metadata": {},
     "output_type": "execute_result"
    }
   ],
   "source": [
    "error_list[44]"
   ]
  },
  {
   "cell_type": "code",
   "execution_count": null,
   "id": "6c382347",
   "metadata": {},
   "outputs": [],
   "source": []
  },
  {
   "cell_type": "code",
   "execution_count": 27,
   "id": "c77e75f4",
   "metadata": {},
   "outputs": [],
   "source": [
    "mapping_dict = {}\n",
    "for val in head:\n",
    "    mapping_dict[val] = \"head\"\n",
    "for val in extremities:\n",
    "    mapping_dict[val] = \"extremities\"\n",
    "for val in lymph_sys:\n",
    "    mapping_dict[val] = \"lymph_sys\"\n",
    "for val in trunk_ex:\n",
    "    mapping_dict[val] = \"trunk_ex\"\n",
    "for val in trunk_in:\n",
    "    mapping_dict[val] = \"trunk_in\"\n",
    "for val in pelvic:\n",
    "    mapping_dict[val] = \"pelvic\"\n",
    "        "
   ]
  },
  {
   "cell_type": "code",
   "execution_count": 28,
   "id": "cc055aa9",
   "metadata": {},
   "outputs": [
    {
     "data": {
      "text/plain": [
       "{'Oral cavity': 'head',\n",
       " 'Neck': 'head',\n",
       " 'Eyelid': 'head',\n",
       " 'Gum': 'head',\n",
       " 'Ear pinna': 'head',\n",
       " 'Face': 'head',\n",
       " 'Head': 'head',\n",
       " 'Lips': 'head',\n",
       " 'Eye': 'head',\n",
       " 'Mandible': 'head',\n",
       " 'Nasal cavity': 'head',\n",
       " 'Salivary gland': 'head',\n",
       " 'Third eyelid': 'head',\n",
       " 'Ocular globe': 'head',\n",
       " 'Pharynx': 'head',\n",
       " 'Larynx': 'head',\n",
       " 'Ocular orbit': 'head',\n",
       " 'Parotid gland': 'head',\n",
       " 'Esophagus': 'head',\n",
       " 'Retina': 'head',\n",
       " 'Tympanic bulla': 'head',\n",
       " 'Brain': 'head',\n",
       " 'Forelimb': 'extremities',\n",
       " 'Hindlimb': 'extremities',\n",
       " 'Flank': 'extremities',\n",
       " 'Limb': 'extremities',\n",
       " 'Tail': 'extremities',\n",
       " 'Pad': 'extremities',\n",
       " 'Lymph node': 'lymph_sys',\n",
       " 'Submandibular lymph node': 'lymph_sys',\n",
       " 'Popliteal lymph node': 'lymph_sys',\n",
       " 'Thyroid gland': 'lymph_sys',\n",
       " 'Prescapular lymph node': 'lymph_sys',\n",
       " 'Inguinal lymph node': 'lymph_sys',\n",
       " 'Mesenteric lymph node': 'lymph_sys',\n",
       " 'Generalised lymphadenopathy': 'lymph_sys',\n",
       " 'Mandibular lymph node': 'lymph_sys',\n",
       " 'Parathyroid gland': 'lymph_sys',\n",
       " 'Axillary lymph node': 'lymph_sys',\n",
       " 'Mammary lymph node': 'lymph_sys',\n",
       " 'Mediastinal lymph node': 'lymph_sys',\n",
       " 'Retropharyngeal lymph node': 'lymph_sys',\n",
       " 'Iliac lymph node': 'lymph_sys',\n",
       " 'Cervical lymph node': 'lymph_sys',\n",
       " 'Sacral lymph node': 'lymph_sys',\n",
       " 'Skin': 'trunk_ex',\n",
       " 'Thorax': 'trunk_ex',\n",
       " 'Abdomen': 'trunk_ex',\n",
       " 'Back': 'trunk_ex',\n",
       " 'Chest': 'trunk_ex',\n",
       " 'Dermis and subcutis': 'trunk_ex',\n",
       " 'Haired skin': 'trunk_ex',\n",
       " 'Nipple': 'trunk_ex',\n",
       " 'Trunk': 'trunk_ex',\n",
       " 'Mammary gland': 'trunk_in',\n",
       " 'Spleen': 'trunk_in',\n",
       " 'Intestine': 'trunk_in',\n",
       " 'Liver': 'trunk_in',\n",
       " 'Stomach': 'trunk_in',\n",
       " 'Lung': 'trunk_in',\n",
       " 'Ovary': 'trunk_in',\n",
       " 'Kidney': 'trunk_in',\n",
       " 'Bladder': 'trunk_in',\n",
       " 'Urinary bladder': 'trunk_in',\n",
       " 'Pancreas': 'trunk_in',\n",
       " 'Bone': 'trunk_in',\n",
       " 'Urine': 'trunk_in',\n",
       " 'Uterus': 'trunk_in',\n",
       " 'Omentum': 'trunk_in',\n",
       " 'Heart': 'trunk_in',\n",
       " 'Thymus': 'trunk_in',\n",
       " 'Adrenal gland': 'trunk_in',\n",
       " 'Mediastin': 'trunk_in',\n",
       " 'Alimentary tract': 'trunk_in',\n",
       " 'Bone marrow': 'trunk_in',\n",
       " 'Bile duct': 'trunk_in',\n",
       " 'Bronchus': 'trunk_in',\n",
       " 'Perianal region': 'pelvic',\n",
       " 'Testicle': 'pelvic',\n",
       " 'Anal sac gland': 'pelvic',\n",
       " 'Pelvic region': 'pelvic',\n",
       " 'Rectum': 'pelvic',\n",
       " 'Scrotum': 'pelvic',\n",
       " 'Prepuce': 'pelvic',\n",
       " 'Vulva': 'pelvic',\n",
       " 'Prostate': 'pelvic',\n",
       " 'Penis': 'pelvic',\n",
       " 'Vagina': 'pelvic',\n",
       " 'Perineal region': 'pelvic',\n",
       " 'urethra': 'pelvic'}"
      ]
     },
     "execution_count": 28,
     "metadata": {},
     "output_type": "execute_result"
    }
   ],
   "source": [
    "mapping_dict"
   ]
  },
  {
   "cell_type": "code",
   "execution_count": 29,
   "id": "ad037ca6",
   "metadata": {},
   "outputs": [],
   "source": [
    "db.Location.replace(mapping_dict, inplace=True)"
   ]
  },
  {
   "cell_type": "code",
   "execution_count": 30,
   "id": "268589d9",
   "metadata": {},
   "outputs": [
    {
     "data": {
      "text/plain": [
       "trunk_ex       31224\n",
       "extremities    23759\n",
       "head           23307\n",
       "trunk_in       18847\n",
       "pelvic          7689\n",
       "lymph_sys       3967\n",
       "Name: Location, dtype: int64"
      ]
     },
     "execution_count": 30,
     "metadata": {},
     "output_type": "execute_result"
    }
   ],
   "source": [
    "db.Location.value_counts()"
   ]
  },
  {
   "cell_type": "code",
   "execution_count": 31,
   "id": "4f3d2520",
   "metadata": {},
   "outputs": [
    {
     "data": {
      "text/plain": [
       "Index(['Species', 'Breed', 'Gender', 'Histo_Cyto', 'Tumours_in_the_report',\n",
       "       'Primary_tumour', 'Grade_2_tier', 'Grade_3_tier', 'Location'],\n",
       "      dtype='object')"
      ]
     },
     "execution_count": 31,
     "metadata": {},
     "output_type": "execute_result"
    }
   ],
   "source": [
    "db.columns"
   ]
  },
  {
   "cell_type": "code",
   "execution_count": 34,
   "id": "4d119e57",
   "metadata": {},
   "outputs": [
    {
     "data": {
      "text/html": [
       "<div>\n",
       "<style scoped>\n",
       "    .dataframe tbody tr th:only-of-type {\n",
       "        vertical-align: middle;\n",
       "    }\n",
       "\n",
       "    .dataframe tbody tr th {\n",
       "        vertical-align: top;\n",
       "    }\n",
       "\n",
       "    .dataframe thead th {\n",
       "        text-align: right;\n",
       "    }\n",
       "</style>\n",
       "<table border=\"1\" class=\"dataframe\">\n",
       "  <thead>\n",
       "    <tr style=\"text-align: right;\">\n",
       "      <th></th>\n",
       "      <th>Species</th>\n",
       "      <th>Breed</th>\n",
       "      <th>Gender</th>\n",
       "      <th>Histo_Cyto</th>\n",
       "      <th>Primary_tumour</th>\n",
       "      <th>Grade_2_tier</th>\n",
       "      <th>Grade_3_tier</th>\n",
       "      <th>Location</th>\n",
       "    </tr>\n",
       "  </thead>\n",
       "  <tbody>\n",
       "    <tr>\n",
       "      <th>0</th>\n",
       "      <td>Canine</td>\n",
       "      <td>Cavalier King Charles Spaniel</td>\n",
       "      <td>Male</td>\n",
       "      <td>Histology</td>\n",
       "      <td>Sebaceous adenoma</td>\n",
       "      <td>NaN</td>\n",
       "      <td>NaN</td>\n",
       "      <td>head</td>\n",
       "    </tr>\n",
       "    <tr>\n",
       "      <th>1</th>\n",
       "      <td>Canine</td>\n",
       "      <td>Cocker Spaniel</td>\n",
       "      <td>Male neutered</td>\n",
       "      <td>Cytology</td>\n",
       "      <td>Lipoma</td>\n",
       "      <td>NaN</td>\n",
       "      <td>NaN</td>\n",
       "      <td>trunk_ex</td>\n",
       "    </tr>\n",
       "    <tr>\n",
       "      <th>2</th>\n",
       "      <td>Canine</td>\n",
       "      <td>Labrador Retriever</td>\n",
       "      <td>Female neutered</td>\n",
       "      <td>Cytology</td>\n",
       "      <td>Lipoma</td>\n",
       "      <td>NaN</td>\n",
       "      <td>NaN</td>\n",
       "      <td>trunk_ex</td>\n",
       "    </tr>\n",
       "    <tr>\n",
       "      <th>3</th>\n",
       "      <td>Canine</td>\n",
       "      <td>Labrador Retriever</td>\n",
       "      <td>Female neutered</td>\n",
       "      <td>Cytology</td>\n",
       "      <td>Mast cell tumour</td>\n",
       "      <td>NaN</td>\n",
       "      <td>NaN</td>\n",
       "      <td>trunk_ex</td>\n",
       "    </tr>\n",
       "    <tr>\n",
       "      <th>4</th>\n",
       "      <td>Canine</td>\n",
       "      <td>Labrador Retriever</td>\n",
       "      <td>Male neutered</td>\n",
       "      <td>Cytology</td>\n",
       "      <td>Lipoma</td>\n",
       "      <td>NaN</td>\n",
       "      <td>NaN</td>\n",
       "      <td>trunk_ex</td>\n",
       "    </tr>\n",
       "    <tr>\n",
       "      <th>...</th>\n",
       "      <td>...</td>\n",
       "      <td>...</td>\n",
       "      <td>...</td>\n",
       "      <td>...</td>\n",
       "      <td>...</td>\n",
       "      <td>...</td>\n",
       "      <td>...</td>\n",
       "      <td>...</td>\n",
       "    </tr>\n",
       "    <tr>\n",
       "      <th>109890</th>\n",
       "      <td>Canine</td>\n",
       "      <td>Crossbreed</td>\n",
       "      <td>Female neutered</td>\n",
       "      <td>Cytology</td>\n",
       "      <td>Lipoma</td>\n",
       "      <td>NaN</td>\n",
       "      <td>NaN</td>\n",
       "      <td>trunk_ex</td>\n",
       "    </tr>\n",
       "    <tr>\n",
       "      <th>109891</th>\n",
       "      <td>Canine</td>\n",
       "      <td>Crossbreed</td>\n",
       "      <td>Female neutered</td>\n",
       "      <td>Cytology</td>\n",
       "      <td>Basal cell tumour</td>\n",
       "      <td>NaN</td>\n",
       "      <td>NaN</td>\n",
       "      <td>head</td>\n",
       "    </tr>\n",
       "    <tr>\n",
       "      <th>109892</th>\n",
       "      <td>Canine</td>\n",
       "      <td>Flat-Coated Retriever</td>\n",
       "      <td>Male neutered</td>\n",
       "      <td>Cytology</td>\n",
       "      <td>Histiocytic sarcoma</td>\n",
       "      <td>NaN</td>\n",
       "      <td>NaN</td>\n",
       "      <td>lymph_sys</td>\n",
       "    </tr>\n",
       "    <tr>\n",
       "      <th>109893</th>\n",
       "      <td>Canine</td>\n",
       "      <td>West Highland White Terrier</td>\n",
       "      <td>Male neutered</td>\n",
       "      <td>Histology</td>\n",
       "      <td>Carcinoma_others</td>\n",
       "      <td>NaN</td>\n",
       "      <td>NaN</td>\n",
       "      <td>head</td>\n",
       "    </tr>\n",
       "    <tr>\n",
       "      <th>109894</th>\n",
       "      <td>Canine</td>\n",
       "      <td>Rottweiler</td>\n",
       "      <td>Female</td>\n",
       "      <td>Cytology</td>\n",
       "      <td>Lymphoma</td>\n",
       "      <td>High-grade</td>\n",
       "      <td>NaN</td>\n",
       "      <td>lymph_sys</td>\n",
       "    </tr>\n",
       "  </tbody>\n",
       "</table>\n",
       "<p>109895 rows × 8 columns</p>\n",
       "</div>"
      ],
      "text/plain": [
       "       Species                          Breed           Gender Histo_Cyto  \\\n",
       "0       Canine  Cavalier King Charles Spaniel             Male  Histology   \n",
       "1       Canine                 Cocker Spaniel    Male neutered   Cytology   \n",
       "2       Canine             Labrador Retriever  Female neutered   Cytology   \n",
       "3       Canine             Labrador Retriever  Female neutered   Cytology   \n",
       "4       Canine             Labrador Retriever    Male neutered   Cytology   \n",
       "...        ...                            ...              ...        ...   \n",
       "109890  Canine                     Crossbreed  Female neutered   Cytology   \n",
       "109891  Canine                     Crossbreed  Female neutered   Cytology   \n",
       "109892  Canine          Flat-Coated Retriever    Male neutered   Cytology   \n",
       "109893  Canine    West Highland White Terrier    Male neutered  Histology   \n",
       "109894  Canine                     Rottweiler           Female   Cytology   \n",
       "\n",
       "             Primary_tumour Grade_2_tier Grade_3_tier   Location  \n",
       "0         Sebaceous adenoma          NaN          NaN       head  \n",
       "1                    Lipoma          NaN          NaN   trunk_ex  \n",
       "2                    Lipoma          NaN          NaN   trunk_ex  \n",
       "3          Mast cell tumour          NaN          NaN   trunk_ex  \n",
       "4                    Lipoma          NaN          NaN   trunk_ex  \n",
       "...                     ...          ...          ...        ...  \n",
       "109890               Lipoma          NaN          NaN   trunk_ex  \n",
       "109891    Basal cell tumour          NaN          NaN       head  \n",
       "109892  Histiocytic sarcoma          NaN          NaN  lymph_sys  \n",
       "109893     Carcinoma_others          NaN          NaN       head  \n",
       "109894             Lymphoma   High-grade          NaN  lymph_sys  \n",
       "\n",
       "[109895 rows x 8 columns]"
      ]
     },
     "execution_count": 34,
     "metadata": {},
     "output_type": "execute_result"
    }
   ],
   "source": [
    "Ydata"
   ]
  },
  {
   "cell_type": "code",
   "execution_count": 35,
   "id": "6fa1108a",
   "metadata": {},
   "outputs": [],
   "source": [
    "neutered_list=[]\n",
    "for val in db.Gender:\n",
    "    if \"neutered\" in val:\n",
    "        neutered_list.append(1)\n",
    "    else:\n",
    "        neutered_list.append(0)"
   ]
  },
  {
   "cell_type": "code",
   "execution_count": 36,
   "id": "bc159713",
   "metadata": {},
   "outputs": [],
   "source": [
    "db[\"Neutered\"]=neutered_list"
   ]
  },
  {
   "cell_type": "code",
   "execution_count": 37,
   "id": "3f6e295e",
   "metadata": {},
   "outputs": [
    {
     "data": {
      "text/html": [
       "<div>\n",
       "<style scoped>\n",
       "    .dataframe tbody tr th:only-of-type {\n",
       "        vertical-align: middle;\n",
       "    }\n",
       "\n",
       "    .dataframe tbody tr th {\n",
       "        vertical-align: top;\n",
       "    }\n",
       "\n",
       "    .dataframe thead th {\n",
       "        text-align: right;\n",
       "    }\n",
       "</style>\n",
       "<table border=\"1\" class=\"dataframe\">\n",
       "  <thead>\n",
       "    <tr style=\"text-align: right;\">\n",
       "      <th></th>\n",
       "      <th>Species</th>\n",
       "      <th>Breed</th>\n",
       "      <th>Gender</th>\n",
       "      <th>Histo_Cyto</th>\n",
       "      <th>Tumours_in_the_report</th>\n",
       "      <th>Primary_tumour</th>\n",
       "      <th>Grade_2_tier</th>\n",
       "      <th>Grade_3_tier</th>\n",
       "      <th>Location</th>\n",
       "      <th>Neutered</th>\n",
       "    </tr>\n",
       "  </thead>\n",
       "  <tbody>\n",
       "    <tr>\n",
       "      <th>0</th>\n",
       "      <td>Canine</td>\n",
       "      <td>Cavalier King Charles Spaniel</td>\n",
       "      <td>Male</td>\n",
       "      <td>Histology</td>\n",
       "      <td>1</td>\n",
       "      <td>Sebaceous adenoma</td>\n",
       "      <td>NaN</td>\n",
       "      <td>NaN</td>\n",
       "      <td>head</td>\n",
       "      <td>0</td>\n",
       "    </tr>\n",
       "    <tr>\n",
       "      <th>1</th>\n",
       "      <td>Canine</td>\n",
       "      <td>Cocker Spaniel</td>\n",
       "      <td>Male neutered</td>\n",
       "      <td>Cytology</td>\n",
       "      <td>1</td>\n",
       "      <td>Lipoma</td>\n",
       "      <td>NaN</td>\n",
       "      <td>NaN</td>\n",
       "      <td>trunk_ex</td>\n",
       "      <td>1</td>\n",
       "    </tr>\n",
       "    <tr>\n",
       "      <th>2</th>\n",
       "      <td>Canine</td>\n",
       "      <td>Labrador Retriever</td>\n",
       "      <td>Female neutered</td>\n",
       "      <td>Cytology</td>\n",
       "      <td>1</td>\n",
       "      <td>Lipoma</td>\n",
       "      <td>NaN</td>\n",
       "      <td>NaN</td>\n",
       "      <td>trunk_ex</td>\n",
       "      <td>1</td>\n",
       "    </tr>\n",
       "    <tr>\n",
       "      <th>3</th>\n",
       "      <td>Canine</td>\n",
       "      <td>Labrador Retriever</td>\n",
       "      <td>Female neutered</td>\n",
       "      <td>Cytology</td>\n",
       "      <td>1</td>\n",
       "      <td>Mast cell tumour</td>\n",
       "      <td>NaN</td>\n",
       "      <td>NaN</td>\n",
       "      <td>trunk_ex</td>\n",
       "      <td>1</td>\n",
       "    </tr>\n",
       "    <tr>\n",
       "      <th>4</th>\n",
       "      <td>Canine</td>\n",
       "      <td>Labrador Retriever</td>\n",
       "      <td>Male neutered</td>\n",
       "      <td>Cytology</td>\n",
       "      <td>3</td>\n",
       "      <td>Lipoma</td>\n",
       "      <td>NaN</td>\n",
       "      <td>NaN</td>\n",
       "      <td>trunk_ex</td>\n",
       "      <td>1</td>\n",
       "    </tr>\n",
       "  </tbody>\n",
       "</table>\n",
       "</div>"
      ],
      "text/plain": [
       "  Species                          Breed           Gender Histo_Cyto  \\\n",
       "0  Canine  Cavalier King Charles Spaniel             Male  Histology   \n",
       "1  Canine                 Cocker Spaniel    Male neutered   Cytology   \n",
       "2  Canine             Labrador Retriever  Female neutered   Cytology   \n",
       "3  Canine             Labrador Retriever  Female neutered   Cytology   \n",
       "4  Canine             Labrador Retriever    Male neutered   Cytology   \n",
       "\n",
       "   Tumours_in_the_report     Primary_tumour Grade_2_tier Grade_3_tier  \\\n",
       "0                      1  Sebaceous adenoma          NaN          NaN   \n",
       "1                      1             Lipoma          NaN          NaN   \n",
       "2                      1             Lipoma          NaN          NaN   \n",
       "3                      1   Mast cell tumour          NaN          NaN   \n",
       "4                      3             Lipoma          NaN          NaN   \n",
       "\n",
       "   Location  Neutered  \n",
       "0      head         0  \n",
       "1  trunk_ex         1  \n",
       "2  trunk_ex         1  \n",
       "3  trunk_ex         1  \n",
       "4  trunk_ex         1  "
      ]
     },
     "execution_count": 37,
     "metadata": {},
     "output_type": "execute_result"
    }
   ],
   "source": [
    "db.head()"
   ]
  },
  {
   "cell_type": "code",
   "execution_count": 38,
   "id": "6d009c28",
   "metadata": {},
   "outputs": [
    {
     "data": {
      "text/plain": [
       "No_info                       19700\n",
       "Crossbreed                    14464\n",
       "Labrador Retriever            11826\n",
       "Staffordshire Bull Terrier     6548\n",
       "Domestic Short Hair            5591\n",
       "                              ...  \n",
       "Borzoi                            1\n",
       "Estrela Mountain Dog              1\n",
       "Exotic Shorthair                  1\n",
       "Kuvasz                            1\n",
       "Lowchen                           1\n",
       "Name: Breed, Length: 216, dtype: int64"
      ]
     },
     "execution_count": 38,
     "metadata": {},
     "output_type": "execute_result"
    }
   ],
   "source": [
    "db.Breed.value_counts()"
   ]
  },
  {
   "cell_type": "code",
   "execution_count": 39,
   "id": "9e875de1",
   "metadata": {},
   "outputs": [],
   "source": [
    "sporting = [\"Spaniel\",\"Pointer\",\"Retriever\",\"Setter\",\"Beagle\"]\n",
    "herding = [\"herd\",\"Cattle\",\"Sheep\",\"Collie\",\"collie\",\"Kelpie\",\"Corgi\",\"Mountain\",\"Heeler\"]\n",
    "working = [\"Akita\", \"Malamute\",\"Bulldog\",\"Husky\",\"Terrier\",\"Boxer\",\"Shar-Pei\",\"Chow\",\"Pinscher\",\"Schnauzer\",\"Dane\",\"Mastiff\",\"Rottweiler\",\"Bernard\"]\n",
    "toy=[\"Bichon\",\"Chihuahua\",\"Toy\",\"Italian Greyhound\",\"Chin\",\"King Charles\",\"Lowchen\",\"Maltese\",\"Miniature\",\"Papillon\",\"Pomeranian\",\"Pug\",\"Yorkshire\"]\n",
    "non_sporting=[\"Dalmation\",\"Spitz\",\"Poodle\",\"Shiba\",\"Eskimo\"]\n",
    "common_domestic=[\"Domestic Short Hair\",\"Domestic Long Hair\", \"American Short Hair\"]"
   ]
  },
  {
   "cell_type": "code",
   "execution_count": 40,
   "id": "6b40b97c",
   "metadata": {},
   "outputs": [],
   "source": [
    "test = db.Breed.copy()\n",
    "groups = [(\"sporting\",sporting),(\"herding\",herding),(\"working\",working),(\"toy\",toy),(\"non_sporting\",non_sporting),(\"common_domestic\",common_domestic)]"
   ]
  },
  {
   "cell_type": "code",
   "execution_count": 41,
   "id": "02728d9e",
   "metadata": {},
   "outputs": [],
   "source": [
    "def breed_sorter(breed_names,groups):\n",
    "    breed_dict={}\n",
    "    for name in breed_names:\n",
    "        for cat, group in groups:\n",
    "            for indicator in group:\n",
    "                if indicator in name:\n",
    "                    breed_dict[name]=cat\n",
    "                if \"No_info\" in name:\n",
    "                    breed_dict[name]=\"other\"\n",
    "    return breed_dict\n"
   ]
  },
  {
   "cell_type": "code",
   "execution_count": 43,
   "id": "fb6cbd9b",
   "metadata": {},
   "outputs": [],
   "source": [
    "breed_mapping_dict = breed_sorter(test,groups)"
   ]
  },
  {
   "cell_type": "code",
   "execution_count": 44,
   "id": "8f2f22e0",
   "metadata": {},
   "outputs": [],
   "source": [
    "test.replace(breed_mapping_dict,inplace=True)"
   ]
  },
  {
   "cell_type": "code",
   "execution_count": 45,
   "id": "03e7cde7",
   "metadata": {},
   "outputs": [
    {
     "data": {
      "text/plain": [
       "sporting               25823\n",
       "working                22627\n",
       "other                  19700\n",
       "Crossbreed             14464\n",
       "common_domestic         6244\n",
       "                       ...  \n",
       "Shipoo                     1\n",
       "Schnoodle                  1\n",
       "Tervueren                  1\n",
       "European Short hair        1\n",
       "Swedish Lapphund           1\n",
       "Name: Breed, Length: 107, dtype: int64"
      ]
     },
     "execution_count": 45,
     "metadata": {},
     "output_type": "execute_result"
    }
   ],
   "source": [
    "test.value_counts()"
   ]
  },
  {
   "cell_type": "code",
   "execution_count": 46,
   "id": "570e0cb3",
   "metadata": {},
   "outputs": [],
   "source": [
    "grouplist = [val[0] for val in groups]"
   ]
  },
  {
   "cell_type": "code",
   "execution_count": 47,
   "id": "470f40bc",
   "metadata": {},
   "outputs": [
    {
     "data": {
      "text/plain": [
       "['sporting', 'herding', 'working', 'toy', 'non_sporting', 'common_domestic']"
      ]
     },
     "execution_count": 47,
     "metadata": {},
     "output_type": "execute_result"
    }
   ],
   "source": [
    "grouplist"
   ]
  },
  {
   "cell_type": "code",
   "execution_count": 48,
   "id": "02908659",
   "metadata": {},
   "outputs": [],
   "source": [
    "for val in test:\n",
    "    if val not in grouplist:\n",
    "        breed_mapping_dict[val]=\"other\""
   ]
  },
  {
   "cell_type": "code",
   "execution_count": 49,
   "id": "143f133c",
   "metadata": {},
   "outputs": [],
   "source": [
    "db.Breed.replace(breed_mapping_dict, inplace=True)"
   ]
  },
  {
   "cell_type": "code",
   "execution_count": 50,
   "id": "d1afea40",
   "metadata": {},
   "outputs": [],
   "source": [
    "db.Gender.replace(\"Male neutered\",\"Male\", inplace=True)\n",
    "db.Gender.replace(\"Female neutered\", \"Female\", inplace=True)"
   ]
  },
  {
   "cell_type": "code",
   "execution_count": 51,
   "id": "64a47502",
   "metadata": {},
   "outputs": [
    {
     "data": {
      "text/plain": [
       "Female     55095\n",
       "Male       51845\n",
       "No_info     2955\n",
       "Name: Gender, dtype: int64"
      ]
     },
     "execution_count": 51,
     "metadata": {},
     "output_type": "execute_result"
    }
   ],
   "source": [
    "db.Gender.value_counts()"
   ]
  },
  {
   "cell_type": "code",
   "execution_count": 52,
   "id": "59bb4766",
   "metadata": {},
   "outputs": [
    {
     "data": {
      "text/plain": [
       "other              43896\n",
       "sporting           25823\n",
       "working            22627\n",
       "common_domestic     6244\n",
       "toy                 6021\n",
       "herding             4581\n",
       "non_sporting         703\n",
       "Name: Breed, dtype: int64"
      ]
     },
     "execution_count": 52,
     "metadata": {},
     "output_type": "execute_result"
    }
   ],
   "source": [
    "db.Breed.value_counts()"
   ]
  },
  {
   "cell_type": "code",
   "execution_count": 210,
   "id": "9b17d6f3",
   "metadata": {},
   "outputs": [
    {
     "data": {
      "text/plain": [
       "Lipoma                                  22421\n",
       "Mast Cell Tumour                        13530\n",
       "Carcinoma                               12712\n",
       "Sarcoma                                  7789\n",
       "Histiocytoma                             7681\n",
       "                                        ...  \n",
       "Trichofolliculoma                          13\n",
       "Chondroma                                  13\n",
       "Osteoma                                    11\n",
       "Transmissible Venereal Tumour              11\n",
       "Amyloid-Producing Odontogenic Tumour       11\n",
       "Name: Primary_tumour, Length: 78, dtype: int64"
      ]
     },
     "execution_count": 210,
     "metadata": {},
     "output_type": "execute_result"
    }
   ],
   "source": [
    "db.Primary_tumour.value_counts()"
   ]
  },
  {
   "cell_type": "code",
   "execution_count": 211,
   "id": "472ac685",
   "metadata": {},
   "outputs": [],
   "source": [
    "other_tumours = {}\n",
    "for tumour in db.Primary_tumour:\n",
    "    if tumour not in tumour_types:\n",
    "        other_tumours[tumour] = \"Other\""
   ]
  },
  {
   "cell_type": "code",
   "execution_count": 214,
   "id": "ebb2b158",
   "metadata": {},
   "outputs": [],
   "source": [
    "db.Primary_tumour.replace(other_tumours, inplace=True)"
   ]
  },
  {
   "cell_type": "code",
   "execution_count": 215,
   "id": "1c0de28d",
   "metadata": {},
   "outputs": [],
   "source": [
    "y = db[\"Multiple_instances\"]"
   ]
  },
  {
   "cell_type": "code",
   "execution_count": 265,
   "id": "e084406a",
   "metadata": {},
   "outputs": [],
   "source": [
    "x = db.drop([\"Multiple_instances\",\"Tumours_in_the_report\",\"Grade_2_tier\",\"Grade_3_tier\"], axis=1)"
   ]
  },
  {
   "cell_type": "code",
   "execution_count": 266,
   "id": "6030c738",
   "metadata": {},
   "outputs": [],
   "source": [
    "x.Primary_tumour=x.Primary_tumour.str.capitalize()"
   ]
  },
  {
   "cell_type": "code",
   "execution_count": 267,
   "id": "c32dbe1b",
   "metadata": {},
   "outputs": [
    {
     "data": {
      "text/plain": [
       "Index(['Species', 'Breed', 'Gender', 'Histo_Cyto', 'Primary_tumour',\n",
       "       'Location', 'Neutered'],\n",
       "      dtype='object')"
      ]
     },
     "execution_count": 267,
     "metadata": {},
     "output_type": "execute_result"
    }
   ],
   "source": [
    "x.columns"
   ]
  },
  {
   "cell_type": "code",
   "execution_count": 268,
   "id": "108bf308",
   "metadata": {},
   "outputs": [
    {
     "data": {
      "text/plain": [
       "Index(['Neutered', 'Feline', 'Herding', 'Non_sporting', 'Other', 'Sporting',\n",
       "       'Toy', 'Working', 'Male', 'No_info', 'Histology', 'Lipoma', 'Lymphoma',\n",
       "       'Other', 'Sarcoma', 'Head', 'Lymph_sys', 'Pelvic', 'Trunk_ex',\n",
       "       'Trunk_in'],\n",
       "      dtype='object')"
      ]
     },
     "execution_count": 268,
     "metadata": {},
     "output_type": "execute_result"
    }
   ],
   "source": [
    "Species = pd.get_dummies(x.Species, drop_first=True)\n",
    "Breed = pd.get_dummies(x.Breed, drop_first = True)\n",
    "Gender = pd.get_dummies(x.Gender, drop_first = True)\n",
    "Histo_Cyto = pd.get_dummies(x.Histo_Cyto, drop_first = True)\n",
    "Primary_tumour = pd.get_dummies(x.Primary_tumour, drop_first = True)\n",
    "Location = pd.get_dummies(x.Location, drop_first = True)\n",
    "\n",
    "x.drop([\"Species\",\"Breed\",\"Gender\",\"Histo_Cyto\",\"Primary_tumour\",\"Location\"], axis=1, inplace=True)\n",
    "\n",
    "x=pd.concat([x,Species,Breed,Gender,Histo_Cyto,Primary_tumour,Location],axis=1)\n",
    "x.columns"
   ]
  },
  {
   "cell_type": "code",
   "execution_count": 269,
   "id": "9729e8ee",
   "metadata": {},
   "outputs": [],
   "source": [
    "x.drop([\"Non_sporting\",\"Working\",\"Lymphoma\",\"Lymph_sys\"], axis=1, inplace=True)"
   ]
  },
  {
   "cell_type": "code",
   "execution_count": 465,
   "id": "240d2d14",
   "metadata": {},
   "outputs": [],
   "source": [
    "regxtrain, regxtest, regytrain, regytest = train_test_split(x,y,test_size=.2, random_state=321)"
   ]
  },
  {
   "cell_type": "code",
   "execution_count": null,
   "id": "a2ddcb64",
   "metadata": {},
   "outputs": [],
   "source": []
  },
  {
   "cell_type": "code",
   "execution_count": 466,
   "id": "efcd44d7",
   "metadata": {},
   "outputs": [
    {
     "data": {
      "text/plain": [
       "LogisticRegression()"
      ]
     },
     "execution_count": 466,
     "metadata": {},
     "output_type": "execute_result"
    }
   ],
   "source": [
    "logreg.fit(regxtrain,regytrain)"
   ]
  },
  {
   "cell_type": "code",
   "execution_count": 306,
   "id": "8cc30542",
   "metadata": {},
   "outputs": [
    {
     "data": {
      "text/plain": [
       "0.7506710951362664"
      ]
     },
     "execution_count": 306,
     "metadata": {},
     "output_type": "execute_result"
    }
   ],
   "source": [
    "logreg.score(regxtest,regytest)"
   ]
  },
  {
   "cell_type": "code",
   "execution_count": 293,
   "id": "de4a383c",
   "metadata": {},
   "outputs": [],
   "source": [
    "Ydata = db[\"Multiple_instances\"]"
   ]
  },
  {
   "cell_type": "code",
   "execution_count": 294,
   "id": "fd4f9e7f",
   "metadata": {},
   "outputs": [],
   "source": [
    "Xdata = db.drop(\"Tumours_in_the_report\", axis=1)"
   ]
  },
  {
   "cell_type": "code",
   "execution_count": 467,
   "id": "1d2b3a2f",
   "metadata": {},
   "outputs": [
    {
     "name": "stderr",
     "output_type": "stream",
     "text": [
      "/opt/anaconda3/lib/python3.8/site-packages/seaborn/_decorators.py:36: FutureWarning: Pass the following variables as keyword args: x, y. From version 0.12, the only valid positional argument will be `data`, and passing other arguments without an explicit keyword will result in an error or misinterpretation.\n",
      "  warnings.warn(\n"
     ]
    },
    {
     "data": {
      "text/plain": [
       "(array([ 0,  1,  2,  3,  4,  5,  6,  7,  8,  9, 10, 11, 12, 13]),\n",
       " [Text(0, 0, 'Neutered'),\n",
       "  Text(1, 0, 'Feline'),\n",
       "  Text(2, 0, 'Herding'),\n",
       "  Text(3, 0, 'Other_tumour_type'),\n",
       "  Text(4, 0, 'Sporting'),\n",
       "  Text(5, 0, 'Toy'),\n",
       "  Text(6, 0, 'Male'),\n",
       "  Text(7, 0, 'Histology'),\n",
       "  Text(8, 0, 'Lipoma'),\n",
       "  Text(9, 0, 'Sarcoma'),\n",
       "  Text(10, 0, 'Head'),\n",
       "  Text(11, 0, 'Pelvic'),\n",
       "  Text(12, 0, 'Trunk_ex'),\n",
       "  Text(13, 0, 'Trunk_in')])"
      ]
     },
     "execution_count": 467,
     "metadata": {},
     "output_type": "execute_result"
    },
    {
     "data": {
      "image/png": "[encoded data removed]",
      "text/plain": [
       "<Figure size 432x288 with 1 Axes>"
      ]
     },
     "metadata": {
      "needs_background": "light"
     },
     "output_type": "display_data"
    }
   ],
   "source": [
    "sns.barplot(regxtest.columns, logreg.coef_.flatten(), color='b')\n",
    "plt.xticks(rotation=90)"
   ]
  },
  {
   "cell_type": "code",
   "execution_count": 273,
   "id": "93f08248",
   "metadata": {},
   "outputs": [
    {
     "data": {
      "text/plain": [
       "Index(['Neutered', 'Feline', 'Herding', 'Other', 'Sporting', 'Toy', 'Male',\n",
       "       'No_info', 'Histology', 'Lipoma', 'Other', 'Sarcoma', 'Head', 'Pelvic',\n",
       "       'Trunk_ex', 'Trunk_in'],\n",
       "      dtype='object')"
      ]
     },
     "execution_count": 273,
     "metadata": {},
     "output_type": "execute_result"
    }
   ],
   "source": [
    "x.columns"
   ]
  },
  {
   "cell_type": "code",
   "execution_count": 301,
   "id": "5a600267",
   "metadata": {},
   "outputs": [],
   "source": [
    "logreg=LogisticRegression()"
   ]
  },
  {
   "cell_type": "code",
   "execution_count": 206,
   "id": "bc236dc0",
   "metadata": {},
   "outputs": [],
   "source": [
    "tumour_list = list(set(db.Primary_tumour.copy()))\n",
    "tumour_types = [\"Carcinoma\",\"carcinoma\",\"Sarcoma\",\"sarcoma\",\"Myeloma\",\"myeloma\",\"Leukemia\",\"leukemia\",\"Lymphoma\",\"lymphoma\",\"Lipoma\",\"lipoma\"]"
   ]
  },
  {
   "cell_type": "code",
   "execution_count": 207,
   "id": "0130f1c1",
   "metadata": {},
   "outputs": [],
   "source": [
    "tumour_mapping_dict = {}\n",
    "for tumour in tumour_list:\n",
    "    for ttype in tumour_types:\n",
    "        if ttype in tumour:\n",
    "            tumour_mapping_dict[tumour]=ttype\n",
    "        \n",
    "        "
   ]
  },
  {
   "cell_type": "code",
   "execution_count": 208,
   "id": "6129c916",
   "metadata": {},
   "outputs": [
    {
     "data": {
      "text/plain": [
       "{'Lymphoma': 'Lymphoma',\n",
       " 'Sarcoma': 'Sarcoma',\n",
       " 'Carcinoma': 'Carcinoma',\n",
       " 'Angiolipoma': 'lipoma',\n",
       " 'Myelolipoma': 'lipoma',\n",
       " 'Lipoma': 'Lipoma'}"
      ]
     },
     "execution_count": 208,
     "metadata": {},
     "output_type": "execute_result"
    }
   ],
   "source": [
    "tumour_mapping_dict"
   ]
  },
  {
   "cell_type": "code",
   "execution_count": 209,
   "id": "7e03c0aa",
   "metadata": {},
   "outputs": [],
   "source": [
    "db.Primary_tumour.replace(tumour_mapping_dict, inplace=True)"
   ]
  },
  {
   "cell_type": "code",
   "execution_count": 84,
   "id": "b7f67e1a",
   "metadata": {},
   "outputs": [],
   "source": [
    "db.Breed=db.Breed.str.capitalize()\n",
    "db.Primary_tumour=db.Primary_tumour.str.title()\n",
    "db.Location=db.Location.str.capitalize()"
   ]
  },
  {
   "cell_type": "code",
   "execution_count": 105,
   "id": "abb87e49",
   "metadata": {},
   "outputs": [],
   "source": [
    "count_list=[]\n",
    "for val in db.Tumours_in_the_report:\n",
    "    if val > 1:\n",
    "        count_list.append(1)\n",
    "    else:\n",
    "        count_list.append(0)\n",
    "        "
   ]
  },
  {
   "cell_type": "code",
   "execution_count": 107,
   "id": "affd9f47",
   "metadata": {},
   "outputs": [],
   "source": [
    "db[\"Multiple_instances\"]=count_list"
   ]
  },
  {
   "cell_type": "code",
   "execution_count": 110,
   "id": "d255aaa2",
   "metadata": {},
   "outputs": [
    {
     "data": {
      "text/plain": [
       "0    82479\n",
       "1    27416\n",
       "Name: Multiple_instances, dtype: int64"
      ]
     },
     "execution_count": 110,
     "metadata": {},
     "output_type": "execute_result"
    }
   ],
   "source": [
    "db.Multiple_instances.value_counts()"
   ]
  },
  {
   "cell_type": "code",
   "execution_count": 279,
   "id": "8a027f40",
   "metadata": {},
   "outputs": [],
   "source": [
    "Xdata = db.drop(labels=[\"Tumours_in_the_report\",\"Grade_2_tier\",\"Grade_3_tier\",\"Multiple_instances\"], axis=1)"
   ]
  },
  {
   "cell_type": "code",
   "execution_count": 312,
   "id": "a8185ab5",
   "metadata": {},
   "outputs": [],
   "source": [
    "Ydata = db.Multiple_instances"
   ]
  },
  {
   "cell_type": "code",
   "execution_count": 276,
   "id": "decff84d",
   "metadata": {},
   "outputs": [
    {
     "data": {
      "text/plain": [
       "Other        61778\n",
       "Lipoma       22421\n",
       "Carcinoma    12712\n",
       "Sarcoma       7789\n",
       "Lymphoma      5126\n",
       "lipoma          69\n",
       "Name: Primary_tumour, dtype: int64"
      ]
     },
     "execution_count": 276,
     "metadata": {},
     "output_type": "execute_result"
    }
   ],
   "source": [
    "Xdata.Primary_tumour.value_counts()"
   ]
  },
  {
   "cell_type": "code",
   "execution_count": 280,
   "id": "67b48906",
   "metadata": {},
   "outputs": [],
   "source": [
    "Xdata.Primary_tumour = Xdata.Primary_tumour.str.capitalize()"
   ]
  },
  {
   "cell_type": "code",
   "execution_count": 282,
   "id": "47f03385",
   "metadata": {},
   "outputs": [
    {
     "data": {
      "text/plain": [
       "Other        61778\n",
       "Lipoma       22490\n",
       "Carcinoma    12712\n",
       "Sarcoma       7789\n",
       "Lymphoma      5126\n",
       "Name: Primary_tumour, dtype: int64"
      ]
     },
     "execution_count": 282,
     "metadata": {},
     "output_type": "execute_result"
    }
   ],
   "source": [
    "Xdata.Primary_tumour.value_counts()"
   ]
  },
  {
   "cell_type": "code",
   "execution_count": 114,
   "id": "e6d13b4e",
   "metadata": {},
   "outputs": [],
   "source": [
    "from sklearn.model_selection import train_test_split"
   ]
  },
  {
   "cell_type": "code",
   "execution_count": 283,
   "id": "76f6e4c0",
   "metadata": {},
   "outputs": [],
   "source": [
    "X,Xtest,Y,Ytest = train_test_split(Xdata,Ydata,test_size=0.2,random_state=321)"
   ]
  },
  {
   "cell_type": "code",
   "execution_count": 284,
   "id": "39323a4c",
   "metadata": {},
   "outputs": [],
   "source": [
    "Xtrain,Xhold,Ytrain,Yhold = train_test_split(X,Y,test_size=.25,random_state=321)"
   ]
  },
  {
   "cell_type": "code",
   "execution_count": 285,
   "id": "4ef17ed5",
   "metadata": {},
   "outputs": [
    {
     "data": {
      "text/plain": [
       "25543     1\n",
       "52171     0\n",
       "63874     1\n",
       "42938     1\n",
       "35709     0\n",
       "         ..\n",
       "405       0\n",
       "79163     0\n",
       "90601     0\n",
       "5330      0\n",
       "109237    0\n",
       "Name: Multiple_instances, Length: 65937, dtype: int64"
      ]
     },
     "execution_count": 285,
     "metadata": {},
     "output_type": "execute_result"
    }
   ],
   "source": [
    "Ytrain"
   ]
  },
  {
   "cell_type": "code",
   "execution_count": 286,
   "id": "e544b935",
   "metadata": {},
   "outputs": [
    {
     "data": {
      "text/html": [
       "<div>\n",
       "<style scoped>\n",
       "    .dataframe tbody tr th:only-of-type {\n",
       "        vertical-align: middle;\n",
       "    }\n",
       "\n",
       "    .dataframe tbody tr th {\n",
       "        vertical-align: top;\n",
       "    }\n",
       "\n",
       "    .dataframe thead th {\n",
       "        text-align: right;\n",
       "    }\n",
       "</style>\n",
       "<table border=\"1\" class=\"dataframe\">\n",
       "  <thead>\n",
       "    <tr style=\"text-align: right;\">\n",
       "      <th></th>\n",
       "      <th>Species</th>\n",
       "      <th>Breed</th>\n",
       "      <th>Gender</th>\n",
       "      <th>Histo_Cyto</th>\n",
       "      <th>Primary_tumour</th>\n",
       "      <th>Location</th>\n",
       "      <th>Neutered</th>\n",
       "    </tr>\n",
       "  </thead>\n",
       "  <tbody>\n",
       "    <tr>\n",
       "      <th>25543</th>\n",
       "      <td>Canine</td>\n",
       "      <td>Working</td>\n",
       "      <td>Male</td>\n",
       "      <td>Cytology</td>\n",
       "      <td>Other</td>\n",
       "      <td>Pelvic</td>\n",
       "      <td>0</td>\n",
       "    </tr>\n",
       "    <tr>\n",
       "      <th>52171</th>\n",
       "      <td>Canine</td>\n",
       "      <td>Working</td>\n",
       "      <td>Male</td>\n",
       "      <td>Histology</td>\n",
       "      <td>Other</td>\n",
       "      <td>Trunk_in</td>\n",
       "      <td>1</td>\n",
       "    </tr>\n",
       "    <tr>\n",
       "      <th>63874</th>\n",
       "      <td>Canine</td>\n",
       "      <td>Toy</td>\n",
       "      <td>Male</td>\n",
       "      <td>Histology</td>\n",
       "      <td>Lipoma</td>\n",
       "      <td>Extremities</td>\n",
       "      <td>1</td>\n",
       "    </tr>\n",
       "    <tr>\n",
       "      <th>42938</th>\n",
       "      <td>Canine</td>\n",
       "      <td>Other</td>\n",
       "      <td>Male</td>\n",
       "      <td>Cytology</td>\n",
       "      <td>Other</td>\n",
       "      <td>Pelvic</td>\n",
       "      <td>0</td>\n",
       "    </tr>\n",
       "    <tr>\n",
       "      <th>35709</th>\n",
       "      <td>Canine</td>\n",
       "      <td>Other</td>\n",
       "      <td>Female</td>\n",
       "      <td>Cytology</td>\n",
       "      <td>Other</td>\n",
       "      <td>Extremities</td>\n",
       "      <td>1</td>\n",
       "    </tr>\n",
       "    <tr>\n",
       "      <th>...</th>\n",
       "      <td>...</td>\n",
       "      <td>...</td>\n",
       "      <td>...</td>\n",
       "      <td>...</td>\n",
       "      <td>...</td>\n",
       "      <td>...</td>\n",
       "      <td>...</td>\n",
       "    </tr>\n",
       "    <tr>\n",
       "      <th>405</th>\n",
       "      <td>Canine</td>\n",
       "      <td>Sporting</td>\n",
       "      <td>Female</td>\n",
       "      <td>Cytology</td>\n",
       "      <td>Lipoma</td>\n",
       "      <td>Trunk_ex</td>\n",
       "      <td>1</td>\n",
       "    </tr>\n",
       "    <tr>\n",
       "      <th>79163</th>\n",
       "      <td>Canine</td>\n",
       "      <td>Sporting</td>\n",
       "      <td>Female</td>\n",
       "      <td>Histology</td>\n",
       "      <td>Other</td>\n",
       "      <td>Extremities</td>\n",
       "      <td>1</td>\n",
       "    </tr>\n",
       "    <tr>\n",
       "      <th>90601</th>\n",
       "      <td>Feline</td>\n",
       "      <td>Common_domestic</td>\n",
       "      <td>Male</td>\n",
       "      <td>Histology</td>\n",
       "      <td>Other</td>\n",
       "      <td>Trunk_in</td>\n",
       "      <td>1</td>\n",
       "    </tr>\n",
       "    <tr>\n",
       "      <th>5330</th>\n",
       "      <td>Canine</td>\n",
       "      <td>Other</td>\n",
       "      <td>Female</td>\n",
       "      <td>Histology</td>\n",
       "      <td>Other</td>\n",
       "      <td>Trunk_in</td>\n",
       "      <td>0</td>\n",
       "    </tr>\n",
       "    <tr>\n",
       "      <th>109237</th>\n",
       "      <td>Canine</td>\n",
       "      <td>Sporting</td>\n",
       "      <td>Female</td>\n",
       "      <td>Cytology</td>\n",
       "      <td>Lipoma</td>\n",
       "      <td>Trunk_ex</td>\n",
       "      <td>1</td>\n",
       "    </tr>\n",
       "  </tbody>\n",
       "</table>\n",
       "<p>65937 rows × 7 columns</p>\n",
       "</div>"
      ],
      "text/plain": [
       "       Species            Breed  Gender Histo_Cyto Primary_tumour  \\\n",
       "25543   Canine          Working    Male   Cytology          Other   \n",
       "52171   Canine          Working    Male  Histology          Other   \n",
       "63874   Canine              Toy    Male  Histology         Lipoma   \n",
       "42938   Canine            Other    Male   Cytology          Other   \n",
       "35709   Canine            Other  Female   Cytology          Other   \n",
       "...        ...              ...     ...        ...            ...   \n",
       "405     Canine         Sporting  Female   Cytology         Lipoma   \n",
       "79163   Canine         Sporting  Female  Histology          Other   \n",
       "90601   Feline  Common_domestic    Male  Histology          Other   \n",
       "5330    Canine            Other  Female  Histology          Other   \n",
       "109237  Canine         Sporting  Female   Cytology         Lipoma   \n",
       "\n",
       "           Location  Neutered  \n",
       "25543        Pelvic         0  \n",
       "52171      Trunk_in         1  \n",
       "63874   Extremities         1  \n",
       "42938        Pelvic         0  \n",
       "35709   Extremities         1  \n",
       "...             ...       ...  \n",
       "405        Trunk_ex         1  \n",
       "79163   Extremities         1  \n",
       "90601      Trunk_in         1  \n",
       "5330       Trunk_in         0  \n",
       "109237     Trunk_ex         1  \n",
       "\n",
       "[65937 rows x 7 columns]"
      ]
     },
     "execution_count": 286,
     "metadata": {},
     "output_type": "execute_result"
    }
   ],
   "source": [
    "Xtrain"
   ]
  },
  {
   "cell_type": "code",
   "execution_count": 287,
   "id": "16893c10",
   "metadata": {},
   "outputs": [
    {
     "data": {
      "text/plain": [
       "42032     0\n",
       "2693      0\n",
       "38788     1\n",
       "73365     0\n",
       "49378     0\n",
       "         ..\n",
       "22587     0\n",
       "2911      0\n",
       "107452    1\n",
       "79453     0\n",
       "10921     0\n",
       "Name: Multiple_instances, Length: 21979, dtype: int64"
      ]
     },
     "execution_count": 287,
     "metadata": {},
     "output_type": "execute_result"
    }
   ],
   "source": [
    "Ytest"
   ]
  },
  {
   "cell_type": "code",
   "execution_count": 288,
   "id": "fe14f61d",
   "metadata": {},
   "outputs": [
    {
     "data": {
      "text/plain": [
       "101052    0\n",
       "32808     0\n",
       "71862     1\n",
       "79666     0\n",
       "51896     1\n",
       "         ..\n",
       "103333    0\n",
       "60690     0\n",
       "98840     1\n",
       "64683     1\n",
       "14978     0\n",
       "Name: Multiple_instances, Length: 21979, dtype: int64"
      ]
     },
     "execution_count": 288,
     "metadata": {},
     "output_type": "execute_result"
    }
   ],
   "source": [
    "Yhold"
   ]
  },
  {
   "cell_type": "code",
   "execution_count": 289,
   "id": "cc875028",
   "metadata": {},
   "outputs": [],
   "source": [
    "from sklearn.metrics import (confusion_matrix,\n",
    "                             precision_score,\n",
    "                             recall_score,\n",
    "                             f1_score,\n",
    "                            precision_recall_curve)"
   ]
  },
  {
   "cell_type": "code",
   "execution_count": 307,
   "id": "ffd432ad",
   "metadata": {},
   "outputs": [],
   "source": [
    "from sklearn.tree import DecisionTreeClassifier\n",
    "from sklearn.ensemble import RandomForestClassifier\n"
   ]
  },
  {
   "cell_type": "code",
   "execution_count": 391,
   "id": "b3cd3019",
   "metadata": {},
   "outputs": [],
   "source": [
    "decTree = DecisionTreeClassifier(max_depth=8)\n",
    "ranTree = RandomForestClassifier(max_depth=8)"
   ]
  },
  {
   "cell_type": "code",
   "execution_count": 315,
   "id": "2d3723e7",
   "metadata": {},
   "outputs": [
    {
     "data": {
      "text/plain": [
       "0         0\n",
       "1         0\n",
       "2         0\n",
       "3         0\n",
       "4         1\n",
       "         ..\n",
       "109890    1\n",
       "109891    1\n",
       "109892    0\n",
       "109893    0\n",
       "109894    0\n",
       "Name: Multiple_instances, Length: 109895, dtype: int64"
      ]
     },
     "execution_count": 315,
     "metadata": {},
     "output_type": "execute_result"
    }
   ],
   "source": [
    "treeXdata=Xdata.drop([\"Grade_2_tier\",\"Grade_3_tier\",\"Multiple_instances\"], axis=1)\n",
    "treeYdata=Ydata"
   ]
  },
  {
   "cell_type": "code",
   "execution_count": 310,
   "id": "76e0ee4a",
   "metadata": {},
   "outputs": [
    {
     "data": {
      "text/html": [
       "<div>\n",
       "<style scoped>\n",
       "    .dataframe tbody tr th:only-of-type {\n",
       "        vertical-align: middle;\n",
       "    }\n",
       "\n",
       "    .dataframe tbody tr th {\n",
       "        vertical-align: top;\n",
       "    }\n",
       "\n",
       "    .dataframe thead th {\n",
       "        text-align: right;\n",
       "    }\n",
       "</style>\n",
       "<table border=\"1\" class=\"dataframe\">\n",
       "  <thead>\n",
       "    <tr style=\"text-align: right;\">\n",
       "      <th></th>\n",
       "      <th>Species</th>\n",
       "      <th>Breed</th>\n",
       "      <th>Gender</th>\n",
       "      <th>Histo_Cyto</th>\n",
       "      <th>Primary_tumour</th>\n",
       "      <th>Location</th>\n",
       "      <th>Neutered</th>\n",
       "    </tr>\n",
       "  </thead>\n",
       "  <tbody>\n",
       "    <tr>\n",
       "      <th>0</th>\n",
       "      <td>Canine</td>\n",
       "      <td>Toy</td>\n",
       "      <td>Male</td>\n",
       "      <td>Histology</td>\n",
       "      <td>Other</td>\n",
       "      <td>Head</td>\n",
       "      <td>0</td>\n",
       "    </tr>\n",
       "    <tr>\n",
       "      <th>1</th>\n",
       "      <td>Canine</td>\n",
       "      <td>Sporting</td>\n",
       "      <td>Male</td>\n",
       "      <td>Cytology</td>\n",
       "      <td>Lipoma</td>\n",
       "      <td>Trunk_ex</td>\n",
       "      <td>1</td>\n",
       "    </tr>\n",
       "    <tr>\n",
       "      <th>2</th>\n",
       "      <td>Canine</td>\n",
       "      <td>Sporting</td>\n",
       "      <td>Female</td>\n",
       "      <td>Cytology</td>\n",
       "      <td>Lipoma</td>\n",
       "      <td>Trunk_ex</td>\n",
       "      <td>1</td>\n",
       "    </tr>\n",
       "    <tr>\n",
       "      <th>3</th>\n",
       "      <td>Canine</td>\n",
       "      <td>Sporting</td>\n",
       "      <td>Female</td>\n",
       "      <td>Cytology</td>\n",
       "      <td>Other</td>\n",
       "      <td>Trunk_ex</td>\n",
       "      <td>1</td>\n",
       "    </tr>\n",
       "    <tr>\n",
       "      <th>4</th>\n",
       "      <td>Canine</td>\n",
       "      <td>Sporting</td>\n",
       "      <td>Male</td>\n",
       "      <td>Cytology</td>\n",
       "      <td>Lipoma</td>\n",
       "      <td>Trunk_ex</td>\n",
       "      <td>1</td>\n",
       "    </tr>\n",
       "    <tr>\n",
       "      <th>...</th>\n",
       "      <td>...</td>\n",
       "      <td>...</td>\n",
       "      <td>...</td>\n",
       "      <td>...</td>\n",
       "      <td>...</td>\n",
       "      <td>...</td>\n",
       "      <td>...</td>\n",
       "    </tr>\n",
       "    <tr>\n",
       "      <th>109890</th>\n",
       "      <td>Canine</td>\n",
       "      <td>Other</td>\n",
       "      <td>Female</td>\n",
       "      <td>Cytology</td>\n",
       "      <td>Lipoma</td>\n",
       "      <td>Trunk_ex</td>\n",
       "      <td>1</td>\n",
       "    </tr>\n",
       "    <tr>\n",
       "      <th>109891</th>\n",
       "      <td>Canine</td>\n",
       "      <td>Other</td>\n",
       "      <td>Female</td>\n",
       "      <td>Cytology</td>\n",
       "      <td>Other</td>\n",
       "      <td>Head</td>\n",
       "      <td>1</td>\n",
       "    </tr>\n",
       "    <tr>\n",
       "      <th>109892</th>\n",
       "      <td>Canine</td>\n",
       "      <td>Sporting</td>\n",
       "      <td>Male</td>\n",
       "      <td>Cytology</td>\n",
       "      <td>Sarcoma</td>\n",
       "      <td>Lymph_sys</td>\n",
       "      <td>1</td>\n",
       "    </tr>\n",
       "    <tr>\n",
       "      <th>109893</th>\n",
       "      <td>Canine</td>\n",
       "      <td>Working</td>\n",
       "      <td>Male</td>\n",
       "      <td>Histology</td>\n",
       "      <td>Carcinoma</td>\n",
       "      <td>Head</td>\n",
       "      <td>1</td>\n",
       "    </tr>\n",
       "    <tr>\n",
       "      <th>109894</th>\n",
       "      <td>Canine</td>\n",
       "      <td>Working</td>\n",
       "      <td>Female</td>\n",
       "      <td>Cytology</td>\n",
       "      <td>Lymphoma</td>\n",
       "      <td>Lymph_sys</td>\n",
       "      <td>0</td>\n",
       "    </tr>\n",
       "  </tbody>\n",
       "</table>\n",
       "<p>109895 rows × 7 columns</p>\n",
       "</div>"
      ],
      "text/plain": [
       "       Species     Breed  Gender Histo_Cyto Primary_tumour   Location  \\\n",
       "0       Canine       Toy    Male  Histology          Other       Head   \n",
       "1       Canine  Sporting    Male   Cytology         Lipoma   Trunk_ex   \n",
       "2       Canine  Sporting  Female   Cytology         Lipoma   Trunk_ex   \n",
       "3       Canine  Sporting  Female   Cytology          Other   Trunk_ex   \n",
       "4       Canine  Sporting    Male   Cytology         Lipoma   Trunk_ex   \n",
       "...        ...       ...     ...        ...            ...        ...   \n",
       "109890  Canine     Other  Female   Cytology         Lipoma   Trunk_ex   \n",
       "109891  Canine     Other  Female   Cytology          Other       Head   \n",
       "109892  Canine  Sporting    Male   Cytology        Sarcoma  Lymph_sys   \n",
       "109893  Canine   Working    Male  Histology      Carcinoma       Head   \n",
       "109894  Canine   Working  Female   Cytology       Lymphoma  Lymph_sys   \n",
       "\n",
       "        Neutered  \n",
       "0              0  \n",
       "1              1  \n",
       "2              1  \n",
       "3              1  \n",
       "4              1  \n",
       "...          ...  \n",
       "109890         1  \n",
       "109891         1  \n",
       "109892         1  \n",
       "109893         1  \n",
       "109894         0  \n",
       "\n",
       "[109895 rows x 7 columns]"
      ]
     },
     "execution_count": 310,
     "metadata": {},
     "output_type": "execute_result"
    }
   ],
   "source": [
    "treeXdata"
   ]
  },
  {
   "cell_type": "code",
   "execution_count": 346,
   "id": "3dc28685",
   "metadata": {},
   "outputs": [],
   "source": [
    "def quick_test(model, x, y):\n",
    "    xtrain, xtest, ytrain, ytest = train_test_split(x, y, test_size=0.3)\n",
    "    model.fit(xtrain, ytrain)\n",
    "    return (model.score(xtest, ytest), confusion_matrix(ytest,model.predict(xtest)))\n",
    "# this code originated from the Metis Bootcamp Classification module, with addition of Confusion Matrix testing.\n",
    "\n",
    "def multi_test(model, x, y, n=10):\n",
    "    return (np.mean([quick_test(model, x, y)[0] for j in range(n)]),[quick_test(model, x, y)[1] for j in range(n)])"
   ]
  },
  {
   "cell_type": "code",
   "execution_count": 392,
   "id": "3478487c",
   "metadata": {},
   "outputs": [],
   "source": [
    "result_tuple = multi_test(decTree, x, y)"
   ]
  },
  {
   "cell_type": "code",
   "execution_count": 393,
   "id": "deff1301",
   "metadata": {},
   "outputs": [
    {
     "name": "stdout",
     "output_type": "stream",
     "text": [
      "[[23316  1397]\n",
      " [ 6531  1725]]\n",
      "[[23849   998]\n",
      " [ 6824  1298]]\n",
      "[[23785   951]\n",
      " [ 6948  1285]]\n",
      "[[23232  1469]\n",
      " [ 6610  1658]]\n",
      "[[23817   932]\n",
      " [ 6972  1248]]\n",
      "[[23637  1024]\n",
      " [ 7011  1297]]\n",
      "[[23606  1018]\n",
      " [ 7015  1330]]\n",
      "[[23710  1032]\n",
      " [ 6868  1359]]\n",
      "[[23688  1030]\n",
      " [ 6938  1313]]\n",
      "[[23360  1360]\n",
      " [ 6564  1685]]\n"
     ]
    }
   ],
   "source": [
    "for val in result_tuple[1]:\n",
    "    print(val)"
   ]
  },
  {
   "cell_type": "code",
   "execution_count": 395,
   "id": "5ad2fd86",
   "metadata": {},
   "outputs": [
    {
     "data": {
      "text/plain": [
       "0.7599199247778216"
      ]
     },
     "execution_count": 395,
     "metadata": {},
     "output_type": "execute_result"
    }
   ],
   "source": [
    "result_tuple[0]"
   ]
  },
  {
   "cell_type": "code",
   "execution_count": 396,
   "id": "93672943",
   "metadata": {},
   "outputs": [],
   "source": [
    "ran_results = multi_test(ranTree, x, y)"
   ]
  },
  {
   "cell_type": "code",
   "execution_count": 397,
   "id": "15a2d488",
   "metadata": {},
   "outputs": [
    {
     "data": {
      "text/plain": [
       "0.7551366435136037"
      ]
     },
     "execution_count": 397,
     "metadata": {},
     "output_type": "execute_result"
    }
   ],
   "source": [
    "ran_results[0]"
   ]
  },
  {
   "cell_type": "code",
   "execution_count": 406,
   "id": "ff3ac26a",
   "metadata": {},
   "outputs": [],
   "source": [
    "lr2 = LogisticRegression()"
   ]
  },
  {
   "cell_type": "code",
   "execution_count": 421,
   "id": "d3fbe9fa",
   "metadata": {},
   "outputs": [
    {
     "name": "stdout",
     "output_type": "stream",
     "text": [
      "0.7495677757893778\n"
     ]
    }
   ],
   "source": [
    "reg_results=multi_test(lr2,x,y)\n",
    "print(reg_results[0])"
   ]
  },
  {
   "cell_type": "code",
   "execution_count": 408,
   "id": "9e787521",
   "metadata": {},
   "outputs": [
    {
     "name": "stdout",
     "output_type": "stream",
     "text": [
      "[[24686    58]\n",
      " [ 8190    35]]\n",
      "[[24784    55]\n",
      " [ 8094    36]]\n",
      "[[24583    64]\n",
      " [ 8287    35]]\n",
      "[[24643    59]\n",
      " [ 8228    39]]\n",
      "[[24751    62]\n",
      " [ 8124    32]]\n",
      "[[24695    85]\n",
      " [ 8154    35]]\n",
      "[[24590    56]\n",
      " [ 8296    27]]\n",
      "[[24598    55]\n",
      " [ 8279    37]]\n",
      "[[24767    44]\n",
      " [ 8123    35]]\n",
      "[[24749    26]\n",
      " [ 8177    17]]\n"
     ]
    }
   ],
   "source": [
    "for val in reg_results[1]:\n",
    "    print(val)"
   ]
  },
  {
   "cell_type": "code",
   "execution_count": 478,
   "id": "55c58229",
   "metadata": {},
   "outputs": [
    {
     "data": {
      "text/plain": [
       "<AxesSubplot:>"
      ]
     },
     "execution_count": 478,
     "metadata": {},
     "output_type": "execute_result"
    },
    {
     "data": {
      "image/png": "[encoded data removed]",
      "text/plain": [
       "<Figure size 432x288 with 2 Axes>"
      ]
     },
     "metadata": {
      "needs_background": "light"
     },
     "output_type": "display_data"
    }
   ],
   "source": [
    "sns.heatmap(reg_results[1][0], cmap=\"PiYG\")"
   ]
  },
  {
   "cell_type": "code",
   "execution_count": 326,
   "id": "0e2f96f0",
   "metadata": {},
   "outputs": [
    {
     "data": {
      "text/plain": [
       "Index(['Neutered', 'Feline', 'Herding', 'Other', 'Sporting', 'Toy', 'Male',\n",
       "       'No_info', 'Histology', 'Lipoma', 'Other', 'Sarcoma', 'Head', 'Pelvic',\n",
       "       'Trunk_ex', 'Trunk_in'],\n",
       "      dtype='object')"
      ]
     },
     "execution_count": 326,
     "metadata": {},
     "output_type": "execute_result"
    }
   ],
   "source": []
  },
  {
   "cell_type": "code",
   "execution_count": 330,
   "id": "efe5676f",
   "metadata": {},
   "outputs": [],
   "source": [
    "column_dict = {'Neutered':'Neutered', 'Feline':'Feline', 'Herding':'Herding', 'Other':'Other_breeds', 'Sporting':'Sporting', 'Toy':'Toy', 'Male':'Male','No_info':'No_info', 'Histology':'Histology', 'Lipoma':'Lipoma', 'Other':'Other_tumour_type', 'Sarcoma':'Sarcoma', 'Head':'Head', 'Pelvic':'Pelvic','Trunk_ex':'Trunk_ex','Trunk_in':'Trunk_in'}\n",
    "x.rename(columns=column_dict, inplace=True)    "
   ]
  },
  {
   "cell_type": "code",
   "execution_count": 332,
   "id": "d277109c",
   "metadata": {},
   "outputs": [],
   "source": [
    "x.drop(\"No_info\", axis=1, inplace=True)"
   ]
  },
  {
   "cell_type": "code",
   "execution_count": 471,
   "id": "a80972e6",
   "metadata": {},
   "outputs": [],
   "source": [
    "decresults = multi_test(decTree, x, y)"
   ]
  },
  {
   "cell_type": "code",
   "execution_count": 472,
   "id": "d281f54a",
   "metadata": {},
   "outputs": [
    {
     "name": "stdout",
     "output_type": "stream",
     "text": [
      "[[23750   960]\n",
      " [ 6971  1288]]\n",
      "[[23810   998]\n",
      " [ 6859  1302]]\n",
      "[[23290  1368]\n",
      " [ 6604  1707]]\n",
      "[[23721  1046]\n",
      " [ 6920  1282]]\n",
      "[[23632   985]\n",
      " [ 7057  1295]]\n",
      "[[23380  1426]\n",
      " [ 6537  1626]]\n",
      "[[23706  1005]\n",
      " [ 6997  1261]]\n",
      "[[23751   985]\n",
      " [ 6962  1271]]\n",
      "[[23744  1035]\n",
      " [ 6879  1311]]\n",
      "[[23760   968]\n",
      " [ 7037  1204]]\n"
     ]
    }
   ],
   "source": [
    "for val in decresults[1]:\n",
    "    print(val)"
   ]
  },
  {
   "cell_type": "code",
   "execution_count": 477,
   "id": "533e57f7",
   "metadata": {},
   "outputs": [
    {
     "data": {
      "text/plain": [
       "<AxesSubplot:>"
      ]
     },
     "execution_count": 477,
     "metadata": {},
     "output_type": "execute_result"
    },
    {
     "data": {
      "image/png": "[encoded data removed]",
      "text/plain": [
       "<Figure size 432x288 with 2 Axes>"
      ]
     },
     "metadata": {
      "needs_background": "light"
     },
     "output_type": "display_data"
    }
   ],
   "source": [
    "sns.heatmap(decresults[1][5], cmap=\"PiYG\")"
   ]
  },
  {
   "cell_type": "code",
   "execution_count": 479,
   "id": "78b4556e",
   "metadata": {},
   "outputs": [],
   "source": [
    "ranresults = multi_test(ranTree,x,y)"
   ]
  },
  {
   "cell_type": "code",
   "execution_count": 480,
   "id": "9c4f1665",
   "metadata": {},
   "outputs": [
    {
     "name": "stdout",
     "output_type": "stream",
     "text": [
      "[[24396   363]\n",
      " [ 7768   442]]\n",
      "[[24343   408]\n",
      " [ 7651   567]]\n",
      "[[24229   518]\n",
      " [ 7510   712]]\n",
      "[[24433   420]\n",
      " [ 7563   553]]\n",
      "[[24721   166]\n",
      " [ 7860   222]]\n",
      "[[24224   531]\n",
      " [ 7504   710]]\n",
      "[[24204   576]\n",
      " [ 7439   750]]\n",
      "[[24314   449]\n",
      " [ 7590   616]]\n",
      "[[24451   386]\n",
      " [ 7606   526]]\n",
      "[[24238   550]\n",
      " [ 7454   727]]\n"
     ]
    }
   ],
   "source": [
    "for val in ranresults[1]:\n",
    "    print(val)"
   ]
  },
  {
   "cell_type": "code",
   "execution_count": 484,
   "id": "e06357ae",
   "metadata": {},
   "outputs": [
    {
     "data": {
      "text/plain": [
       "<AxesSubplot:>"
      ]
     },
     "execution_count": 484,
     "metadata": {},
     "output_type": "execute_result"
    },
    {
     "data": {
      "image/png": "[encoded data removed]",
      "text/plain": [
       "<Figure size 432x288 with 2 Axes>"
      ]
     },
     "metadata": {
      "needs_background": "light"
     },
     "output_type": "display_data"
    }
   ],
   "source": [
    "sns.heatmap(ranresults[1][6], cmap=\"PiYG\")"
   ]
  },
  {
   "cell_type": "code",
   "execution_count": 380,
   "id": "a5191ae2",
   "metadata": {},
   "outputs": [],
   "source": [
    "\n",
    "from sklearn.ensemble import AdaBoostClassifier\n"
   ]
  },
  {
   "cell_type": "code",
   "execution_count": 387,
   "id": "854bf2d4",
   "metadata": {},
   "outputs": [],
   "source": [
    "AdaBoost = AdaBoostClassifier(n_estimators=100)"
   ]
  },
  {
   "cell_type": "code",
   "execution_count": 388,
   "id": "006eda33",
   "metadata": {},
   "outputs": [],
   "source": [
    "adaresults=multi_test(AdaBoost,x,y)"
   ]
  },
  {
   "cell_type": "code",
   "execution_count": 389,
   "id": "a2be8114",
   "metadata": {},
   "outputs": [
    {
     "name": "stdout",
     "output_type": "stream",
     "text": [
      "[[24698    42]\n",
      " [ 8210    19]]\n",
      "[[24784    32]\n",
      " [ 8134    19]]\n",
      "[[24709    34]\n",
      " [ 8201    25]]\n",
      "[[24716    29]\n",
      " [ 8205    19]]\n",
      "[[24582    31]\n",
      " [ 8335    21]]\n",
      "[[24790    32]\n",
      " [ 8121    26]]\n",
      "[[24821    34]\n",
      " [ 8092    22]]\n",
      "[[24667    27]\n",
      " [ 8248    27]]\n",
      "[[24566    15]\n",
      " [ 8374    14]]\n",
      "[[24723    27]\n",
      " [ 8208    11]]\n"
     ]
    }
   ],
   "source": [
    "for val in adaresults[1]:\n",
    "    print(val)"
   ]
  },
  {
   "cell_type": "code",
   "execution_count": 394,
   "id": "7b92ff5c",
   "metadata": {},
   "outputs": [
    {
     "data": {
      "text/plain": [
       "0.7503958263823592"
      ]
     },
     "execution_count": 394,
     "metadata": {},
     "output_type": "execute_result"
    }
   ],
   "source": [
    "adaresults[0]"
   ]
  },
  {
   "cell_type": "code",
   "execution_count": 487,
   "id": "4d8e6069",
   "metadata": {},
   "outputs": [],
   "source": [
    "model_list=[(\"Decision_Tree\", decTree),(\"Logistic Regression\", lr2)]\n",
    "from sklearn.ensemble import VotingClassifier\n",
    "vc = VotingClassifier(estimators=model_list,voting=\"hard\",weights=[2,1.42])"
   ]
  },
  {
   "cell_type": "code",
   "execution_count": 488,
   "id": "c02f15f3",
   "metadata": {},
   "outputs": [],
   "source": [
    "vcresults = multi_test(vc,x,y)"
   ]
  },
  {
   "cell_type": "code",
   "execution_count": 489,
   "id": "b04e1fda",
   "metadata": {},
   "outputs": [
    {
     "name": "stdout",
     "output_type": "stream",
     "text": [
      "0.7599441899966636\n"
     ]
    }
   ],
   "source": [
    "print(vcresults[0])"
   ]
  },
  {
   "cell_type": "code",
   "execution_count": 490,
   "id": "c5b1812b",
   "metadata": {},
   "outputs": [
    {
     "name": "stdout",
     "output_type": "stream",
     "text": [
      "[[23733  1019]\n",
      " [ 6951  1266]]\n",
      "[[23765  1007]\n",
      " [ 6955  1242]]\n",
      "[[23719   986]\n",
      " [ 6996  1268]]\n",
      "[[23631  1062]\n",
      " [ 6927  1349]]\n",
      "[[23794   953]\n",
      " [ 6964  1258]]\n",
      "[[23843   966]\n",
      " [ 6866  1294]]\n",
      "[[23748   967]\n",
      " [ 6989  1265]]\n",
      "[[23660   983]\n",
      " [ 7005  1321]]\n",
      "[[23589  1000]\n",
      " [ 6997  1383]]\n",
      "[[23793  1011]\n",
      " [ 6899  1266]]\n"
     ]
    }
   ],
   "source": [
    "for val in vcresults[1]:\n",
    "    print(val)"
   ]
  },
  {
   "cell_type": "code",
   "execution_count": 491,
   "id": "dfbe348c",
   "metadata": {},
   "outputs": [
    {
     "data": {
      "text/plain": [
       "0.7599441899966636"
      ]
     },
     "execution_count": 491,
     "metadata": {},
     "output_type": "execute_result"
    }
   ],
   "source": [
    "vcresults[0]"
   ]
  },
  {
   "cell_type": "code",
   "execution_count": 493,
   "id": "0c48eef1",
   "metadata": {},
   "outputs": [
    {
     "data": {
      "text/plain": [
       "<AxesSubplot:>"
      ]
     },
     "execution_count": 493,
     "metadata": {},
     "output_type": "execute_result"
    },
    {
     "data": {
      "image/png": "[encoded data removed]",
      "text/plain": [
       "<Figure size 432x288 with 2 Axes>"
      ]
     },
     "metadata": {
      "needs_background": "light"
     },
     "output_type": "display_data"
    }
   ],
   "source": [
    "sns.heatmap(vcresults[1][8],cmap=\"PiYG\")"
   ]
  },
  {
   "cell_type": "code",
   "execution_count": 451,
   "id": "a6983af7",
   "metadata": {},
   "outputs": [
    {
     "data": {
      "text/plain": [
       "Index(['Neutered', 'Feline', 'Herding', 'Other_tumour_type', 'Sporting', 'Toy',\n",
       "       'Male', 'Histology', 'Lipoma', 'Other_tumour_type', 'Sarcoma', 'Head',\n",
       "       'Pelvic', 'Trunk_ex', 'Trunk_in'],\n",
       "      dtype='object')"
      ]
     },
     "execution_count": 451,
     "metadata": {},
     "output_type": "execute_result"
    }
   ],
   "source": [
    "x.columns"
   ]
  },
  {
   "cell_type": "code",
   "execution_count": 468,
   "id": "10cf0b01",
   "metadata": {},
   "outputs": [
    {
     "name": "stdout",
     "output_type": "stream",
     "text": [
      "<class 'pandas.core.frame.DataFrame'>\n",
      "RangeIndex: 109895 entries, 0 to 109894\n",
      "Data columns (total 15 columns):\n",
      " #   Column             Non-Null Count   Dtype\n",
      "---  ------             --------------   -----\n",
      " 0   Neutered           109895 non-null  int64\n",
      " 1   Feline             109895 non-null  uint8\n",
      " 2   Herding            109895 non-null  uint8\n",
      " 3   Other_tumour_type  109895 non-null  uint8\n",
      " 4   Sporting           109895 non-null  uint8\n",
      " 5   Toy                109895 non-null  uint8\n",
      " 6   Male               109895 non-null  uint8\n",
      " 7   Histology          109895 non-null  uint8\n",
      " 8   Lipoma             109895 non-null  uint8\n",
      " 9   Other_tumour_type  109895 non-null  uint8\n",
      " 10  Sarcoma            109895 non-null  uint8\n",
      " 11  Head               109895 non-null  uint8\n",
      " 12  Pelvic             109895 non-null  uint8\n",
      " 13  Trunk_ex           109895 non-null  uint8\n",
      " 14  Trunk_in           109895 non-null  uint8\n",
      "dtypes: int64(1), uint8(14)\n",
      "memory usage: 2.3 MB\n"
     ]
    }
   ],
   "source": [
    "x.info()"
   ]
  },
  {
   "cell_type": "code",
   "execution_count": null,
   "id": "47f617b7",
   "metadata": {},
   "outputs": [],
   "source": []
  }
 ],
 "metadata": {
  "kernelspec": {
   "display_name": "Python 3",
   "language": "python",
   "name": "python3"
  },
  "language_info": {
   "codemirror_mode": {
    "name": "ipython",
    "version": 3
   },
   "file_extension": ".py",
   "mimetype": "text/x-python",
   "name": "python",
   "nbconvert_exporter": "python",
   "pygments_lexer": "ipython3",
   "version": "3.8.8"
  }
 },
 "nbformat": 4,
 "nbformat_minor": 5
}
